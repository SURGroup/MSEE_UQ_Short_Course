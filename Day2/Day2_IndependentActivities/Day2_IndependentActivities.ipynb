{
 "cells": [
  {
   "cell_type": "markdown",
   "id": "7a6664cb",
   "metadata": {
    "slideshow": {
     "slide_type": "slide"
    }
   },
   "source": [
    "# MSEE UQ short course:  The $\\texttt{UQpy}$ library\n",
    "\n",
    "Application of surrogate modeling using the $\\texttt{UQpy}$ module $\\texttt{surrogates}$.\n",
    "\n",
    "Detailed instructions on how to use this module can be found in the $\\texttt{UQpy}$ documentation.\n",
    "\n",
    "https://uqpyproject.readthedocs.io/en/latest/surrogates/index.html"
   ]
  },
  {
   "cell_type": "markdown",
   "id": "4a3400b5",
   "metadata": {},
   "source": [
    "# Activity 1\n",
    "\n",
    "1. Build the PCE surrogate for the 1-D Bouc-Wen model for:\n",
    "    - For 100 training data.\n",
    "    - maximum PCE order p=4.\n",
    "    - Ridge regression methods.\n",
    "    For this case, estimate the first two moments (mean and variance) of the PCE surrogate.\n"
   ]
  },
  {
   "cell_type": "code",
   "execution_count": 1,
   "id": "e30734a3",
   "metadata": {},
   "outputs": [
    {
     "name": "stdout",
     "output_type": "stream",
     "text": [
      "Moments from Ridge regression : (6.0449, 0.9782)\n"
     ]
    }
   ],
   "source": [
    "# Activity 1 - Solution\n",
    "from UQpy.run_model.RunModel import RunModel\n",
    "from UQpy.run_model.model_execution.PythonModel import PythonModel\n",
    "import numpy as np\n",
    "import matplotlib.pyplot as plt\n",
    "from UQpy.surrogates import *\n",
    "from UQpy.sampling import MonteCarloSampling\n",
    "from UQpy.distributions.collection import Uniform\n",
    "\n",
    "distribution=Uniform(0.5, 3.0)\n",
    "\n",
    "\n",
    "training_sampling = MonteCarloSampling(distributions=distribution, nsamples=100)\n",
    "training_samples=training_sampling.samples\n",
    "\n",
    "m=PythonModel(model_script='model_1D.py', model_object_name='boucwen_runmodel', var_names=['r0'])\n",
    "boucwen = RunModel(m)\n",
    "boucwen.run(samples=training_samples)\n",
    "\n",
    "maximum_displacement = boucwen.qoi_list[:100]\n",
    "\n",
    "from UQpy.surrogates.polynomial_chaos import PolynomialBasis, RidgeRegression, PolynomialChaosExpansion\n",
    "\n",
    "polys = TotalDegreeBasis(distributions=distribution, max_degree=4)\n",
    "ridge = RidgeRegression()\n",
    "pce = PolynomialChaosExpansion(polynomial_basis=polys,regression_method=ridge)\n",
    "\n",
    "pce.fit(training_samples,np.array(maximum_displacement).reshape(100,1))\n",
    "\n",
    "prediction_sampling=MonteCarloSampling(distributions=[distribution], nsamples=100)\n",
    "prediction_results=pce.predict(prediction_sampling.samples)\n",
    "\n",
    "print('Moments from Ridge regression :', pce.get_moments())"
   ]
  },
  {
   "cell_type": "markdown",
   "id": "28eae516",
   "metadata": {},
   "source": [
    "## Activity 2\n",
    "\n",
    "1. Build the Gaussian Process Regression surrogate for the 1-D contact sphere model for:\n",
    "    - For 100 training data.\n",
    "    - Quadratic regression model\n",
    "    - Matern kernel\n"
   ]
  },
  {
   "cell_type": "code",
   "execution_count": null,
   "id": "afc1ba09",
   "metadata": {},
   "outputs": [],
   "source": [
    "K1 = GaussianProcessRegression(regression_model=QuadraticRegression(),\n",
    "                               kernel=Matern(), optimizations_number=20, \n",
    "                               hyperparameters=[1, 0.1])\n",
    "\n",
    "K1.fit(samples=training_samples.reshape(-1,1), values=maximum_displacement)\n"
   ]
  },
  {
   "cell_type": "markdown",
   "id": "614bd9ef",
   "metadata": {},
   "source": [
    "# Activity 3\n",
    "\n",
    "\n",
    "## Replace the $\\texttt{ThirdParty}$ model that calculates the Hugoniot relationships with a $\\texttt{GaussianProcessRegression}$.\n",
    "\n",
    "The model consists of the Rankine-Hugoniot equations. These equations describe the relationship between the states on both sides of a shock wave and express the conservation of mass, momentum and energy:\n",
    "\n",
    "   \\begin{align*}\n",
    "    & \\rho_0 U_s = \\rho_1(U_s -u_p)\\\\\n",
    "    & P_1=\\rho_0 U_s u_p \\\\\n",
    "    & E_1 -E_0=\\frac{1}{2}(P_1+P_0)(\\frac{1}{\\rho_0}-\\frac{1}{\\rho_1})\n",
    "   \\end{align*}\n",
    "\n",
    "given the relationship between $U_s, u_p$ can be computed and subsequently the quantities $\\rho_1, P_1$ and $E_1$ can be computed. We know that the relationship between the shock velocity $U_s$ and particle velocity $u_p$ is given by a cubic polynomial expression as follows:\n",
    "\n",
    "   \\begin{align*}\n",
    "    U_s = a_0 + a_1 \\cdot u_p + a_2 \\cdot u_p^2+ a_3 \\cdot u_p^3\n",
    "   \\end{align*}\n",
    "   \n",
    "where the polynomial parameters are uniformly distributed in the following ranges:\n",
    "\n",
    "   \\begin{align*}\n",
    "    & \\texttt{a}\\_\\texttt{0} \\sim \\mathcal{U}(5.3, 7.9) \\\\\n",
    "    & \\texttt{a}\\_\\texttt{1} \\sim \\mathcal{U}(0.83, 1.12) \\\\\n",
    "    & \\texttt{a}\\_\\texttt{2} \\sim \\mathcal{U}(-0.014, -0.002) \\\\\n",
    "    & \\texttt{a}\\_\\texttt{3} \\sim \\mathcal{U}(3.68e-4, 4.59e-4)\n",
    "   \\end{align*}\n",
    "\n",
    "To create the input data for the $\\texttt{GaussianProcessRegression}$ the RunModel of the $\\texttt{Day1}$ can be used. The surrogate given the a particle velocity values will be able to return all other quantities $U_s, \\rho_1, P_1, E_1$ at the specific state of the material.\n",
    "\n",
    "- The user must create a $\\texttt{GaussianProcessRegression}$ for each one of the following mappings:\n",
    "    - Particle Velocity $u_p$ - Shock Velocity $U_s$\n",
    "    - Particle Velocity $u_p$ - Density $\\rho_1$\n",
    "    - Particle Velocity $u_p$ - Pressure $P_1$\n",
    "    - Particle Velocity $u_p$ - Energy $E_1$\n",
    "    \n",
    "Then given a set of $50$ equidistant points in the range $[0,10]$ predict the respective quantities and plot their evolution over particle velocity. "
   ]
  },
  {
   "cell_type": "code",
   "execution_count": 2,
   "id": "1839e9f3",
   "metadata": {},
   "outputs": [],
   "source": [
    "#Solution\n",
    "import numpy as np\n",
    "import matplotlib.pyplot as plt\n",
    "from UQpy.run_model.RunModel import RunModel\n",
    "from UQpy.run_model.model_execution.ThirdPartyModel import ThirdPartyModel\n",
    "from UQpy.distributions import Uniform\n",
    "from UQpy.sampling.MonteCarloSampling import MonteCarloSampling\n",
    "\n",
    "dist1 = Uniform(loc=5.3, scale=2.6)\n",
    "dist2 = Uniform(loc=0.83, scale=0.29)\n",
    "dist3 = Uniform(loc=2.7, scale=1.2)\n",
    "dist4 = Uniform(loc=3.68e-4, scale=4.59e-4)\n",
    "\n",
    "x = MonteCarloSampling(distributions=[dist1, dist2, dist3, dist4], nsamples=5)\n",
    "samples = x.samples\n",
    "\n",
    "m1=ThirdPartyModel(model_script='HugoniotThirdPartyRunner.py', model_object_name = 'run_model',\n",
    "                  input_template='HugoniotCalculations.py', var_names=['a0', 'a1', 'a2', 'a3'],\n",
    "                  output_script='process_hugoniot_output.py', output_object_name='read_output')\n",
    "model_serial_third_party=RunModel(samples=samples,  model=m1)"
   ]
  },
  {
   "cell_type": "code",
   "execution_count": 3,
   "id": "03745fdd",
   "metadata": {},
   "outputs": [],
   "source": [
    "up=[]\n",
    "us=[]\n",
    "d=[]\n",
    "p=[]\n",
    "e=[]\n",
    "for result in model_serial_third_party.qoi_list:\n",
    "    up.extend(result[0])\n",
    "    us.extend(result[1])\n",
    "    d.extend(result[2])\n",
    "    p.extend(result[3])\n",
    "    e.extend(result[4])"
   ]
  },
  {
   "cell_type": "code",
   "execution_count": 4,
   "id": "b3cd786a",
   "metadata": {},
   "outputs": [],
   "source": [
    "from UQpy.surrogates.gaussian_process import *\n",
    "\n",
    "K_Us = GaussianProcessRegression(kernel=RBF(), optimizations_number=20, \n",
    "                                 hyperparameters=[1, 0.1, 0.01], noise=True)\n",
    "K_D = GaussianProcessRegression(kernel=RBF(), optimizations_number=20, \n",
    "                                 hyperparameters=[1, 0.1, 0.01], noise=True)\n",
    "K_P = GaussianProcessRegression(kernel=RBF(), optimizations_number=20, \n",
    "                                 hyperparameters=[1, 0.1, 0.01], noise=True)\n",
    "K_E = GaussianProcessRegression(kernel=RBF(), optimizations_number=20, \n",
    "                                 hyperparameters=[1, 0.1, 0.01], noise=True)\n",
    "\n",
    "K_Us.fit(samples=np.array(up).reshape(-1,1), values=np.array(us).reshape(-1,1))\n",
    "K_D.fit(samples=np.array(up).reshape(-1,1), values=np.array(d).reshape(-1,1))\n",
    "K_P.fit(samples=np.array(up).reshape(-1,1), values=np.array(p).reshape(-1,1))\n",
    "K_E.fit(samples=np.array(up).reshape(-1,1), values=np.array(e).reshape(-1,1))"
   ]
  },
  {
   "cell_type": "code",
   "execution_count": null,
   "id": "98edcd26",
   "metadata": {},
   "outputs": [],
   "source": [
    "prediction_particle_velocities = np.linspace(3.5, 8, 100)\n",
    "\n",
    "predicted_shock_velocity=[]\n",
    "predicted_density=[]\n",
    "predicted_pressure=[]\n",
    "predicted_energy=[]\n",
    "\n",
    "for x in prediction_particle_velocities:\n",
    "    predicted_shock_velocity.extend(K_Us.predict(x))\n",
    "    predicted_density.extend(K_D.predict(x))\n",
    "    predicted_pressure.extend(K_P.predict(x))\n",
    "    predicted_energy.extend(K_E.predict(x))"
   ]
  },
  {
   "cell_type": "code",
   "execution_count": null,
   "id": "c3732c7f",
   "metadata": {},
   "outputs": [],
   "source": []
  }
 ],
 "metadata": {
  "celltoolbar": "Slideshow",
  "kernelspec": {
   "display_name": "Python 3 (ipykernel)",
   "language": "python",
   "name": "python3"
  },
  "language_info": {
   "codemirror_mode": {
    "name": "ipython",
    "version": 3
   },
   "file_extension": ".py",
   "mimetype": "text/x-python",
   "name": "python",
   "nbconvert_exporter": "python",
   "pygments_lexer": "ipython3",
   "version": "3.9.12"
  }
 },
 "nbformat": 4,
 "nbformat_minor": 5
}
