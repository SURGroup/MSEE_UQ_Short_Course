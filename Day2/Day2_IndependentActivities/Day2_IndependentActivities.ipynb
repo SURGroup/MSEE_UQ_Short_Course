{
 "cells": [
  {
   "cell_type": "markdown",
   "id": "7a6664cb",
   "metadata": {
    "slideshow": {
     "slide_type": "slide"
    }
   },
   "source": [
    "# MSEE UQ short course:  The $\\texttt{UQpy}$ library\n",
    "\n",
    "Application of surrogate modeling using the $\\texttt{UQpy}$ module $\\texttt{surrogates}$.\n",
    "\n",
    "Detailed instructions on how to use this module can be found in the $\\texttt{UQpy}$ documentation.\n",
    "\n",
    "https://uqpyproject.readthedocs.io/en/latest/surrogates/index.html"
   ]
  },
  {
   "cell_type": "markdown",
   "id": "4a3400b5",
   "metadata": {},
   "source": [
    "# Activity 1\n",
    "\n",
    "1. Build the PCE surrogate for the 1-D Bouc-Wen model for:\n",
    "    - For 100 training data.\n",
    "    - maximum PCE order p=4.\n",
    "    - Ridge regression methods.\n",
    "    For this case, estimate the first two moments (mean and variance) of the PCE surrogate.\n"
   ]
  },
  {
   "cell_type": "code",
   "execution_count": null,
   "id": "e30734a3",
   "metadata": {},
   "outputs": [],
   "source": []
  },
  {
   "cell_type": "markdown",
   "id": "28eae516",
   "metadata": {},
   "source": [
    "## Activity 2\n",
    "\n",
    "1. Build the Gaussian Process Regression surrogate for the 1-D contact sphere model for:\n",
    "    - For 100 training data.\n",
    "    - Quadratic regression model\n",
    "    - Matern kernel\n"
   ]
  },
  {
   "cell_type": "code",
   "execution_count": null,
   "id": "afc1ba09",
   "metadata": {},
   "outputs": [],
   "source": []
  },
  {
   "cell_type": "markdown",
   "id": "614bd9ef",
   "metadata": {},
   "source": [
    "# Activity 3\n",
    "\n",
    "\n",
    "## Replace the $\\texttt{ThirdParty}$ model that calculates the Hugoniot relationships with a $\\texttt{GaussianProcessRegression}$.\n",
    "\n",
    "The model consists of the Rankine-Hugoniot equations. These equations describe the relationship between the states on both sides of a shock wave and express the conservation of mass, momentum and energy:\n",
    "\n",
    "   \\begin{align*}\n",
    "    & \\rho_0 U_s = \\rho_1(U_s -u_p)\\\\\n",
    "    & P_1=\\rho_0 U_s u_p \\\\\n",
    "    & E_1 -E_0=\\frac{1}{2}(P_1+P_0)(\\frac{1}{\\rho_0}-\\frac{1}{\\rho_1})\n",
    "   \\end{align*}\n",
    "\n",
    "given the relationship between $U_s, u_p$ can be computed and subsequently the quantities $\\rho_1, P_1$ and $E_1$ can be computed. We know that the relationship between the shock velocity $U_s$ and particle velocity $u_p$ is given by a cubic polynomial expression as follows:\n",
    "\n",
    "   \\begin{align*}\n",
    "    U_s = a_0 + a_1 \\cdot u_p + a_2 \\cdot u_p^2+ a_3 \\cdot u_p^3\n",
    "   \\end{align*}\n",
    "   \n",
    "where the polynomial parameters are uniformly distributed in the following ranges:\n",
    "\n",
    "   \\begin{align*}\n",
    "    & \\texttt{a}\\_\\texttt{0} \\sim \\mathcal{U}(5.3, 7.9) \\\\\n",
    "    & \\texttt{a}\\_\\texttt{1} \\sim \\mathcal{U}(0.83, 1.12) \\\\\n",
    "    & \\texttt{a}\\_\\texttt{2} \\sim \\mathcal{U}(-0.014, -0.002) \\\\\n",
    "    & \\texttt{a}\\_\\texttt{3} \\sim \\mathcal{U}(3.68e-4, 4.59e-4)\n",
    "   \\end{align*}\n",
    "\n",
    "To create the input data for the $\\texttt{GaussianProcessRegression}$ the RunModel of the $\\texttt{Day1}$ can be used. The surrogate given the a particle velocity values will be able to return all other quantities $U_s, \\rho_1, P_1, E_1$ at the specific state of the material.\n",
    "\n",
    "- The user must create a $\\texttt{GaussianProcessRegression}$ for each one of the following mappings:\n",
    "    - Particle Velocity $u_p$ - Shock Velocity $U_s$\n",
    "    - Particle Velocity $u_p$ - Density $\\rho_1$\n",
    "    - Particle Velocity $u_p$ - Pressure $P_1$\n",
    "    - Particle Velocity $u_p$ - Energy $E_1$\n",
    "    \n",
    "Then given a set of $50$ equidistant points in the range $[0,10]$ predict the respective quantities and plot their evolution over particle velocity. "
   ]
  },
  {
   "cell_type": "code",
   "execution_count": null,
   "id": "1839e9f3",
   "metadata": {},
   "outputs": [],
   "source": []
  }
 ],
 "metadata": {
  "celltoolbar": "Slideshow",
  "kernelspec": {
   "display_name": "Python 3 (ipykernel)",
   "language": "python",
   "name": "python3"
  },
  "language_info": {
   "codemirror_mode": {
    "name": "ipython",
    "version": 3
   },
   "file_extension": ".py",
   "mimetype": "text/x-python",
   "name": "python",
   "nbconvert_exporter": "python",
   "pygments_lexer": "ipython3",
   "version": "3.9.12"
  }
 },
 "nbformat": 4,
 "nbformat_minor": 5
}
