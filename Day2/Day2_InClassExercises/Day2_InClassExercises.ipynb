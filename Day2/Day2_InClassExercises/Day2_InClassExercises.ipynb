{
 "cells": [
  {
   "cell_type": "markdown",
   "id": "f35a4f4a",
   "metadata": {
    "slideshow": {
     "slide_type": "slide"
    }
   },
   "source": [
    "# MSEE UQ short course:  The $\\texttt{UQpy}$ library\n",
    "\n",
    "Application of surrogate modeling using the $\\texttt{UQpy}$ module $\\texttt{surrogates}$.\n",
    "\n",
    "Detailed instructions on how to use this module can be found in the $\\texttt{UQpy}$ documentation.\n",
    "\n",
    "https://uqpyproject.readthedocs.io/en/latest/surrogates/index.html"
   ]
  },
  {
   "cell_type": "markdown",
   "id": "f09fd4ed",
   "metadata": {},
   "source": [
    "# Exercise 1\n",
    "\n",
    "### Polynomial Chaos\n",
    "\n",
    "Build a PCE surrogate for the 1-D Bouc-Wen $\\texttt{Python}$ model. In this case, randomness is assumed in the systems' parameter $r_{0}$ which is uniformly distributed in the range [0.5, 3.5]. The response of interest is the maximum displacement $z(t)$ of the system."
   ]
  },
  {
   "cell_type": "markdown",
   "id": "b54d341c",
   "metadata": {},
   "source": [
    "### Step 1\n",
    "\n",
    "Create a distribution object for the random variable (see Day 1 activities)."
   ]
  },
  {
   "cell_type": "code",
   "execution_count": null,
   "id": "da169e8e",
   "metadata": {},
   "outputs": [],
   "source": []
  },
  {
   "cell_type": "markdown",
   "id": "704b1869",
   "metadata": {},
   "source": [
    "### Step 2\n",
    "\n",
    "Create a $\\texttt{MonteCarloSampling}$ object (see Day 1 activities):\n",
    "- generate 30 realizations of $r_0$ that will serve as our training input set.\n",
    "- generate 20 realizations of $r_0$ that will serve as our validation input set."
   ]
  },
  {
   "cell_type": "code",
   "execution_count": null,
   "id": "80933d0c",
   "metadata": {},
   "outputs": [],
   "source": []
  },
  {
   "cell_type": "markdown",
   "id": "3be0d4b5",
   "metadata": {},
   "source": [
    "### Step 3\n",
    "\n",
    "Run the 1-D Bouc-Wen computational model using $\\texttt{RunModel}$ class of $\\texttt{UQpy}$ (see Day 1 activities):\n",
    "- for the training input set.\n",
    "- for the validation input set."
   ]
  },
  {
   "cell_type": "code",
   "execution_count": null,
   "id": "2cb7c7b7",
   "metadata": {
    "pycharm": {
     "is_executing": true
    }
   },
   "outputs": [],
   "source": []
  },
  {
   "cell_type": "markdown",
   "id": "4cc0ac69",
   "metadata": {},
   "source": [
    "### Step 4\n",
    "\n",
    "Create the PCE surrogate to approximate the response function (i.e., maximum displacement $\\max(z(t))$ of the system. Compute the PCE coefficients using least square regression. Compute the validation error."
   ]
  },
  {
   "cell_type": "markdown",
   "id": "761f37ec",
   "metadata": {},
   "source": [
    "### Step 4.1:\n",
    "\n",
    "Import classes  $\\texttt{PolynomialChaosExpansion}$, $\\texttt{TensorProductBasis}$ and $\\texttt{LeastSquareRegression}$, from $\\texttt{UQpy.surrogates.polynomial}\\_\\texttt{chaos}$ module.\n"
   ]
  },
  {
   "cell_type": "code",
   "execution_count": null,
   "id": "2c74a9ed",
   "metadata": {},
   "outputs": [],
   "source": []
  },
  {
   "cell_type": "markdown",
   "id": "a0dcf96c",
   "metadata": {},
   "source": [
    "### Step 4.2:\n",
    "\n",
    "Define a 'polynomial_basis' object using the $\\texttt{TensorProductBasis}$ class. Provide as input to the class the distribution object of the random variable, and the maximum  PCE order p=1."
   ]
  },
  {
   "cell_type": "code",
   "execution_count": null,
   "id": "40ced9ff",
   "metadata": {},
   "outputs": [],
   "source": []
  },
  {
   "cell_type": "markdown",
   "id": "0deed9ee",
   "metadata": {},
   "source": [
    "### Step 4.3:\n",
    "\n",
    "Define a least squares regression object using the $\\texttt{LeastSquaresRegression}$ class. "
   ]
  },
  {
   "cell_type": "code",
   "execution_count": null,
   "id": "590302ec",
   "metadata": {},
   "outputs": [],
   "source": []
  },
  {
   "cell_type": "markdown",
   "id": "2a40ec87",
   "metadata": {},
   "source": [
    "### Step 4.4:\n",
    "\n",
    "Define a pce object using the $\\texttt{PolynomialChaosExpansion}$ class. Provide as input method the regression object and polynomial basis created in the previous steps."
   ]
  },
  {
   "cell_type": "code",
   "execution_count": null,
   "id": "8c060b1a",
   "metadata": {},
   "outputs": [],
   "source": []
  },
  {
   "cell_type": "markdown",
   "id": "b4d7be64",
   "metadata": {},
   "source": [
    "### Step 4.5:\n",
    "\n",
    "Calculate the coefficients using the $\\texttt{fit}$ method of the $\\texttt{PCE}$ object. Provide the training data set (input-output pairs)."
   ]
  },
  {
   "cell_type": "code",
   "execution_count": null,
   "id": "db207f6e",
   "metadata": {},
   "outputs": [],
   "source": []
  },
  {
   "cell_type": "markdown",
   "id": "f08db508",
   "metadata": {},
   "source": [
    "### Step 4.6:\n",
    "\n",
    "Predict the response for the validation input set using the $\\texttt{predict}$ method of the $\\texttt{PCE}$ object."
   ]
  },
  {
   "cell_type": "code",
   "execution_count": null,
   "id": "a2d8ffe8",
   "metadata": {},
   "outputs": [],
   "source": []
  },
  {
   "cell_type": "markdown",
   "id": "1d243bdd",
   "metadata": {},
   "source": [
    "### Step 4.7:\n",
    "\n",
    "Compute the validation error:\n",
    "- Compute the validation error using the $\\texttt{validation}\\_\\texttt{error}$ method of the pce object."
   ]
  },
  {
   "cell_type": "code",
   "execution_count": null,
   "id": "41e4ea10",
   "metadata": {},
   "outputs": [],
   "source": []
  },
  {
   "cell_type": "markdown",
   "id": "f9dc5729",
   "metadata": {},
   "source": [
    "# Exercise 2 \n",
    "\n",
    "## Ishigami\n",
    "\n",
    "Build a PCE surrogate for the Ishigami function.\n",
    "\n",
    "\\begin{align*}\n",
    "    & f(x_1, x_2, x_3)=sin(x_1)+a \\cdot sin^2(x_2)+b \\cdot x_3^4 \\cdot sin(x_1)\n",
    "\\end{align*}\n",
    "\n",
    "The parameters $a$ and $b$ have the following values:\n",
    "\n",
    "- $a=7$\n",
    "- $b=0.1$\n",
    "\n",
    "The Ishigami function has three random inputs, namely $x_1$, $x_2$ and $x_3$ distributed as follows:\n",
    "\n",
    "\\begin{align*}\n",
    "    & \\texttt{x}_1 \\sim \\mathcal{U}(-\\pi, \\pi) \\\\\n",
    "    & \\texttt{x}_2 \\sim \\mathcal{U}(-\\pi, \\pi) \\\\\n",
    "    & \\texttt{x}_3 \\sim \\mathcal{U}(-\\pi, \\pi) \n",
    "\\end{align*}\n",
    "\n",
    "Consider that all the above parameters follow a Joint Independent distribution.\n",
    "\n",
    "Create a PCE surrogate of the Ishigami function using fifth order polynomials, $\\texttt{TensorProductBasis}$ and $\\texttt{LeastSquareRegression}$. After fitting the surrogate estimate the sensitivities of each one of the three parameters by using the $\\texttt{PceSensitivity}$ class."
   ]
  },
  {
   "cell_type": "markdown",
   "id": "b4015579",
   "metadata": {},
   "source": [
    "### Step 1\n",
    "Initially, import the required $\\texttt{UQpy}$ classes $\\texttt{Uniform}$, $\\texttt{JointIndependent}$ to define the distributions of the parameters."
   ]
  },
  {
   "cell_type": "code",
   "execution_count": null,
   "id": "dcd0421f",
   "metadata": {},
   "outputs": [],
   "source": []
  },
  {
   "cell_type": "markdown",
   "id": "dc61dbd0",
   "metadata": {},
   "source": [
    "### Step 1.1\n",
    "\n",
    "Create three (3) different $\\texttt{Uniform}$ distribution objects for each one of the model parameters and merge them into a a single multivariate distribution object by using the $\\texttt{JointIndependent}$ class."
   ]
  },
  {
   "cell_type": "code",
   "execution_count": null,
   "id": "5491b635",
   "metadata": {},
   "outputs": [],
   "source": []
  },
  {
   "cell_type": "markdown",
   "id": "26c89f18",
   "metadata": {},
   "source": [
    "### Step 1.2\n",
    "\n",
    "Define the Ishigami, as a $\\texttt{Python}$ function that accepts as input the a list of the models parameters $x_1$, $x_2$ and $x_3$"
   ]
  },
  {
   "cell_type": "code",
   "execution_count": null,
   "id": "4ddf90dd",
   "metadata": {},
   "outputs": [],
   "source": [
    "def ishigami(xx):\n",
    "    \"\"\"Ishigami function\"\"\"\n",
    "    a = 7\n",
    "    b = 0.1\n",
    "    term1 = np.sin(xx[0])\n",
    "    term2 = a * np.sin(xx[1])**2\n",
    "    term3 = b * xx[2]**4 * np.sin(xx[0])\n",
    "    return term1 + term2 + term3"
   ]
  },
  {
   "cell_type": "markdown",
   "id": "35a394ee",
   "metadata": {},
   "source": [
    "### Step 2\n",
    "\n",
    "- Given that the maximum polynomial degree is 5, construct a polynomial basis using the $\\texttt{TensorProductBasis}$ class. \n",
    "- The size of the basis can then be retrieved with the aid of the $\\texttt{polynomials}\\_\\texttt{number}$ attribute of the $\\texttt{TensorProductBasis}$ object."
   ]
  },
  {
   "cell_type": "code",
   "execution_count": null,
   "id": "281f4e7d",
   "metadata": {},
   "outputs": [],
   "source": []
  },
  {
   "cell_type": "markdown",
   "id": "a05274e8",
   "metadata": {},
   "source": [
    "### Step 2.1\n",
    "\n",
    "Create a set of sample points and their values on the $\\texttt{Ishigami}$ function that will be used for fitting the $\\texttt{PCE}$ surrogate.\n",
    "\n",
    "- Create samples of the domain by using the $\\texttt{rvs}$ method of the $\\texttt{JointIndependent}$ distribution created in **Step 1.1**. We choose the number of samples to be equal to five times the size of the polynomial basis, computed in **Step 2**\n",
    "\n",
    "- Given the generated points use the $\\texttt{Ishigami}$ function to compute their corresponding values."
   ]
  },
  {
   "cell_type": "code",
   "execution_count": null,
   "id": "d2ea6957",
   "metadata": {},
   "outputs": [],
   "source": []
  },
  {
   "cell_type": "markdown",
   "id": "6733b7db",
   "metadata": {},
   "source": [
    "### Step 3\n",
    "\n",
    "Create and fit the $\\texttt{PCE}$ surrogate. \n",
    "\n",
    "- The first step is to define the regression algorithm of our choice. In this case we use the $\\texttt{LeastSquareRegression}$ class defined in $\\texttt{UQpy}$.\n",
    "- Define the $\\texttt{PolynomialChaosExpansion}$ object by using the polynomial basis and regression method that are already instantiated.\n",
    "- Fit the pce surrogate by using the $\\texttt{fit}$ method of the $\\texttt{PolynomialChaosExpansion}$ class instantiated. Both the samples of the domain, as well their values on the $\\texttt{Ishigami}$ function must be provided as input."
   ]
  },
  {
   "cell_type": "code",
   "execution_count": null,
   "id": "d46bdf35",
   "metadata": {},
   "outputs": [],
   "source": []
  },
  {
   "cell_type": "markdown",
   "id": "663cc853",
   "metadata": {},
   "source": [
    "### Step 4\n",
    "\n",
    "Calculate the Sensitivity indices using fitted $\\texttt{PCE}$ surrogate.\n",
    "\n",
    "- $\\texttt{UQpy}$ supports the direct evaluation of the sensitivity indices using the $\\texttt{Pce}\\_\\texttt{Sensitivity}$ class. The only input required for this class is the fitted $\\texttt{PCE}$ surrogate of **Step 3**.\n",
    "- By invoking the $\\texttt{run}$ method of the $\\texttt{PceSensitivity}$ class, all first order, total order and generalized Sobol's indices are computed.\n",
    "- Retrieve and print the values of the first and total order indices, using the $\\texttt{first}\\_\\texttt{order}\\_\\texttt{indices}$ and $\\texttt{total}\\_\\texttt{order}\\_\\texttt{indices}$ attributes of the instantiated $\\texttt{PceSensitivity}$"
   ]
  },
  {
   "cell_type": "code",
   "execution_count": null,
   "id": "50b337be",
   "metadata": {},
   "outputs": [],
   "source": []
  },
  {
   "cell_type": "markdown",
   "id": "6e2bf5fc",
   "metadata": {},
   "source": [
    "# Exercise 3 \n",
    "\n",
    "## Rosenbrock\n",
    "\n",
    "Build a PCE surrogate for Rosenbrock function.\n",
    "\n",
    "\\begin{align*}\n",
    "    f(x)= \\sum_{i=1}^{d-1}[100(x_{i+1}-x_i^2)^2+(x_i-1)^2]\n",
    "\\end{align*}\n",
    "\n",
    "The Rosenbrock function has a multitude of random variables equal to $\\texttt{d}$. Consider 5 different dimension that all are uniformly distributed in the range $\\mathcal{U}(-5, 10)$\n",
    "\n",
    "Create a PCE surrogate of the Ishigami function using fifth order polynomials and $\\texttt{TensorProductBasis}$ and $\\texttt{LeastSquareRegression}$. After fitting the surrogate estimate the sensitivities of each one of the three parameters by using the $\\texttt{PceSensitivity}$ class."
   ]
  },
  {
   "cell_type": "markdown",
   "id": "cd0e33c2",
   "metadata": {},
   "source": [
    "### Step 1\n",
    "Initially, import the required $\\texttt{UQpy}$ classes $\\texttt{Uniform}$, $\\texttt{JointIndependent}$ to define the distributions of the parameters."
   ]
  },
  {
   "cell_type": "code",
   "execution_count": null,
   "id": "824ed769",
   "metadata": {},
   "outputs": [],
   "source": []
  },
  {
   "cell_type": "markdown",
   "id": "905ef3ef",
   "metadata": {},
   "source": [
    "### Step 1.1\n",
    "\n",
    "Create five (5) different $\\texttt{Uniform}$ distribution objects for each one of the model parameters and merge them into a a single multivariate distribution object by using the $\\texttt{JointIndependent}$ class."
   ]
  },
  {
   "cell_type": "code",
   "execution_count": null,
   "id": "1bfaa003",
   "metadata": {},
   "outputs": [],
   "source": []
  },
  {
   "cell_type": "markdown",
   "id": "930e77b9",
   "metadata": {},
   "source": [
    "### Step 1.2\n",
    "\n",
    "Define the Rosenbrock, as a $\\texttt{Python}$ function that accepts as input the a list of the models parameters $x_1$ to $x_5$"
   ]
  },
  {
   "cell_type": "code",
   "execution_count": null,
   "id": "dc41601a",
   "metadata": {},
   "outputs": [],
   "source": [
    "def rosenbrock(xx):\n",
    "    \"\"\"Rosenbrock function\"\"\"\n",
    "    a = 7\n",
    "    b = 0.1\n",
    "    s=0\n",
    "    for i in range(len(xx)-1):\n",
    "        s+=100*((xx[i+1]-xx[i]**2)**2+(xx[i]-1)**2)   \n",
    "    return s"
   ]
  },
  {
   "cell_type": "markdown",
   "id": "94a9f9b3",
   "metadata": {},
   "source": [
    "### Step 2\n",
    "\n",
    "- For maximum polynomial degrees equal $[1,2,5,10,50]$ calculate the size of the polynomial basis generated using the $\\texttt{TensorProductBasis}$ class."
   ]
  },
  {
   "cell_type": "code",
   "execution_count": null,
   "id": "78fdb1fe",
   "metadata": {},
   "outputs": [],
   "source": []
  },
  {
   "cell_type": "markdown",
   "id": "56e56f76",
   "metadata": {},
   "source": [
    "### Step 2.1\n",
    "\n",
    "Create a set of samples points and their values on the $\\texttt{Rosenbrock}$ function that will be used for fitting the $\\texttt{PCE}$ surrogate.\n",
    "\n",
    "- Create samples of the domain by using the $\\texttt{rvs}$ method of the $\\texttt{JointIndependent}$ distribution created in **Step 1.1**. We choose the number of samples to be equal to five times the size of the polynomial basis, computed in **Step 2**\n",
    "\n",
    "- Given the generated points use the $\\texttt{Rosenbrock}$ function to compute their corresponding values."
   ]
  },
  {
   "cell_type": "code",
   "execution_count": null,
   "id": "cde01e3f",
   "metadata": {},
   "outputs": [],
   "source": []
  },
  {
   "cell_type": "markdown",
   "id": "9f072ed8",
   "metadata": {},
   "source": [
    "### Step 3\n",
    "\n",
    "Create and fit the $\\texttt{PCE}$ surrogate. \n",
    "\n",
    "- The first step is to define the regression algorithm of our choice. In this case we use the $\\texttt{LeastSquareRegression}$ class defined in $\\texttt{UQpy}$.\n",
    "- Define the $\\texttt{PolynomialChaosExpansion}$ object by using the polynomial basis and regression method that are already instantiated.\n",
    "- Fit the pce surrogate by using the $\\texttt{fit}$ method of the $\\texttt{PolynomialChaosExpansion}$ class instantiated. Both the samples of the domain, as well their values on the $\\texttt{Rosenbrock}$ function must be provided as input."
   ]
  },
  {
   "cell_type": "code",
   "execution_count": null,
   "id": "b1bf5cbe",
   "metadata": {},
   "outputs": [],
   "source": []
  },
  {
   "cell_type": "markdown",
   "id": "5676c4fa",
   "metadata": {},
   "source": [
    "### Step 4\n",
    "\n",
    "For each one of the max polynomial degrees $[1, 2, 5, 10]$ evaluate the validation error at a set of 100 validation points randomly generated in the Rosenbrock function definition domain $[-5, 10]^5$"
   ]
  },
  {
   "cell_type": "code",
   "execution_count": null,
   "id": "d8aadf5f",
   "metadata": {},
   "outputs": [],
   "source": []
  },
  {
   "cell_type": "markdown",
   "id": "02048d75",
   "metadata": {
    "slideshow": {
     "slide_type": "slide"
    }
   },
   "source": [
    "# Exercise 4 \n",
    "\n",
    "\n",
    "### Gaussian process\n",
    "\n",
    "\n",
    "Build a Gaussian Process surrogate for 1-D contact sphere model. In the indentation test model randomness is assumed in the parameter $k$ follows a Lognormal distribution, with the parameters of the underlying Gaussian distribution being: $\\mu$ = 1e5 and standard deviation $\\sigma=2e4$. The parameters of the lognormal distribution in this case are $s=0.19804$ and $scale=98058.0675$ ($loc$=0.0). Build a Kriging surrogate to approximate the response function of the maximum displacement at the identation point. "
   ]
  },
  {
   "cell_type": "markdown",
   "id": "a014a7b3",
   "metadata": {},
   "source": [
    "### Step 1\n",
    "\n",
    "Create a distribution object for the random variable (see Day 1 activities)."
   ]
  },
  {
   "cell_type": "code",
   "execution_count": null,
   "id": "51b1e3c0",
   "metadata": {},
   "outputs": [],
   "source": []
  },
  {
   "cell_type": "markdown",
   "id": "35cbeb72",
   "metadata": {},
   "source": [
    "### Step 2\n",
    "\n",
    "Create a $\\texttt{LatinHypercubeSampling}$ object (see Day 1 activities):\n",
    "- generate 20 realizations of $k$ that will serve as our training input set.\n",
    "- generate 30 realizations of $k$ that will serve as our validation input set."
   ]
  },
  {
   "cell_type": "code",
   "execution_count": null,
   "id": "97872b78",
   "metadata": {},
   "outputs": [],
   "source": []
  },
  {
   "cell_type": "markdown",
   "id": "e78aa4eb",
   "metadata": {},
   "source": [
    "### Step 3\n",
    "\n",
    "Run the 1-D contact sphere model using $\\texttt{RunModel}$ class of $\\texttt{UQpy}$ (see Day 1 activities):\n",
    "- for the training input set.\n",
    "- for the validation input set."
   ]
  },
  {
   "cell_type": "code",
   "execution_count": null,
   "id": "2df93243",
   "metadata": {},
   "outputs": [],
   "source": []
  },
  {
   "cell_type": "markdown",
   "id": "bc28aeff",
   "metadata": {},
   "source": [
    "### Step 4\n",
    "\n",
    "Create the Gaussian Process surrogate to approximate the response function (i.e., maximum displacement at the identation point). "
   ]
  },
  {
   "cell_type": "markdown",
   "id": "b21d36a2",
   "metadata": {},
   "source": [
    "### Step 4.1:\n",
    "\n",
    "Import class  $\\texttt{GaussianProcessRegression}$ from $\\texttt{UQpy.surrogates.gaussian}\\_\\texttt{process}$ module."
   ]
  },
  {
   "cell_type": "code",
   "execution_count": null,
   "id": "4c03ea2d",
   "metadata": {},
   "outputs": [],
   "source": []
  },
  {
   "cell_type": "markdown",
   "id": "c960ebbb",
   "metadata": {},
   "source": [
    "### Step 4.2:\n",
    "\n",
    "Instantiate a $\\texttt{GaussianProcessRegression}$ object. Select:\n",
    "\n",
    "1. Linear regression model ($\\texttt{LinearRegression}$) to evaluate the basis functions and their coefficients.\n",
    "2. Radial Basis Function kernel ($\\texttt{RBF}$) to define similarity between samples."
   ]
  },
  {
   "cell_type": "code",
   "execution_count": null,
   "id": "a2cb99f4",
   "metadata": {},
   "outputs": [],
   "source": []
  },
  {
   "cell_type": "markdown",
   "id": "d517fc12",
   "metadata": {},
   "source": [
    "### Step 4.3:\n",
    "\n",
    "Calculate the hyperparameters using the $\\texttt{fit}$ method of the $\\texttt{GaussianProcessRegression}$ object. Provide the training data set (input-output pairs). Print the regression coefficients."
   ]
  },
  {
   "cell_type": "code",
   "execution_count": null,
   "id": "4a633dbb",
   "metadata": {},
   "outputs": [],
   "source": []
  },
  {
   "cell_type": "markdown",
   "id": "ff732594",
   "metadata": {},
   "source": [
    "### Step 4.4:\n",
    "\n",
    "Predict the response for the validation input set using the $\\texttt{predict}$ method of the $\\texttt{GaussianProcessRegression}$ object. "
   ]
  },
  {
   "cell_type": "code",
   "execution_count": null,
   "id": "def23b01",
   "metadata": {},
   "outputs": [],
   "source": []
  }
 ],
 "metadata": {
  "celltoolbar": "Slideshow",
  "kernelspec": {
   "display_name": "Python 3 (ipykernel)",
   "language": "python",
   "name": "python3"
  },
  "language_info": {
   "codemirror_mode": {
    "name": "ipython",
    "version": 3
   },
   "file_extension": ".py",
   "mimetype": "text/x-python",
   "name": "python",
   "nbconvert_exporter": "python",
   "pygments_lexer": "ipython3",
   "version": "3.9.12"
  }
 },
 "nbformat": 4,
 "nbformat_minor": 5
}
