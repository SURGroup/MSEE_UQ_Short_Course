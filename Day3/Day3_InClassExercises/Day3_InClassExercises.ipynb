{
 "cells": [
  {
   "cell_type": "markdown",
   "id": "2c0e7067",
   "metadata": {
    "slideshow": {
     "slide_type": "slide"
    }
   },
   "source": [
    "# MSEE UQ short course:  The $\\texttt{UQpy}$ library\n",
    "\n",
    "Application of Inference using the $\\texttt{UQpy}$ module $\\texttt{inference}$. \n",
    "\n",
    "Detailed instructions on how to use this module can be found in the $\\texttt{UQpy}$ documentation.\n",
    "\n",
    "https://uqpyproject.readthedocs.io/en/latest/inference/index.html"
   ]
  },
  {
   "cell_type": "code",
   "execution_count": null,
   "id": "e7d3814e",
   "metadata": {},
   "outputs": [],
   "source": []
  },
  {
   "cell_type": "markdown",
   "id": "3e3186d2",
   "metadata": {},
   "source": [
    "# Exercise 1 \n",
    "\n",
    "This exercise aims to introduce the user to the Markov Chain Monte Carlo sampling methods available in $\\texttt{UQpy}$, since they are a prerequisite for advanced Bayesian inference methods such as $\\texttt{BayesianParameterEstimation}$\n",
    "\n",
    "- Specifically, the $\\texttt{MetropolisHastings}$ algorithms will be discussed.\n",
    "- Ways to sample the target function, as well as several diagnostic will be provided."
   ]
  },
  {
   "cell_type": "code",
   "execution_count": null,
   "id": "32dffcdc",
   "metadata": {},
   "outputs": [],
   "source": [
    "from UQpy.distributions import DistributionND\n",
    "\n",
    "\n",
    "class Rosenbrock(DistributionND):\n",
    "    def __init__(self, p=20.):\n",
    "        super().__init__(p=p)\n",
    "\n",
    "    def pdf(self, x):\n",
    "        return np.exp(-(100 * (x[:, 1] - x[:, 0] ** 2) ** 2 + (1 - x[:, 0]) ** 2) / self.parameters['p'])\n",
    "\n",
    "    def log_pdf(self, x):\n",
    "        return -(100 * (x[:, 1] - x[:, 0] ** 2) ** 2 + (1 - x[:, 0]) ** 2) / self.parameters['p']"
   ]
  },
  {
   "cell_type": "markdown",
   "id": "1b51f5df",
   "metadata": {},
   "source": [
    "### Step 1\n",
    "\n",
    "Import the necessary libraries:\n",
    "\n",
    "1. From the $\\texttt{UQpy.sampling}$ module.\n",
    "- $\\texttt{MetroplisHastings}$\n",
    "\n",
    "2. From the $\\texttt{UQpy.distributions}$ module.\n",
    "- $\\texttt{Normal}$\n",
    "- $\\texttt{JointIndependent}$"
   ]
  },
  {
   "cell_type": "code",
   "execution_count": null,
   "id": "b5a9ae18",
   "metadata": {},
   "outputs": [],
   "source": []
  },
  {
   "cell_type": "markdown",
   "id": "7ad07ef7",
   "metadata": {},
   "source": [
    "### Step 1.1\n",
    "\n",
    "The $\\texttt{log}\\_\\texttt{target}$ function that we want to sample using the $\\texttt{MetropolisHastings}$ samping method is defined below."
   ]
  },
  {
   "cell_type": "code",
   "execution_count": null,
   "id": "dfa1f4d9",
   "metadata": {},
   "outputs": [],
   "source": []
  },
  {
   "cell_type": "markdown",
   "id": "b30c105a",
   "metadata": {},
   "source": [
    "### Step 2\n",
    "\n",
    "Create an instance of the $\\texttt{MetropolisHastings}$ class:\n",
    "\n",
    "- The funtion $\\texttt{log}\\_\\texttt{target}$ provided serves as the $\\texttt{log}\\_\\texttt{pdf}\\_\\texttt{target}$\n",
    "- Since our proposal distribution is two dimensional, the value of the $\\texttt{dimension}$ parameter is set to $2$.\n",
    "- We generate four chain for the needs of the $\\texttt{MetropolisHastings}$ method and as a result the parameter $\\texttt{n}\\_\\texttt{chains}$ is set to $4$.\n",
    "- Finally the $\\texttt{burn}\\_\\texttt{length}$ and $\\texttt{jump}$ parameters are set to $500$, $50$ respectively.\n",
    "\n",
    "To initiate the sample generation using the $\\texttt{MetropolisHastings}$ algorithm, the $\\texttt{nsamples}$ parameter must be provided, either in the initializer, or after the initialization in the $\\texttt{run}$ function of the class.\n",
    "- The number of samples  is chosen here to be $500$. ($\\texttt{nsamples}=500$)"
   ]
  },
  {
   "cell_type": "code",
   "execution_count": null,
   "id": "259244c3",
   "metadata": {},
   "outputs": [],
   "source": []
  },
  {
   "cell_type": "markdown",
   "id": "55b51bc4",
   "metadata": {},
   "source": [
    "### Step 2.1\n",
    "\n",
    "The samples generated with the aid of the $\\texttt{MetropolisHastings}$ class, can be retrieved using the $\\texttt{samples}$ attribute.\n",
    "\n",
    "- After retrieving the samples from the $\\texttt{MetropolisHastings}$ algorithm, create a scatter plot of the generated samples."
   ]
  },
  {
   "cell_type": "code",
   "execution_count": null,
   "id": "024a8fdd",
   "metadata": {},
   "outputs": [],
   "source": []
  },
  {
   "cell_type": "markdown",
   "id": "b201d0de",
   "metadata": {},
   "source": [
    "### Step 3\n",
    "\n",
    "The acceptance rate of the chains can be accessed using the $\\texttt{acceptance}\\_\\texttt{rate}$ attribute of the $\\texttt{MCMC}$ algorithm.\n",
    "\n",
    "If this metric is too low, then the provided input parameters make the sampling inefficient, as new samples to advance the chain are rarely choosen."
   ]
  },
  {
   "cell_type": "code",
   "execution_count": null,
   "id": "f8ce23f1",
   "metadata": {},
   "outputs": [],
   "source": []
  },
  {
   "cell_type": "markdown",
   "id": "48ccbbdc",
   "metadata": {},
   "source": [
    "### Step 3.1\n",
    "\n",
    "Using the $\\texttt{MCMC}$ generated samples, the following graphic diagnostic can be generated.\n",
    "\n",
    "- The evolution of the sampled values.\n",
    "- The convergence of the parameter towards its final value\n",
    "- The correlation of between the samples generated for the respective parameter.\n",
    "\n",
    "Note that the samples retrieved from any of the sampling algorithms in $\\texttt{UQpy}$ are a 2 dimensional $\\texttt{numpy}$ array. The number of rows represents the number of samples, while the columns represent the number of parameters.\n",
    "\n",
    "To create each one of the plots, for each column $\\texttt{j}$ of the samples \n",
    "\n",
    "- Parameter Convergence: $\\texttt{plot(range(nsamples), np.cumsum(samples[:, j]/range(nsamples))}$\n",
    "- Samples Correlation: $\\texttt{acorr(samples[:, j]-np.mean(acorr(samples[:, j]))}$"
   ]
  },
  {
   "cell_type": "code",
   "execution_count": null,
   "id": "c34ebe52",
   "metadata": {},
   "outputs": [],
   "source": []
  },
  {
   "cell_type": "markdown",
   "id": "ba93bdc2",
   "metadata": {},
   "source": [
    "# Exercise 2 \n",
    "\n",
    "Use **information-theoretic** inference to select between regression models. Consider the simple model:\n",
    "\n",
    "$$y=m(\\theta) + \\epsilon$$\n",
    "\n",
    "where $m(\\cdot)$ is our numerical model that runs with $\\texttt{RunModel}$ and $\\epsilon$ is  noise. We have 50 synthetic measurements of $y$ using one of the following model:\n",
    "    \n",
    "1. $m_0(\\theta)=\\theta_{0} x$ (linear)\n",
    "2. $m_1(\\boldsymbol{\\theta})=\\theta_{0} x + \\theta_{1} x^{2}$ (quadratic)\n",
    "3. $m_2(\\boldsymbol{\\theta})=\\theta_{0} x + \\theta_{1} x^{2} + \\theta_{2} x^{3}$ (cubic)\n",
    "\n",
    "where $\\theta_i$, $i=0,1, 2$ are the parameters of the model. We have also added some Gaussian noise ($\\sim \\mathcal{N}(0, 1)$) in the measurements which is considered to be homogeneous. You are given the file $\\texttt{'data_ex1a.txt'}$ which contains the data. Select a statistical model from the set of three candidate models, given the data, using the $AIC_c$ information-theoretic criterion. You are provided with the file $\\texttt{pfn.py}$ that contains the three models, written in $\\texttt{Python}$."
   ]
  },
  {
   "cell_type": "markdown",
   "id": "3806b95b",
   "metadata": {},
   "source": [
    "### Step 1:\n",
    "\n",
    "Read the data from the file."
   ]
  },
  {
   "cell_type": "code",
   "execution_count": null,
   "id": "76adc29b",
   "metadata": {},
   "outputs": [],
   "source": []
  },
  {
   "cell_type": "markdown",
   "id": "e5630f89",
   "metadata": {},
   "source": [
    "### Step 2:\n",
    "\n",
    "Import the necessary libraries:\n",
    "\n",
    "1. From the $\\texttt{UQpy.Inference}$ module.\n",
    "- $\\texttt{ComputationalModel}$\n",
    "- $\\texttt{InformationModelSelection}$\n",
    "\n",
    "2. From $\\texttt{UQpy.run}\\_\\texttt{model.RunModel}$ module import $\\texttt{RunModel}$."
   ]
  },
  {
   "cell_type": "code",
   "execution_count": null,
   "id": "36740ab1",
   "metadata": {},
   "outputs": [],
   "source": []
  },
  {
   "cell_type": "markdown",
   "id": "4354cfd4",
   "metadata": {},
   "source": [
    "### Step 3:\n",
    "\n",
    "Create instances of the $\\texttt{RunModel}$ class for the three models."
   ]
  },
  {
   "cell_type": "code",
   "execution_count": null,
   "id": "a496b8a6",
   "metadata": {},
   "outputs": [],
   "source": []
  },
  {
   "cell_type": "markdown",
   "id": "566e5c33",
   "metadata": {},
   "source": [
    "### Step 4:\n",
    "\n",
    "Create instances of the $\\texttt{InferenceModel}$ class for the three models."
   ]
  },
  {
   "cell_type": "code",
   "execution_count": null,
   "id": "4f5f2951",
   "metadata": {},
   "outputs": [],
   "source": []
  },
  {
   "cell_type": "markdown",
   "id": "f637c246",
   "metadata": {},
   "source": [
    "### Step 5\n",
    "\n",
    "Perform model selection. Create an instance of $\\texttt{InfoModelSelection}$ class, employs information-theoretic criteria for model selection, using the $AIC_c$ criterion. \n",
    "\n",
    "\n",
    "For each model print its  probability to generate the measurements."
   ]
  },
  {
   "cell_type": "code",
   "execution_count": null,
   "id": "fd2e4e02",
   "metadata": {},
   "outputs": [],
   "source": []
  },
  {
   "cell_type": "markdown",
   "id": "4e0d47aa",
   "metadata": {},
   "source": [
    "# Exercise 3 \n",
    "\n",
    "\n",
    "Learning the parameters of the quadratic model. Consider we have identified the quadratic model\n",
    "\n",
    "$$m_2(\\boldsymbol{\\theta})=\\theta_{0} x + \\theta_{1} x^{2}$$\n",
    "\n",
    "as the model that represents the data. Using the measurements, we want to learn the parameters $\\theta_{0}$ and $\\theta_{1}$ of the quadratic model."
   ]
  },
  {
   "cell_type": "code",
   "execution_count": null,
   "id": "cf751e25",
   "metadata": {},
   "outputs": [],
   "source": [
    "# Solution\n",
    "data_ex1a = np.loadtxt('data_ex1a.txt')"
   ]
  },
  {
   "cell_type": "markdown",
   "id": "8ba245c2",
   "metadata": {},
   "source": [
    "### Step 1:\n",
    "\n",
    "Import the necessary libraries.\n",
    "\n",
    "1. From the $\\texttt{UQpy.inference}$ module import:\n",
    "- $\\texttt{BayesParameterEstimation}$\n",
    "\n",
    "2. From the $\\texttt{UQpy.distributions}$ module import:\n",
    "- $\\texttt{Normal}$\n",
    "- $\\texttt{JoinIndependent}$ \n",
    "\n",
    "3. From $\\texttt{UQpy.run}\\_\\texttt{RunModel}$ module import $\\texttt{RunModel}$."
   ]
  },
  {
   "cell_type": "code",
   "execution_count": null,
   "id": "3e63e30e",
   "metadata": {},
   "outputs": [],
   "source": []
  },
  {
   "cell_type": "markdown",
   "id": "83cbce3b",
   "metadata": {},
   "source": [
    "### Step 2:\n",
    "\n",
    "Create instances of the $\\texttt{RunModel}$ class for the quadratic model."
   ]
  },
  {
   "cell_type": "code",
   "execution_count": null,
   "id": "180e223f",
   "metadata": {},
   "outputs": [],
   "source": []
  },
  {
   "cell_type": "markdown",
   "id": "0f753a22",
   "metadata": {},
   "source": [
    "### Step 3:\n",
    "\n",
    "Create a joint distribution object for its parameters $\\boldsymbol{\\theta}$ that represents our prior belief. Each marginal distribution is Normally distributed but, we don't provide any information about its parameters."
   ]
  },
  {
   "cell_type": "code",
   "execution_count": null,
   "id": "cb30500a",
   "metadata": {},
   "outputs": [],
   "source": []
  },
  {
   "cell_type": "markdown",
   "id": "b8376fbd",
   "metadata": {},
   "source": [
    "### Step 4:\n",
    "\n",
    "Create an instance of the $\\texttt{ComputationalModel}$ class. "
   ]
  },
  {
   "cell_type": "code",
   "execution_count": null,
   "id": "f6ca1c33",
   "metadata": {},
   "outputs": [],
   "source": []
  },
  {
   "cell_type": "markdown",
   "id": "d2e312b1",
   "metadata": {},
   "source": [
    "### Step 5:\n",
    "\n",
    "Create a joint proposal distribution object for its parameters $\\boldsymbol{\\theta}$. Each marginal distribution is normally distributed, i.e., $\\theta_0 \\sim \\mathcal{N}(0.0, 0.1)$ and  $\\theta_1 \\sim \\mathcal{N}(0.0, 0.05)$."
   ]
  },
  {
   "cell_type": "code",
   "execution_count": null,
   "id": "76b25707",
   "metadata": {},
   "outputs": [],
   "source": []
  },
  {
   "cell_type": "markdown",
   "id": "5f189bde",
   "metadata": {},
   "source": [
    "### Step 6:\n",
    "\n",
    "Create an instance of the $\\texttt{BayesParameterEstimation}$ class.  Select as sampling algorithm the $\\texttt{MetropolisHastings}$ algorithm of the $\\texttt{MCMC}$ class.\n",
    "\n",
    "Print the posterior values of the two parameters that are stored in the $\\texttt{samples}$ attribute of the $\\texttt{BayesParameterEstimation}$ object."
   ]
  },
  {
   "cell_type": "code",
   "execution_count": null,
   "id": "881474aa",
   "metadata": {},
   "outputs": [],
   "source": []
  },
  {
   "cell_type": "markdown",
   "id": "4eddbb88",
   "metadata": {},
   "source": [
    "# Exercise 4 \n",
    "\n",
    "Use  **Bayesian model** selection to choose between regression models. Consider the problem of Exercise 1. In this case, each candidate model $m_i$ is given a prior probability $P(m_i) = 1/3$. For each model, our prior belief about its parameters $\\theta_i$ is that they are normally distributed as: \n",
    "- $m_0(\\theta)$: $\\theta_0\\sim\\mathcal{N}(0,10)$.\n",
    "- $m_1(\\boldsymbol{\\theta})$: $\\theta_0\\sim\\mathcal{N}(0,1)$, $\\theta_1\\sim\\mathcal{N}(0,1)$\n",
    "- $m_2(\\boldsymbol{\\theta})$:  $\\theta_0\\sim\\mathcal{N}(0,1)$, $\\theta_1\\sim\\mathcal{N}(0,2)$, $\\theta_2\\sim\\mathcal{N}(0,0.25)$"
   ]
  },
  {
   "cell_type": "markdown",
   "id": "38c13a5b",
   "metadata": {},
   "source": [
    "### Step 1:\n",
    "\n",
    "Import the necessary libraries\n",
    "\n",
    "1. From the $\\texttt{UQpy.inference}$ module import:\n",
    "- $\\texttt{BayesModelSelection}$ \n",
    "\n",
    "2. From the $\\texttt{UQpy.distributions}$ module import:\n",
    "- $\\texttt{Normal}$\n",
    "- $\\texttt{JoinIndependent}$ \n",
    "\n",
    "3. From the file $\\texttt{data}\\_\\texttt{ex3.pkl}$ import the data to learn from"
   ]
  },
  {
   "cell_type": "code",
   "execution_count": null,
   "id": "072a5c25",
   "metadata": {},
   "outputs": [],
   "source": []
  },
  {
   "cell_type": "markdown",
   "id": "d9c2d5bb",
   "metadata": {},
   "source": [
    "### Step 2:\n",
    "\n",
    "Create instances of the $\\texttt{RunModel}$ class for the three models."
   ]
  },
  {
   "cell_type": "code",
   "execution_count": null,
   "id": "c0a6b7e7",
   "metadata": {},
   "outputs": [],
   "source": []
  },
  {
   "cell_type": "markdown",
   "id": "8e6a8e71",
   "metadata": {},
   "source": [
    "### Step 3\n",
    "\n",
    "For each model $m_i(\\boldsymbol{\\theta})$ create a joint distribution object for its parameters $\\boldsymbol{\\theta}$ that represents our prior belief.\n",
    "- $m_0(\\theta)$: $\\theta_0\\sim\\mathcal{N}(0,10)$.\n",
    "- $m_1(\\boldsymbol{\\theta})$: $\\theta_0\\sim\\mathcal{N}(0,1)$, $\\theta_1\\sim\\mathcal{N}(0,1)$\n",
    "- $m_2(\\boldsymbol{\\theta})$:  $\\theta_0\\sim\\mathcal{N}(0,1)$, $\\theta_1\\sim\\mathcal{N}(0,2)$, $\\theta_2\\sim\\mathcal{N}(0,0.25)$"
   ]
  },
  {
   "cell_type": "code",
   "execution_count": null,
   "id": "93c821bc",
   "metadata": {},
   "outputs": [],
   "source": []
  },
  {
   "cell_type": "markdown",
   "id": "6924d7dd",
   "metadata": {},
   "source": [
    "### Step 4\n",
    "\n",
    "Create instances of the $\\texttt{InferenceModel}$ class for the three models. In this case, for each model model you should also provide the $\\texttt{error}$\\_$\\texttt{covariance}$ as $\\texttt{np.ones(50)}$ (Why?)."
   ]
  },
  {
   "cell_type": "code",
   "execution_count": null,
   "id": "0ba7baec",
   "metadata": {},
   "outputs": [],
   "source": []
  },
  {
   "cell_type": "markdown",
   "id": "a06c2a75",
   "metadata": {},
   "source": [
    "### Step 5\n",
    "\n",
    "Create an instance of the $\\texttt{BayesModelSelection}$ class. To this end, you will need to utilize $\\texttt{MCMC}$ sampling methods:\n",
    "\n",
    "1. Import the necessary libraries. From the $\\texttt{UQpy.sampling}$ module import $\\texttt{MetropolisHastings}$ class. \n",
    "2. For each model, create a joint proposal distribution for its parameters $\\boldsymbol{\\theta}$, where  each marginal distribution is normally distributed. \n",
    "2. For each model, select to sample 2000 realizations of the parameters from their joint distribution.\n",
    "\n",
    "Print the posterior probability of each model."
   ]
  },
  {
   "cell_type": "code",
   "execution_count": null,
   "id": "1e11d17d",
   "metadata": {},
   "outputs": [],
   "source": []
  }
 ],
 "metadata": {
  "celltoolbar": "Slideshow",
  "kernelspec": {
   "display_name": "Python 3 (ipykernel)",
   "language": "python",
   "name": "python3"
  },
  "language_info": {
   "codemirror_mode": {
    "name": "ipython",
    "version": 3
   },
   "file_extension": ".py",
   "mimetype": "text/x-python",
   "name": "python",
   "nbconvert_exporter": "python",
   "pygments_lexer": "ipython3",
   "version": "3.9.12"
  }
 },
 "nbformat": 4,
 "nbformat_minor": 5
}
