{
 "cells": [
  {
   "cell_type": "markdown",
   "id": "2c0e7067",
   "metadata": {
    "slideshow": {
     "slide_type": "slide"
    }
   },
   "source": [
    "# MSEE UQ short course:  The $\\texttt{UQpy}$ library\n",
    "\n",
    "Application of Inference using the $\\texttt{UQpy}$ module $\\texttt{inference}$. \n",
    "\n",
    "Detailed instructions on how to use this module can be found in the $\\texttt{UQpy}$ documentation.\n",
    "\n",
    "https://uqpyproject.readthedocs.io/en/latest/inference_doc.html"
   ]
  },
  {
   "cell_type": "markdown",
   "id": "ac5af25f",
   "metadata": {},
   "source": [
    "# Activity 1 \n",
    "\n",
    "The goal of this activity is to become familiar with various $\\texttt{MCMC}$ algorithms\n",
    "\n",
    "Use the Rosenbrock distribution provided below, and generate samples using the following $\\texttt{MCMC}$ algorithms:\n",
    "- $\\texttt{ModifiedMetropolisHastings}$\n",
    "- $\\texttt{DRAM}$\n",
    "- $\\texttt{Stretch}$\n",
    "\n",
    "Explore the various options provided by each one of the algorithms."
   ]
  },
  {
   "cell_type": "code",
   "execution_count": null,
   "id": "6f82068d",
   "metadata": {},
   "outputs": [],
   "source": [
    "from UQpy.distributions import DistributionND\n",
    "\n",
    "\n",
    "class Rosenbrock(DistributionND):\n",
    "    def __init__(self, p=20.):\n",
    "        super().__init__(p=p)\n",
    "\n",
    "    def pdf(self, x):\n",
    "        return np.exp(-(100 * (x[:, 1] - x[:, 0] ** 2) ** 2 + (1 - x[:, 0]) ** 2) / self.parameters['p'])\n",
    "\n",
    "    def log_pdf(self, x):\n",
    "        return -(100 * (x[:, 1] - x[:, 0] ** 2) ** 2 + (1 - x[:, 0]) ** 2) / self.parameters['p']"
   ]
  },
  {
   "cell_type": "code",
   "execution_count": null,
   "id": "54a37255",
   "metadata": {},
   "outputs": [],
   "source": []
  },
  {
   "cell_type": "markdown",
   "id": "027b8dda",
   "metadata": {},
   "source": [
    "# Activity 2\n",
    "\n",
    "Use **information-theoretic** inference to select between probability models. \n",
    "\n",
    "You are provided with file $\\texttt{'data_ex1b.txt'}$ that contains synthetic measurements for the parameter.  Use model selection with $BIC$ criterion to identify the probability model that best describes the data. \n",
    "\n",
    "The set of candidate models consists of the following probability models: \n",
    "\n",
    "- $\\texttt{Normal}$\n",
    "- $\\texttt{Lognormal}$\n",
    "- $\\texttt{Uniform}$\n",
    "- $\\texttt{ChiSquare}$\n",
    "- $\\texttt{Beta}$\n",
    "- $\\texttt{Levy}$\n",
    "- $\\texttt{InverseGauss}$\n",
    "- $\\texttt{Exponential}$"
   ]
  },
  {
   "cell_type": "code",
   "execution_count": null,
   "id": "92ad414f",
   "metadata": {},
   "outputs": [],
   "source": []
  },
  {
   "cell_type": "markdown",
   "id": "94b3d8ea",
   "metadata": {},
   "source": [
    "# Activity 3\n",
    "\n",
    "Using the **Bayesian model** selection to choose between regression models. Consider the problem of Exercise 1. In this case, each candidate model $m_i$ is given a prior probability $P(m_i) = 1/3$. For each model, our prior belief about its parameters $\\theta_i$ is that they are normally distributed as: \n",
    "- $m_0(\\theta)$: $\\theta_0\\sim\\mathcal{N}(0,10)$.\n",
    "- $m_1(\\boldsymbol{\\theta})$: $\\theta_0\\sim\\mathcal{N}(0,1)$, $\\theta_1\\sim\\mathcal{N}(0,1)$\n",
    "- $m_2(\\boldsymbol{\\theta})$:  $\\theta_0\\sim\\mathcal{N}(0,1)$, $\\theta_1\\sim\\mathcal{N}(0,2)$, $\\theta_2\\sim\\mathcal{N}(0,0.25)$\n",
    "\n",
    "Using the same $\\texttt{BayesModelSelection}$ of **Exercise 4** of the In-Class exercises\n",
    "\n",
    "- Change the parameters of the $\\texttt{MetropolisHastings}$ sampling, to see how the results change.\n",
    "- Use $\\texttt{ModifiedMetropolisHastings}$, $\\texttt{DRAM}$ and $\\texttt{MetropolisHastings}$ sampling algorithms for each one of the probability models respectively.  "
   ]
  },
  {
   "cell_type": "code",
   "execution_count": null,
   "id": "eb6abf99",
   "metadata": {},
   "outputs": [],
   "source": []
  },
  {
   "cell_type": "markdown",
   "id": "c27ef906",
   "metadata": {},
   "source": [
    "# Activity 4\n",
    "\n",
    "\n",
    "## Perform ${BayesParameterEstimation}$ for the Hugoniot relationships.\n",
    "\n",
    "The model consists of the Rankine-Hugoniot equations. These equations describe the relationship between the states on both sides of a shock wave and express the conservation of mass, momentum and energy:\n",
    "\n",
    "   \\begin{align*}\n",
    "    & \\rho_0 U_s = \\rho_1(U_s -u_p)\\\\\n",
    "    & P_1=\\rho_0 U_s u_p \\\\\n",
    "    & E_1 -E_0=\\frac{1}{2}(P_1+P_0)(\\frac{1}{\\rho_0}-\\frac{1}{\\rho_1})\n",
    "   \\end{align*}\n",
    "\n",
    "given the relationship between $U_s, u_p$ can be computed and subsequently the quantities $\\rho_1, P_1$ and $E_1$ can be computed. We know that the relationship between the shock velocity $U_s$ and particle velocity $u_p$ is given by a cubic polynomial expression as follows:\n",
    "\n",
    "   \\begin{align*}\n",
    "    U_s = a_0 + a_1 \\cdot u_p + a_2 \\cdot u_p^2+ a_3 \\cdot u_p^3\n",
    "   \\end{align*}\n",
    "\n",
    "\n",
    "Given the file $\\texttt{experimental}\\_\\texttt{hugoniot}\\_\\texttt{data.pkl}$ that contains experimental results, perform $\\texttt{BayesParameterEstimation}$ to determine the actual distribution of the polynomial parameters that dictate the relationship between the shock $U_s$ and particle velocities $u_p$."
   ]
  },
  {
   "cell_type": "code",
   "execution_count": null,
   "id": "0815509a",
   "metadata": {
    "pycharm": {
     "name": "#%%\n"
    }
   },
   "outputs": [],
   "source": []
  }
 ],
 "metadata": {
  "celltoolbar": "Slideshow",
  "kernelspec": {
   "display_name": "Python 3 (ipykernel)",
   "language": "python",
   "name": "python3"
  },
  "language_info": {
   "codemirror_mode": {
    "name": "ipython",
    "version": 3
   },
   "file_extension": ".py",
   "mimetype": "text/x-python",
   "name": "python",
   "nbconvert_exporter": "python",
   "pygments_lexer": "ipython3",
   "version": "3.9.12"
  }
 },
 "nbformat": 4,
 "nbformat_minor": 5
}
