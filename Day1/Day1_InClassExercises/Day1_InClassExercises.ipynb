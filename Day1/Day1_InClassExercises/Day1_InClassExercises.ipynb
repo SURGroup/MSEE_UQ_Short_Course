{
 "cells": [
  {
   "cell_type": "markdown",
   "id": "a95e3914",
   "metadata": {
    "slideshow": {
     "slide_type": "slide"
    }
   },
   "source": [
    "# MSEE UQ short course:  The $\\texttt{UQpy}$ library\n",
    "\n",
    "Application of forward UQ using the $\\texttt{UQpy}$ modules $\\texttt{run}\\_\\texttt{model}, \\texttt{distributions}$ and $\\texttt{sampling}$.\n",
    "\n",
    "Detailed instructions on how to use these modules can be found in the $\\texttt{UQpy}$ documentation.\n",
    "\n",
    "\n",
    "https://uqpyproject.readthedocs.io/en/latest/runmodel_doc.html\n",
    "\n",
    "https://uqpyproject.readthedocs.io/en/latest/distributions/index.html\n",
    "\n",
    "https://uqpyproject.readthedocs.io/en/latest/sampling/index.html"
   ]
  },
  {
   "cell_type": "code",
   "execution_count": null,
   "id": "326da69d",
   "metadata": {},
   "outputs": [],
   "source": []
  },
  {
   "cell_type": "markdown",
   "id": "768e5636",
   "metadata": {},
   "source": [
    "# Exercise 1 \n",
    "\n",
    "\n",
    "## Linking a $\\texttt{Python}$ computational model with $\\texttt{UQpy}$\n",
    "\n",
    "The model consists in a highly nonlinear single degree of freedom system represented by a Bouc-Wen model of hysteresis:\n",
    "\n",
    "   \\begin{align*}\n",
    "    & m \\ddot{z}(t) + k r(t) = - \\ddot{u}(t) \\\\\n",
    "    & \\dot{r}(t) = \\dot{z} - \\beta \\vert\\dot{z}(t)\\vert \\vert r(t) \\vert^{2} r(t) - \\gamma \\dot{z}(t) \\vert r(t) \\vert^{3}\n",
    "   \\end{align*}\n",
    "\n",
    "where $\\ddot{u}(t)$ is the ground motion exciting the system. The Bouc-Wen model of hysteresis is parameterized by stiffness $k$, parameter $r_{0}=\\sqrt[3]{\\frac{1}{\\beta-\\gamma}}$ and parameter $\\delta=\\frac{\\beta}{\\beta+\\gamma}$. Forward simulation of the problem is performed via a 4th-order Runge-Kutta method. \n",
    "This example makes use of the following file:\n",
    "- $\\texttt{USACA47.035.txt}$ that contains the El-Centro earthquake ground motion time-series, downloaded from the Center for Engineering Strong Motion Data."
   ]
  },
  {
   "cell_type": "markdown",
   "id": "5570fa37",
   "metadata": {},
   "source": [
    "# Part 1\n",
    "\n",
    "You are provided with the $\\texttt{boucwen}$ function in the script $\\texttt{model.py}$. This function runs the Bouc-Wen model of hysterisis for the El-centro earthquake ground motion excitation. This funtion returns the maximum displacement $z(t)$ of the system.\n",
    "\n",
    "Run the model for the nominal set of parameters $k=1.0$, $r_{0}=2.5$, $\\delta=0.9$, and print the output of the function."
   ]
  },
  {
   "cell_type": "code",
   "execution_count": null,
   "id": "e24ee733",
   "metadata": {},
   "outputs": [],
   "source": []
  },
  {
   "cell_type": "markdown",
   "id": "cc1752e4",
   "metadata": {},
   "source": [
    "# Part 2\n",
    "\n",
    "Run the Bouc-Wen model for the same set of parameters, using the $\\texttt{RunModel}$ class of $\\texttt{UQpy}$. "
   ]
  },
  {
   "cell_type": "markdown",
   "id": "5ab131e1",
   "metadata": {},
   "source": [
    "### Step 1\n",
    "\n",
    "Import $\\texttt{RunModel}$ class from $\\texttt{UQpy.run}$\\_$\\texttt{model}$ module.\n",
    "\n",
    "Since the computational model to be executed is a Python model, we also need to import $\\texttt{PythonModel}$ from the same module."
   ]
  },
  {
   "cell_type": "code",
   "execution_count": null,
   "id": "f3857e88",
   "metadata": {},
   "outputs": [],
   "source": []
  },
  {
   "cell_type": "markdown",
   "id": "b4e42865",
   "metadata": {},
   "source": [
    "### Step 2\n",
    "\n",
    "Instantiate a $\\texttt{PythonModel}$ object:\n",
    "- Define $\\texttt{model.py}$ as the $\\texttt{model}$\\_$\\texttt{script}$ attribute.\n",
    "- Define $\\texttt{boucwen}$ as the $\\texttt{model}$\\_$\\texttt{object}\\_\\texttt{name}$ attribute.\n",
    "\n",
    "Instantiate a $\\texttt{RunModel}$ object: \n",
    "- Define the $\\texttt{PythonModel}$ object created above as the $\\texttt{model}$ attribute.\n",
    "\n"
   ]
  },
  {
   "cell_type": "code",
   "execution_count": null,
   "id": "ec5e7ed7",
   "metadata": {},
   "outputs": [],
   "source": []
  },
  {
   "cell_type": "markdown",
   "id": "4ab0c161",
   "metadata": {},
   "source": [
    "### Step 3\n",
    "\n",
    "Generate an ndarray containing the set of parameters (the shape of the array should be (1, 3)).\n",
    "\n"
   ]
  },
  {
   "cell_type": "code",
   "execution_count": null,
   "id": "da865660",
   "metadata": {},
   "outputs": [],
   "source": []
  },
  {
   "cell_type": "markdown",
   "id": "403c29fd",
   "metadata": {},
   "source": [
    "### Step 4\n",
    "\n",
    "Run the model for this set of parameters using the $\\texttt{run}$ method of the $\\texttt{RunModel}$ object. Print the response (i.e.,  $\\texttt{qoi}$\\_$\\texttt{list}$ attribute of the  $\\texttt{RunModel}$ object)."
   ]
  },
  {
   "cell_type": "code",
   "execution_count": null,
   "id": "22affd08",
   "metadata": {},
   "outputs": [],
   "source": []
  },
  {
   "cell_type": "markdown",
   "id": "698fc25e",
   "metadata": {},
   "source": [
    "# Exercise 2 \n",
    "\n",
    "\n",
    "## Linking a third-party software computational model with $\\texttt{UQpy}$\n",
    "\n",
    "\n",
    "The model consists of an identation test performed on a cuboid sample with the aid of an elastic contact sphere. \n",
    "\n",
    "\n",
    "<img src=\"IndentationTest.png\" width=\"500\"> \n",
    "\n",
    "\n",
    "The example is adopted from  https://sfepy.org/doc-devel/examples/linear_elasticity-elastic_contact_sphere.html. \n",
    "The analysis is performed using the Python package $\\texttt{sfepy}$. Visualization can be performed with Paraview. Even though the problem is composed by linear materials and described by small deformations, it is highly non-linear due to the contact boundary conditions between the sphere and the cube. \n",
    "\n",
    "The system is parameterized by two parameters: (i) the elastic sphere stiffness parameter $\\texttt{k}$ and, (ii) the force $\\texttt{f0}$ at the contact point before identation begins. The response of the model consists of the maximum absolute value of the displacement field at the identation point. "
   ]
  },
  {
   "cell_type": "markdown",
   "id": "7bd6bb05",
   "metadata": {},
   "source": [
    "# Part 1\n",
    "\n",
    "You are provided with the following scripts:\n",
    "\n",
    "1. $\\texttt{elastic}$\\_$\\texttt{contact}$\\_$\\texttt{sphere.py}$  script which runs the contact sphere model model.\n",
    "2. $\\texttt{simple.py}$ script that contains the $\\texttt{sfepy}$ solver that executes the identation test.\n",
    "\n",
    "$\\texttt{simple.py}$ script and the $\\texttt{elastic}$\\_$\\texttt{contact}$\\_$\\texttt{sphere.py}$ script must be in the same directory in order for the solver to be executed.\n",
    "\n",
    "- Run the elastic sphere contact sphere model for the nominal parameters $\\texttt{k}=10^5$, $\\texttt{f0}=0.01$. You can type the following command in a cell:\n",
    "\n",
    "    - $\\texttt{%run}$  $\\texttt{simple.py}$ $\\texttt{elastic}$_ $\\texttt{contact}$_ $\\texttt{sphere.py}$. This will create the output file  \n",
    "    $\\texttt{cube}$_ $\\texttt{medium}$_$\\texttt{hexa.vtk}$ that contains the displacement field. \n",
    "    \n",
    "    \n",
    "- Read the output file by typing the following commands in a cell:\n",
    "\n",
    "    - $\\texttt{import meshio}$\n",
    "    - $\\texttt{mesh=meshio.read('cube}$\\_$\\texttt{medium}$\\_$\\texttt{hexa.vtk'})$\n",
    "    - $\\texttt{disp=mesh.point}$\\_$\\texttt{data['u']}$\n",
    "    - $\\texttt{y =max(abs(disp[:, 2])))}$\n",
    "    \n",
    "- Print the response"
   ]
  },
  {
   "cell_type": "code",
   "execution_count": null,
   "id": "2bf4a48e",
   "metadata": {},
   "outputs": [],
   "source": []
  },
  {
   "cell_type": "markdown",
   "id": "8c2b6354",
   "metadata": {},
   "source": [
    "# Part 2\n",
    "\n",
    "Run the contact sphere model for the nominal set of parameters using the $\\texttt{RunModel}$ of $\\texttt{UQpy}$. You are provided with the additional files:\n",
    "\n",
    "1. $\\texttt{PythonAsThirdParty.py}$ \n",
    "2. $\\texttt{process}$\\_$\\texttt{3rd}$\\_$\\texttt{party}$\\_$\\texttt{output.py}$ \n"
   ]
  },
  {
   "cell_type": "markdown",
   "id": "c81345e1",
   "metadata": {},
   "source": [
    "\n",
    "### Step 1\n",
    "\n",
    "File $\\texttt{elastic}$\\_$\\texttt{contact}$\\_$\\texttt{sphere.py}$ will serve as the $\\texttt{input}$\\_$\\texttt{template}$ file in this example. Your first task is to modify it to accept values for the parameters $\\texttt{k}$ and $\\texttt{f0}$: Replace their values with angle brackets $<,>$ with the variable names inside. The variable names are provided in the $\\texttt{var}$\\_$\\texttt{names}$ list, i.e., $\\texttt{<stifness>}$ and $\\texttt{<force>}$."
   ]
  },
  {
   "cell_type": "markdown",
   "id": "2c16e6b2",
   "metadata": {},
   "source": [
    "\n",
    "### Step 2\n",
    "\n",
    "File $\\texttt{PythonAsThirdParty.py}$ serves as $\\texttt{model}$\\_$\\texttt{script}$. This file contains the function $\\texttt{run}$\\_$\\texttt{model}$ that runs the $\\texttt{Python}$ $\\texttt{sfepy}$ model as a third-party software. You have to complete this function  to perform the following operations:\n",
    "\n",
    "- The function $\\texttt{run}$\\_$\\texttt{model}$ should take a single input argument $\\texttt{n}$ (the python index of the run). The function should not return anything. \n",
    "\n",
    "- Import  $\\texttt{Python}$ library  $\\texttt{os}$. \n",
    "\n",
    "- Copy the $\\texttt{input}$\\_$\\texttt{template}$ script that corresponds to run $\\texttt{n}$,  (i.e.,$\\texttt{elastic}$\\_$\\texttt{contact}$\\_$\\texttt{sphere}$\\_$\\texttt{n.py'}$) from  directory $\\texttt{../Model}$\\_$\\texttt{Runs/run}$\\_$\\texttt{n/InputFiles/}$ to the current working directory  $\\texttt{../Model}$\\_$\\texttt{Runs/run}$\\_$\\texttt{n/}$.\n",
    "\n",
    "- Run the model using  $\\texttt{os.system(command})$ where\n",
    "\n",
    "$\\texttt{command = 'python3 simple.py}$ \n",
    "$\\texttt{elastic}$\\_$\\texttt{contact}$\\_$\\texttt{sphere}$\\_$\\texttt{n.py'}$.\n",
    "\n",
    "- Copy the generated file $\\texttt{cube}$\\_$\\texttt{medium}$\\_$\\texttt{hexa}$\\_$\\texttt{index.vtk}$ from the current working directory  $\\texttt{../Model}$\\_$\\texttt{Runs/run}$\\_$\\texttt{n/}$ to $\\texttt{../Model}$\\_$\\texttt{Runs/run}$\\_$\\texttt{n/OutputFiles/}$ directory. "
   ]
  },
  {
   "cell_type": "markdown",
   "id": "f8ed0fe6",
   "metadata": {},
   "source": [
    "\n",
    "### Step 3\n",
    "\n",
    "File $\\texttt{process}$\\_$\\texttt{3rd}$\\_$\\texttt{party}$\\_$\\texttt{output.py}$ serves as  $\\texttt{output}$\\_$\\texttt{script}$. Complete function $\\texttt{read}$\\_$\\texttt{output}$ to take a single input argument  $\\texttt{n}$, that is the python index of the run. The function should reads the generated $\\texttt{.vtk}$ file and returns the response."
   ]
  },
  {
   "cell_type": "markdown",
   "id": "f018096a",
   "metadata": {},
   "source": [
    "\n",
    "### Step 4\n",
    "\n",
    "- Instantiate a $\\texttt{RunModel}$ object: \n",
    "- Create a $\\texttt{ThirdPartyModel}$ object that contains all the third-party model files.\n",
    "- Generate an ndarray containing the set of parameters (the shape of the array should be (1, 2)).\n",
    "- Run the model for this set of parameters using the $\\texttt{run}$ method of the $\\texttt{RunModel}$ object.\n",
    "- Print the response (i.e.,  $\\texttt{qoi}$\\_$\\texttt{list}$ attribute of the  $\\texttt{RunModel}$ object)."
   ]
  },
  {
   "cell_type": "code",
   "execution_count": null,
   "id": "c89a7332",
   "metadata": {},
   "outputs": [],
   "source": []
  },
  {
   "cell_type": "markdown",
   "id": "462ed88e",
   "metadata": {},
   "source": [
    "# Exercise 3 \n",
    "\n",
    "\n",
    "## Forward propagation of uncertainties using $\\texttt{UQpy}$\n",
    "\n",
    "In this exercise you have to propagate uncertainties through the Bouc-Wen computational model. Randomness is assumed in the systems' parameters [$k, r_{0}, \\delta$]. The parameters are considered to be independent, with the following probability distribution models:\n",
    "\n",
    "- Parameter $k$ is assumed to be uniformly distributed, i.e., $k \\sim \\mathcal{U}(0.5, 2.5)$. \n",
    "- Parameter $r_{0}$ is assumed to be normally distributed, i.e., $r_0 \\sim \\mathcal{N}(2.5, 0.01)$. \n",
    "- Parameter $\\delta$ is assumed to be normally distributed, i.e.,  $\\delta \\sim\\mathcal{N}(0.9, 0.04)$.\n",
    "\n",
    "Realizations of the input uncertain parameters are obtained via Monte Carlo sampling."
   ]
  },
  {
   "cell_type": "markdown",
   "id": "e0768d33",
   "metadata": {},
   "source": [
    "## Part 1\n",
    "\n",
    "Create a distribution object for each parameter (random variable)."
   ]
  },
  {
   "cell_type": "markdown",
   "id": "ca4f7bdc",
   "metadata": {},
   "source": [
    "### Step 1\n",
    "\n",
    "Import the necessary probability models i.e., $\\texttt{Uniform}$ and $\\texttt{Normal}$  from the $\\texttt{distributions}$ module of $\\texttt{UQpy}$."
   ]
  },
  {
   "cell_type": "code",
   "execution_count": null,
   "id": "ee3b734d",
   "metadata": {},
   "outputs": [],
   "source": []
  },
  {
   "cell_type": "markdown",
   "id": "79c23dca",
   "metadata": {},
   "source": [
    "### Step 2\n",
    "\n",
    "For each random variable create a $\\texttt{Distribution}$ object. Define a joint distribution object from the independent distributions. To this end you will also need: \n",
    "\n",
    "- Import $\\texttt{JointIndependent}$ class from $\\texttt{distributions}$ module of $\\texttt{UQpy}$.\n",
    "\n",
    "- Create a $\\texttt{JointIndependent}$  object by providing a list of the marginal distributions."
   ]
  },
  {
   "cell_type": "code",
   "execution_count": null,
   "id": "4a5c91be",
   "metadata": {},
   "outputs": [],
   "source": []
  },
  {
   "cell_type": "markdown",
   "id": "d5e7df60",
   "metadata": {},
   "source": [
    "## Part 2\n",
    "\n",
    "Create a $\\texttt{MonteCarloSampling}$ object.\n",
    "\n",
    "- Import  $\\texttt{MonteCarloSampling}$ class from the $\\texttt{sampling}$ module of $\\texttt{UQpy}$.\n",
    "\n",
    "- Create $\\texttt{MonteCarloSampling}$ object, i.e., provide the $\\texttt{JointIndependent}$ as the $\\texttt{distributions}$ parameter and define the number of samples: $\\texttt{nsamples}=10$."
   ]
  },
  {
   "cell_type": "code",
   "execution_count": null,
   "id": "7aed239c",
   "metadata": {},
   "outputs": [],
   "source": []
  },
  {
   "cell_type": "markdown",
   "id": "a8089f22",
   "metadata": {},
   "source": [
    "## Part 3\n",
    "\n",
    "Forward propagation of the undertainties through the Bouc-Wen computational model.\n",
    "\n",
    "- Import $\\texttt{RunModel}$ from $\\texttt{UQpy.run}$\\_$\\texttt{model}$ module.\n",
    "- Instantiate a $\\texttt{PythonModel}$ object that serves as an input to the $\\texttt{RunModel}$ object\n",
    "- Run the model for the sets of parameters using the $\\texttt{run}$ method of the $\\texttt{RunModel}$ object.\n",
    "- Plot the histogram of the response."
   ]
  },
  {
   "cell_type": "code",
   "execution_count": null,
   "id": "3061f8ce",
   "metadata": {},
   "outputs": [],
   "source": []
  }
 ],
 "metadata": {
  "celltoolbar": "Slideshow",
  "kernelspec": {
   "display_name": "Python 3 (ipykernel)",
   "language": "python",
   "name": "python3"
  },
  "language_info": {
   "codemirror_mode": {
    "name": "ipython",
    "version": 3
   },
   "file_extension": ".py",
   "mimetype": "text/x-python",
   "name": "python",
   "nbconvert_exporter": "python",
   "pygments_lexer": "ipython3",
   "version": "3.9.12"
  }
 },
 "nbformat": 4,
 "nbformat_minor": 5
}
