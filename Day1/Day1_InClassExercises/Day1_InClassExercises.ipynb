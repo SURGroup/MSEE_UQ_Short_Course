{
 "cells": [
  {
   "cell_type": "markdown",
   "id": "a95e3914",
   "metadata": {
    "slideshow": {
     "slide_type": "slide"
    }
   },
   "source": [
    "# MSEE UQ short course:  The $\\texttt{UQpy}$ library\n",
    "\n",
    "Application of forward UQ using the $\\texttt{UQpy}$ modules $\\texttt{run}\\_\\texttt{model}, \\texttt{distributions}$ and $\\texttt{sampling}$.\n",
    "\n",
    "Detailed instructions on how to use these modules can be found in the $\\texttt{UQpy}$ documentation.\n",
    "\n",
    "\n",
    "https://uqpyproject.readthedocs.io/en/latest/runmodel_doc.html\n",
    "\n",
    "https://uqpyproject.readthedocs.io/en/latest/distributions/index.html\n",
    "\n",
    "https://uqpyproject.readthedocs.io/en/latest/sampling/index.html"
   ]
  },
  {
   "cell_type": "code",
   "execution_count": 1,
   "id": "326da69d",
   "metadata": {},
   "outputs": [],
   "source": [
    "import numpy as np\n",
    "from model import boucwen"
   ]
  },
  {
   "cell_type": "markdown",
   "id": "768e5636",
   "metadata": {},
   "source": [
    "# Exercise 1 \n",
    "\n",
    "\n",
    "## Linking a $\\texttt{Python}$ computational model with $\\texttt{UQpy}$\n",
    "\n",
    "The model consists in a highly nonlinear single degree of freedom system represented by a Bouc-Wen model of hysteresis:\n",
    "\n",
    "   \\begin{align*}\n",
    "    & m \\ddot{z}(t) + k r(t) = - \\ddot{u}(t) \\\\\n",
    "    & \\dot{r}(t) = \\dot{z} - \\beta \\vert\\dot{z}(t)\\vert \\vert r(t) \\vert^{2} r(t) - \\gamma \\dot{z}(t) \\vert r(t) \\vert^{3}\n",
    "   \\end{align*}\n",
    "\n",
    "where $\\ddot{u}(t)$ is the ground motion exciting the system. The Bouc-Wen model of hysteresis is parameterized by stiffness $k$, parameter $r_{0}=\\sqrt[3]{\\frac{1}{\\beta-\\gamma}}$ and parameter $\\delta=\\frac{\\beta}{\\beta+\\gamma}$. Forward simulation of the problem is performed via a 4th-order Runge-Kutta method. \n",
    "This example makes use of the following file:\n",
    "- $\\texttt{USACA47.035.txt}$ that contains the El-Centro earthquake ground motion time-series, downloaded from the Center for Engineering Strong Motion Data."
   ]
  },
  {
   "cell_type": "markdown",
   "id": "5570fa37",
   "metadata": {},
   "source": [
    "# Part 1\n",
    "\n",
    "You are provided with the $\\texttt{boucwen}$ function in the script $\\texttt{model.py}$. This function runs the Bouc-Wen model of hysterisis for the El-centro earthquake ground motion excitation. This funtion returns the maximum displacement $z(t)$ of the system.\n",
    "\n",
    "Run the model for the nominal set of parameters $k=1.0$, $r_{0}=2.5$, $\\delta=0.9$, and print the output of the function."
   ]
  },
  {
   "cell_type": "code",
   "execution_count": 2,
   "id": "e24ee733",
   "metadata": {},
   "outputs": [],
   "source": [
    "##Solution\n",
    "from model import *\n",
    "\n",
    "max_disp=boucwen(np.atleast_2d([1.0, 2.5, 0.9]))\n"
   ]
  },
  {
   "cell_type": "markdown",
   "id": "cc1752e4",
   "metadata": {},
   "source": [
    "# Part 2\n",
    "\n",
    "Run the Bouc-Wen model for the same set of parameters, using the $\\texttt{RunModel}$ class of $\\texttt{UQpy}$. "
   ]
  },
  {
   "cell_type": "markdown",
   "id": "5ab131e1",
   "metadata": {},
   "source": [
    "### Step 1\n",
    "\n",
    "Import $\\texttt{RunModel}$ class from $\\texttt{UQpy.run}$\\_$\\texttt{model}$ module.\n",
    "\n",
    "Since the computational model to be executed is a Python model, we also need to import $\\texttt{PythonModel}$ from the same module."
   ]
  },
  {
   "cell_type": "code",
   "execution_count": 3,
   "id": "f3857e88",
   "metadata": {},
   "outputs": [],
   "source": [
    "# Solution\n",
    "from UQpy.run_model.RunModel import RunModel\n",
    "from UQpy.run_model.model_execution.PythonModel import PythonModel"
   ]
  },
  {
   "cell_type": "markdown",
   "id": "b4e42865",
   "metadata": {},
   "source": [
    "### Step 2\n",
    "\n",
    "Instantiate a $\\texttt{PythonModel}$ object:\n",
    "- Define $\\texttt{model.py}$ as the $\\texttt{model}$\\_$\\texttt{script}$ attribute.\n",
    "- Define $\\texttt{boucwen}$ as the $\\texttt{model}$\\_$\\texttt{object}\\_\\texttt{name}$ attribute.\n",
    "\n",
    "Instantiate a $\\texttt{RunModel}$ object: \n",
    "- Define the $\\texttt{PythonModel}$ object created above as the $\\texttt{model}$ attribute.\n",
    "\n"
   ]
  },
  {
   "cell_type": "code",
   "execution_count": 4,
   "id": "ec5e7ed7",
   "metadata": {},
   "outputs": [],
   "source": [
    "#Solution\n",
    "from UQpy.sampling import MonteCarloSampling\n",
    "from UQpy.distributions import Normal, Uniform, Lognormal, JointIndependent\n",
    "\n",
    "##Run the model\n",
    "m=PythonModel(model_script='model.py', model_object_name='boucwen', var_names=['k', 'r0', 'delta'])\n",
    "boucwen = RunModel(model=m)"
   ]
  },
  {
   "cell_type": "markdown",
   "id": "4ab0c161",
   "metadata": {},
   "source": [
    "### Step 3\n",
    "\n",
    "Generate an ndarray containing the set of parameters (the shape of the array should be (1, 3)).\n",
    "\n"
   ]
  },
  {
   "cell_type": "code",
   "execution_count": 5,
   "id": "da865660",
   "metadata": {},
   "outputs": [],
   "source": [
    "# Solution\n",
    "import numpy as np\n",
    "samples=np.array([1.0, 2.5, 0.9]).reshape(1,-1)"
   ]
  },
  {
   "cell_type": "markdown",
   "id": "403c29fd",
   "metadata": {},
   "source": [
    "### Step 4\n",
    "\n",
    "Run the model for this set of parameters using the $\\texttt{run}$ method of the $\\texttt{RunModel}$ object. Print the response (i.e.,  $\\texttt{qoi}$\\_$\\texttt{list}$ attribute of the  $\\texttt{RunModel}$ object)."
   ]
  },
  {
   "cell_type": "code",
   "execution_count": 6,
   "id": "22affd08",
   "metadata": {},
   "outputs": [
    {
     "name": "stdout",
     "output_type": "stream",
     "text": [
      "[5.029733072011507]\n"
     ]
    }
   ],
   "source": [
    "boucwen.run(samples=samples)\n",
    "print(boucwen.qoi_list)"
   ]
  },
  {
   "cell_type": "markdown",
   "id": "698fc25e",
   "metadata": {},
   "source": [
    "# Exercise 2 \n",
    "\n",
    "\n",
    "## Linking a third-party software computational model with $\\texttt{UQpy}$\n",
    "\n",
    "\n",
    "The model consists of an identation test performed on a cuboid sample with the aid of an elastic contact sphere. \n",
    "\n",
    "\n",
    "<img src=\"IndentationTest.png\" width=\"500\"> \n",
    "\n",
    "\n",
    "The example is adopted from  https://sfepy.org/doc-devel/examples/linear_elasticity-elastic_contact_sphere.html. \n",
    "The analysis is performed using the Python package $\\texttt{sfepy}$. Visualization can be performed with Paraview. Even though the problem is composed by linear materials and described by small deformations, it is highly non-linear due to the contact boundary conditions between the sphere and the cube. \n",
    "\n",
    "The system is parameterized by two parameters: (i) the elastic sphere stiffness parameter $\\texttt{k}$ and, (ii) the force $\\texttt{f0}$ at the contact point before identation begins. The response of the model consists of the maximum absolute value of the displacement field at the identation point. "
   ]
  },
  {
   "cell_type": "markdown",
   "id": "7bd6bb05",
   "metadata": {},
   "source": [
    "# Part 1\n",
    "\n",
    "You are provided with the following scripts:\n",
    "\n",
    "1. $\\texttt{elastic}$\\_$\\texttt{contact}$\\_$\\texttt{sphere.py}$  script which runs the contact sphere model model.\n",
    "2. $\\texttt{simple.py}$ script that contains the $\\texttt{sfepy}$ solver that executes the identation test.\n",
    "\n",
    "$\\texttt{simple.py}$ script and the $\\texttt{elastic}$\\_$\\texttt{contact}$\\_$\\texttt{sphere.py}$ script must be in the same directory in order for the solver to be executed.\n",
    "\n",
    "- Run the elastic sphere contact sphere model for the nominal parameters $\\texttt{k}=10^5$, $\\texttt{f0}=0.01$. You can type the following command in a cell:\n",
    "\n",
    "    - $\\texttt{%run}$  $\\texttt{simple.py}$ $\\texttt{elastic}$_ $\\texttt{contact}$_ $\\texttt{sphere.py}$. This will create the output file  \n",
    "    $\\texttt{cube}$_ $\\texttt{medium}$_$\\texttt{hexa.vtk}$ that contains the displacement field. \n",
    "    \n",
    "    \n",
    "- Read the output file by typing the following commands in a cell:\n",
    "\n",
    "    - $\\texttt{import meshio}$\n",
    "    - $\\texttt{mesh=meshio.read('cube}$\\_$\\texttt{medium}$\\_$\\texttt{hexa.vtk'})$\n",
    "    - $\\texttt{disp=mesh.point}$\\_$\\texttt{data['u']}$\n",
    "    - $\\texttt{y =max(abs(disp[:, 2])))}$\n",
    "    \n",
    "- Print the response"
   ]
  },
  {
   "cell_type": "code",
   "execution_count": 1,
   "id": "2bf4a48e",
   "metadata": {},
   "outputs": [
    {
     "name": "stdout",
     "output_type": "stream",
     "text": [
      "sfepy: left over: ['__name__', '__doc__', '__package__', '__loader__', '__spec__', '__file__', '__cached__', '__builtins__', 'absolute_import', 'data_dir', 'stiffness_from_lame', 'k', 'f0', 'main', 'verbose', '_filename']\n",
      "sfepy: reading mesh (/Users/dimitris/Desktop/Day1/Day1_InClassExercises_Solutions/cube_medium_hexa.mesh)...\n",
      "sfepy:   number of vertices: 1331\n",
      "sfepy:   number of cells:\n",
      "sfepy:     3_8: 1000\n",
      "sfepy: ...done in 0.01 s\n",
      "sfepy: creating regions...\n",
      "sfepy:     Omega\n",
      "sfepy:     Bottom\n",
      "sfepy:     Top\n",
      "sfepy: ...done in 0.01 s\n",
      "sfepy: equation \"elasticity\":\n",
      "sfepy: dw_lin_elastic.2.Omega(solid.D, v, u)\n",
      "     + dw_contact_sphere.2.Top(cs.f, cs.c, cs.r, v, u)\n",
      "     = 0\n",
      "sfepy: using solvers:\n",
      "                ts: no ts\n",
      "               nls: newton\n",
      "                ls: ls\n",
      "sfepy: updating variables...\n",
      "sfepy: ...done\n",
      "sfepy: setting up dof connectivities...\n",
      "sfepy: ...done in 0.00 s\n",
      "sfepy: matrix shape: (3630, 3630)\n",
      "sfepy: assembling matrix graph...\n",
      "sfepy: ...done in 0.02 s\n",
      "sfepy: matrix structural nonzeros: 242172 (1.84e+00% fill)\n",
      "sfepy: updating variables...\n",
      "sfepy: ...done\n",
      "sfepy: updating materials...\n",
      "sfepy:     solid\n",
      "sfepy:     cs\n",
      "sfepy: ...done in 0.00 s\n",
      "sfepy: nls: iter: 0, residual: 3.774543e+02 (rel: 1.000000e+00)\n",
      "sfepy:   residual:    0.02 [s]\n",
      "sfepy:     matrix:    0.02 [s]\n",
      "sfepy:      solve:    0.39 [s]\n",
      "sfepy: nls: iter: 1, residual: 1.931773e+00 (rel: 5.117899e-03)\n",
      "sfepy:   residual:    0.00 [s]\n",
      "sfepy:     matrix:    0.03 [s]\n",
      "sfepy:      solve:    0.42 [s]\n",
      "sfepy: linesearch: iter 2, (3.17341e+01 < 3.86355e+00) (new ls: 1.000000e-01)\n",
      "sfepy: nls: iter: 2, residual: 3.100783e-01 (rel: 8.214989e-04)\n",
      "sfepy:   residual:    0.00 [s]\n",
      "sfepy:     matrix:    0.03 [s]\n",
      "sfepy:      solve:    0.40 [s]\n",
      "sfepy: linesearch: iter 3, (3.03796e+01 < 6.20157e-01) (new ls: 1.000000e-01)\n",
      "sfepy: linesearch: iter 3, (1.51739e+00 < 6.20157e-01) (new ls: 1.000000e-02)\n",
      "sfepy: nls: iter: 3, residual: 3.069746e-01 (rel: 8.132761e-04)\n",
      "sfepy:   residual:    0.00 [s]\n",
      "sfepy:     matrix:    0.03 [s]\n",
      "sfepy:      solve:    0.41 [s]\n",
      "sfepy: linesearch: iter 4, (3.03839e+01 < 6.13949e-01) (new ls: 1.000000e-01)\n",
      "sfepy: linesearch: iter 4, (1.74112e+00 < 6.13949e-01) (new ls: 1.000000e-02)\n",
      "sfepy: nls: iter: 4, residual: 3.039936e-01 (rel: 8.053785e-04)\n",
      "sfepy:   residual:    0.00 [s]\n",
      "sfepy:     matrix:    0.03 [s]\n",
      "sfepy:      solve:    0.44 [s]\n",
      "sfepy: linesearch: iter 5, (1.94821e+01 < 6.07987e-01) (new ls: 1.000000e-01)\n",
      "sfepy: linesearch: iter 5, (1.08653e+00 < 6.07987e-01) (new ls: 1.000000e-02)\n",
      "sfepy: nls: iter: 5, residual: 3.008785e-01 (rel: 7.971255e-04)\n",
      "sfepy:   residual:    0.00 [s]\n",
      "sfepy:     matrix:    0.03 [s]\n",
      "sfepy:      solve:    0.41 [s]\n",
      "sfepy: linesearch: iter 6, (1.78497e+01 < 6.01757e-01) (new ls: 1.000000e-01)\n",
      "sfepy: linesearch: iter 6, (1.11411e+00 < 6.01757e-01) (new ls: 1.000000e-02)\n",
      "sfepy: nls: iter: 6, residual: 3.013698e-01 (rel: 7.984272e-04)\n",
      "sfepy:   residual:    0.00 [s]\n",
      "sfepy:     matrix:    0.03 [s]\n",
      "sfepy:      solve:    0.41 [s]\n",
      "sfepy: linesearch: iter 7, (1.09936e+01 < 6.02740e-01) (new ls: 1.000000e-01)\n",
      "sfepy: linesearch: iter 7, (6.79175e-01 < 6.02740e-01) (new ls: 1.000000e-02)\n",
      "sfepy: nls: iter: 7, residual: 2.968858e-01 (rel: 7.865476e-04)\n",
      "sfepy:   residual:    0.00 [s]\n",
      "sfepy:     matrix:    0.03 [s]\n",
      "sfepy:      solve:    0.41 [s]\n",
      "sfepy: nls: iter: 8, residual: 5.904641e-01 (rel: 1.564333e-03)\n",
      "sfepy:   residual:    0.00 [s]\n",
      "sfepy:     matrix:    0.03 [s]\n",
      "sfepy:      solve:    0.44 [s]\n",
      "sfepy: nls: iter: 9, residual: 1.319303e-01 (rel: 3.495266e-04)\n",
      "sfepy:   residual:    0.00 [s]\n",
      "sfepy:     matrix:    0.03 [s]\n",
      "sfepy:      solve:    0.42 [s]\n",
      "sfepy: nls: iter: 10, residual: 1.249511e-01 (rel: 3.310365e-04)\n",
      "sfepy:   residual:    0.00 [s]\n",
      "sfepy:     matrix:    0.03 [s]\n",
      "sfepy:      solve:    0.41 [s]\n",
      "sfepy: linesearch: iter 11, (2.51798e-01 < 2.49902e-01) (new ls: 1.000000e-01)\n",
      "sfepy: nls: iter: 11, residual: 1.141365e-01 (rel: 3.023849e-04)\n",
      "sfepy:   residual:    0.00 [s]\n",
      "sfepy:     matrix:    0.03 [s]\n",
      "sfepy:      solve:    0.41 [s]\n",
      "sfepy: nls: iter: 12, residual: 2.073594e-02 (rel: 5.493630e-05)\n",
      "sfepy: solved in 1 steps in 5.46 seconds\n",
      "0.10048195708321803\n"
     ]
    }
   ],
   "source": [
    "# Solution\n",
    "%run simple.py elastic_contact_sphere_initial.py\n",
    "\n",
    "import meshio\n",
    "mesh=meshio.read('cube_medium_hexa.vtk')\n",
    "disp=mesh.point_data['u']\n",
    "y=max(abs(disp[:,2]))\n",
    "\n",
    "print(y)"
   ]
  },
  {
   "cell_type": "markdown",
   "id": "8c2b6354",
   "metadata": {},
   "source": [
    "# Part 2\n",
    "\n",
    "Run the contact sphere model for the nominal set of parameters using the $\\texttt{RunModel}$ of $\\texttt{UQpy}$. You are provided with the additional files:\n",
    "\n",
    "1. $\\texttt{PythonAsThirdParty.py}$ \n",
    "2. $\\texttt{process}$\\_$\\texttt{3rd}$\\_$\\texttt{party}$\\_$\\texttt{output.py}$ \n"
   ]
  },
  {
   "cell_type": "markdown",
   "id": "c81345e1",
   "metadata": {},
   "source": [
    "\n",
    "### Step 1\n",
    "\n",
    "File $\\texttt{elastic}$\\_$\\texttt{contact}$\\_$\\texttt{sphere.py}$ will serve as the $\\texttt{input}$\\_$\\texttt{template}$ file in this example. Your first task is to modify it to accept values for the parameters $\\texttt{k}$ and $\\texttt{f0}$: Replace their values with angle brackets $<,>$ with the variable names inside. The variable names are provided in the $\\texttt{var}$\\_$\\texttt{names}$ list, i.e., $\\texttt{<stifness>}$ and $\\texttt{<force>}$."
   ]
  },
  {
   "cell_type": "markdown",
   "id": "2c16e6b2",
   "metadata": {},
   "source": [
    "\n",
    "### Step 2\n",
    "\n",
    "File $\\texttt{PythonAsThirdParty.py}$ serves as $\\texttt{model}$\\_$\\texttt{script}$. This file contains the function $\\texttt{run}$\\_$\\texttt{model}$ that runs the $\\texttt{Python}$ $\\texttt{sfepy}$ model as a third-party software. You have to complete this function  to perform the following operations:\n",
    "\n",
    "- The function $\\texttt{run}$\\_$\\texttt{model}$ should take a single input argument $\\texttt{n}$ (the python index of the run). The function should not return anything. \n",
    "\n",
    "- Import  $\\texttt{Python}$ library  $\\texttt{os}$. \n",
    "\n",
    "- Copy the $\\texttt{input}$\\_$\\texttt{template}$ script that corresponds to run $\\texttt{n}$,  (i.e.,$\\texttt{elastic}$\\_$\\texttt{contact}$\\_$\\texttt{sphere}$\\_$\\texttt{n.py'}$) from  directory $\\texttt{../Model}$\\_$\\texttt{Runs/run}$\\_$\\texttt{n/InputFiles/}$ to the current working directory  $\\texttt{../Model}$\\_$\\texttt{Runs/run}$\\_$\\texttt{n/}$.\n",
    "\n",
    "- Run the model using  $\\texttt{os.system(command})$ where\n",
    "\n",
    "$\\texttt{command = 'python3 simple.py}$ \n",
    "$\\texttt{elastic}$\\_$\\texttt{contact}$\\_$\\texttt{sphere}$\\_$\\texttt{n.py'}$.\n",
    "\n",
    "- Copy the generated file $\\texttt{cube}$\\_$\\texttt{medium}$\\_$\\texttt{hexa}$\\_$\\texttt{index.vtk}$ from the current working directory  $\\texttt{../Model}$\\_$\\texttt{Runs/run}$\\_$\\texttt{n/}$ to $\\texttt{../Model}$\\_$\\texttt{Runs/run}$\\_$\\texttt{n/OutputFiles/}$ directory. "
   ]
  },
  {
   "cell_type": "markdown",
   "id": "f8ed0fe6",
   "metadata": {},
   "source": [
    "\n",
    "### Step 3\n",
    "\n",
    "File $\\texttt{process}$\\_$\\texttt{3rd}$\\_$\\texttt{party}$\\_$\\texttt{output.py}$ serves as  $\\texttt{output}$\\_$\\texttt{script}$. Complete function $\\texttt{read}$\\_$\\texttt{output}$ to take a single input argument  $\\texttt{n}$, that is the python index of the run. The function should reads the generated $\\texttt{.vtk}$ file and returns the response."
   ]
  },
  {
   "cell_type": "markdown",
   "id": "f018096a",
   "metadata": {},
   "source": [
    "\n",
    "### Step 4\n",
    "\n",
    "- Instantiate a $\\texttt{RunModel}$ object: \n",
    "- Create a $\\texttt{ThirdPartyModel}$ object that contains all the third-party model files.\n",
    "- Generate an ndarray containing the set of parameters (the shape of the array should be (1, 2)).\n",
    "- Run the model for this set of parameters using the $\\texttt{run}$ method of the $\\texttt{RunModel}$ object.\n",
    "- Print the response (i.e.,  $\\texttt{qoi}$\\_$\\texttt{list}$ attribute of the  $\\texttt{RunModel}$ object)."
   ]
  },
  {
   "cell_type": "code",
   "execution_count": 3,
   "id": "c89a7332",
   "metadata": {},
   "outputs": [
    {
     "name": "stdout",
     "output_type": "stream",
     "text": [
      "/Users/dimitris/Desktop/Day1/Day1_InClassExercises_Solutions/Model_Runs_2022_05_25_11_51_053517/run_0/InputFiles/elastic_contact_sphere_0.py\n",
      "/Users/dimitris/Desktop/Day1/Day1_InClassExercises_Solutions/Model_Runs_2022_05_25_11_51_053517/run_0/elastic_contact_sphere_0.py\n",
      "cp -r \"/Users/dimitris/Desktop/Day1/Day1_InClassExercises_Solutions/Model_Runs_2022_05_25_11_51_053517/run_0/InputFiles/elastic_contact_sphere_0.py\" \"/Users/dimitris/Desktop/Day1/Day1_InClassExercises_Solutions/Model_Runs_2022_05_25_11_51_053517/run_0/elastic_contact_sphere_0.py\"\n",
      "python3 simple.py elastic_contact_sphere_0.py\n",
      "sfepy: left over: ['__name__', '__doc__', '__package__', '__loader__', '__spec__', '__file__', '__cached__', '__builtins__', 'absolute_import', 'data_dir', 'stiffness_from_lame', 'k', 'f0', 'main', 'verbose', '_filename']\n",
      "sfepy: reading mesh (/Users/dimitris/Desktop/Day1/Day1_InClassExercises_Solutions/Model_Runs_2022_05_25_11_51_053517/run_0/cube_medium_hexa.mesh)...\n",
      "sfepy:   number of vertices: 1331\n",
      "sfepy:   number of cells:\n",
      "sfepy:     3_8: 1000\n",
      "sfepy: ...done in 0.01 s\n",
      "sfepy: creating regions...\n",
      "sfepy:     Omega\n",
      "sfepy:     Bottom\n",
      "sfepy:     Top\n",
      "sfepy: ...done in 0.01 s\n",
      "sfepy: equation \"elasticity\":\n",
      "sfepy: dw_lin_elastic.2.Omega(solid.D, v, u)\n",
      "     + dw_contact_sphere.2.Top(cs.f, cs.c, cs.r, v, u)\n",
      "     = 0\n",
      "sfepy: using solvers:\n",
      "                ts: no ts\n",
      "               nls: newton\n",
      "                ls: ls\n",
      "sfepy: updating variables...\n",
      "sfepy: ...done\n",
      "sfepy: setting up dof connectivities...\n",
      "sfepy: ...done in 0.00 s\n",
      "sfepy: matrix shape: (3630, 3630)\n",
      "sfepy: assembling matrix graph...\n",
      "sfepy: ...done in 0.02 s\n",
      "sfepy: matrix structural nonzeros: 242172 (1.84e+00% fill)\n",
      "sfepy: updating variables...\n",
      "sfepy: ...done\n",
      "sfepy: updating materials...\n",
      "sfepy:     solid\n",
      "sfepy:     cs\n",
      "sfepy: ...done in 0.00 s\n",
      "sfepy: nls: iter: 0, residual: 3.774654e+01 (rel: 1.000000e+00)\n",
      "sfepy:   residual:    0.01 [s]\n",
      "sfepy:     matrix:    0.03 [s]\n",
      "sfepy:      solve:    0.37 [s]\n",
      "sfepy: nls: iter: 1, residual: 2.646454e-01 (rel: 7.011118e-03)\n",
      "sfepy:   residual:    0.00 [s]\n",
      "sfepy:     matrix:    0.03 [s]\n",
      "sfepy:      solve:    0.38 [s]\n",
      "sfepy: nls: iter: 2, residual: 9.627698e-02 (rel: 2.550618e-03)\n",
      "sfepy: solved in 1 steps in 0.83 seconds\n",
      "[-0.10085293841463769]\n"
     ]
    }
   ],
   "source": [
    "#Solution\n",
    "import numpy as np\n",
    "import matplotlib.pyplot as plt\n",
    "from UQpy.run_model.RunModel import RunModel\n",
    "from UQpy.run_model.model_execution.ThirdPartyModel import ThirdPartyModel\n",
    "\n",
    "samples=np.array([1e4,2e-2]).reshape(1,-1)\n",
    "\n",
    "m1=ThirdPartyModel(model_script='PythonAsThirdParty_model.py', model_object_name = 'run_model',\n",
    "                  input_template='elastic_contact_sphere.py', var_names=['k', 'f0'],\n",
    "                  output_script='process_3rd_party_output.py', output_object_name='read_output')\n",
    "model_serial_third_party=RunModel(samples=samples,  model=m1)\n",
    "\n",
    "print(model_serial_third_party.qoi_list)"
   ]
  },
  {
   "cell_type": "markdown",
   "id": "462ed88e",
   "metadata": {},
   "source": [
    "# Exercise 3 \n",
    "\n",
    "\n",
    "## Forward propagation of uncertainties using $\\texttt{UQpy}$\n",
    "\n",
    "In this exercise you have to propagate uncertainties through the Bouc-Wen computational model. Randomness is assumed in the systems' parameters [$k, r_{0}, \\delta$]. The parameters are considered to be independent, with the following probability distribution models:\n",
    "\n",
    "- Parameter $k$ is assumed to be uniformly distributed, i.e., $k \\sim \\mathcal{U}(0.5, 2.5)$. \n",
    "- Parameter $r_{0}$ is assumed to be normally distributed, i.e., $r_0 \\sim \\mathcal{N}(2.5, 0.01)$. \n",
    "- Parameter $\\delta$ is assumed to be normally distributed, i.e.,  $\\delta \\sim\\mathcal{N}(0.9, 0.04)$.\n",
    "\n",
    "Realizations of the input uncertain parameters are obtained via Monte Carlo sampling."
   ]
  },
  {
   "cell_type": "markdown",
   "id": "e0768d33",
   "metadata": {},
   "source": [
    "## Part 1\n",
    "\n",
    "Create a distribution object for each parameter (random variable)."
   ]
  },
  {
   "cell_type": "markdown",
   "id": "ca4f7bdc",
   "metadata": {},
   "source": [
    "### Step 1\n",
    "\n",
    "Import the necessary probability models i.e., $\\texttt{Uniform}$ and $\\texttt{Normal}$  from the $\\texttt{distributions}$ module of $\\texttt{UQpy}$."
   ]
  },
  {
   "cell_type": "code",
   "execution_count": null,
   "id": "ee3b734d",
   "metadata": {},
   "outputs": [],
   "source": [
    "# Solution\n",
    "from UQpy.distributions import Uniform, Normal"
   ]
  },
  {
   "cell_type": "markdown",
   "id": "79c23dca",
   "metadata": {},
   "source": [
    "### Step 2\n",
    "\n",
    "For each random variable create a $\\texttt{Distribution}$ object. Define a joint distribution object from the independent distributions. To this end you will also need: \n",
    "\n",
    "- Import $\\texttt{JointIndependent}$ class from $\\texttt{distributions}$ module of $\\texttt{UQpy}$.\n",
    "\n",
    "- Create a $\\texttt{JointIndependent}$  object by providing a list of the marginal distributions."
   ]
  },
  {
   "cell_type": "code",
   "execution_count": null,
   "id": "4a5c91be",
   "metadata": {},
   "outputs": [],
   "source": [
    "#Solution\n",
    "from UQpy.distributions import JointIndependent\n",
    "dist1=Uniform(0.5,2.0)\n",
    "dist2=Normal(2.5, 0.01)\n",
    "dist3=Normal(0.9, 0.04)\n",
    "joint_distribution=JointIndependent(marginals=[dist1,dist2,dist3])"
   ]
  },
  {
   "cell_type": "markdown",
   "id": "d5e7df60",
   "metadata": {},
   "source": [
    "## Part 2\n",
    "\n",
    "Create a $\\texttt{MonteCarloSampling}$ object.\n",
    "\n",
    "- Import  $\\texttt{MonteCarloSampling}$ class from the $\\texttt{sampling}$ module of $\\texttt{UQpy}$.\n",
    "\n",
    "- Create $\\texttt{MonteCarloSampling}$ object, i.e., provide the $\\texttt{JointIndependent}$ as the $\\texttt{distributions}$ parameter and define the number of samples: $\\texttt{nsamples}=10$."
   ]
  },
  {
   "cell_type": "code",
   "execution_count": null,
   "id": "7aed239c",
   "metadata": {},
   "outputs": [],
   "source": [
    "#Solution\n",
    "from UQpy.sampling import MonteCarloSampling\n",
    "x = MonteCarloSampling(distributions=joint_distribution, nsamples=10)\n",
    "samples = x.samples"
   ]
  },
  {
   "cell_type": "markdown",
   "id": "a8089f22",
   "metadata": {},
   "source": [
    "## Part 3\n",
    "\n",
    "Forward propagation of the undertainties through the Bouc-Wen computational model.\n",
    "\n",
    "- Import $\\texttt{RunModel}$ from $\\texttt{UQpy.run}$\\_$\\texttt{model}$ module.\n",
    "- Instantiate a $\\texttt{PythonModel}$ object that serves as an input to the $\\texttt{RunModel}$ object\n",
    "- Run the model for the sets of parameters using the $\\texttt{run}$ method of the $\\texttt{RunModel}$ object.\n",
    "- Plot the histogram of the response."
   ]
  },
  {
   "cell_type": "code",
   "execution_count": null,
   "id": "3061f8ce",
   "metadata": {},
   "outputs": [],
   "source": [
    "#Solution\n",
    "from UQpy.run_model.RunModel import RunModel\n",
    "\n",
    "##Run the model\n",
    "m2=PythonModel(model_script='model.py', model_object_name='boucwen_runmodel', \n",
    "               var_names=['k', 'r0', 'delta'])\n",
    "boucwen = RunModel(model=m2)\n",
    "boucwen.run(samples=samples)\n",
    "qoi = boucwen.qoi_list\n",
    "\n",
    "\n",
    "import matplotlib.pyplot as plt\n",
    "\n",
    "# An \"interface\" to matplotlib.axes.Axes.hist() method\n",
    "n, bins, patches = plt.hist(x=boucwen.qoi_list, bins='auto')\n",
    "plt.grid(axis='y', alpha=0.75)\n",
    "plt.xlabel('Response')\n",
    "plt.ylabel('Frequency')"
   ]
  }
 ],
 "metadata": {
  "celltoolbar": "Slideshow",
  "kernelspec": {
   "display_name": "Python 3 (ipykernel)",
   "language": "python",
   "name": "python3"
  },
  "language_info": {
   "codemirror_mode": {
    "name": "ipython",
    "version": 3
   },
   "file_extension": ".py",
   "mimetype": "text/x-python",
   "name": "python",
   "nbconvert_exporter": "python",
   "pygments_lexer": "ipython3",
   "version": "3.9.12"
  }
 },
 "nbformat": 4,
 "nbformat_minor": 5
}
