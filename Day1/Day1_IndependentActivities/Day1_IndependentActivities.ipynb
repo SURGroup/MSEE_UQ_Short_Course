{
 "cells": [
  {
   "cell_type": "markdown",
   "id": "a95e3914",
   "metadata": {
    "slideshow": {
     "slide_type": "slide"
    }
   },
   "source": [
    "# MSEE UQ short course:  The $\\texttt{UQpy}$ library\n",
    "\n",
    "Application of forward UQ using the $\\texttt{UQpy}$ modules $\\texttt{run}\\_\\texttt{model}, \\texttt{distributions}$ and $\\texttt{sampling}$.\n",
    "\n",
    "Detailed instructions on how to use these modules can be found in the $\\texttt{UQpy}$ documentation.\n",
    "\n",
    "\n",
    "https://uqpyproject.readthedocs.io/en/latest/runmodel_doc.html\n",
    "\n",
    "https://uqpyproject.readthedocs.io/en/latest/distributions/index.html\n",
    "\n",
    "https://uqpyproject.readthedocs.io/en/latest/sampling/index.html"
   ]
  },
  {
   "cell_type": "markdown",
   "id": "768e5636",
   "metadata": {},
   "source": [
    "# Activity 1 \n",
    "\n",
    "\n",
    "## Linking a $\\texttt{Python}$ computational model with $\\texttt{UQpy}$\n",
    "\n",
    "The model consists in a highly nonlinear single degree of freedom system represented by a Bouc-Wen model of hysteresis:\n",
    "\n",
    "   \\begin{align*}\n",
    "    & m \\ddot{z}(t) + k r(t) = - \\ddot{u}(t) \\\\\n",
    "    & \\dot{r}(t) = \\dot{z} - \\beta \\vert\\dot{z}(t)\\vert \\vert r(t) \\vert^{2} r(t) - \\gamma \\dot{z}(t) \\vert r(t) \\vert^{3}\n",
    "   \\end{align*}\n",
    "\n",
    "where $\\ddot{u}(t)$ is the ground motion exciting the system. The Bouc-Wen model of hysteresis is parameterized by stiffness $k$, parameter $r_{0}=\\sqrt[3]{\\frac{1}{\\beta-\\gamma}}$ and parameter $\\delta=\\frac{\\beta}{\\beta+\\gamma}$. Forward simulation of the problem is performed via a 4th-order Runge-Kutta method. \n",
    "This example makes use of the following file:\n",
    "- $\\texttt{USACA47.035.txt}$ that contains the El-Centro earthquake ground motion time-series, downloaded from the Center for Engineering Strong Motion Data."
   ]
  },
  {
   "cell_type": "markdown",
   "id": "2bf1867c",
   "metadata": {},
   "source": [
    "## Activities\n",
    "\n",
    "Run the Bou-Wen model with $\\texttt{RunModel}$ for three different sets of parameters by linking this $\\texttt{PythonModel}$ with $\\texttt{RunModel}$."
   ]
  },
  {
   "cell_type": "code",
   "execution_count": null,
   "id": "bab99688",
   "metadata": {},
   "outputs": [],
   "source": []
  },
  {
   "cell_type": "markdown",
   "id": "698fc25e",
   "metadata": {},
   "source": [
    "# Activity 2 \n",
    "\n",
    "\n",
    "## Linking a third-party software computational model with $\\texttt{UQpy}$\n",
    "\n",
    "\n",
    "The model consists of an identation test performed on a cuboid sample with the aid an elastic contact sphere. \n",
    "\n",
    "\n",
    "<img src=\"IndentationTest.png\" width=\"500\"> \n",
    "\n",
    "\n",
    "The example is adopted from  https://sfepy.org/doc-devel/examples/linear_elasticity/elastic_contact_sphere.html. The analysis is performed using the Python package $\\texttt{sfepy}$. Visualization can be performed with Paraview. Even though the problem is composed by linear materials and described by small deformations, it is highly non-linear due to the contact boundary conditions between the sphere and the cube. \n",
    "\n",
    "The system is parameterized by two parameters: (i) the elastic sphere stiffness parameter $\\texttt{k}$ for positive penetration and, (ii) the force $\\texttt{f0}$ for zero penetration. The response of the model consists of the maximum absolute value of the displacement field at the identation point. "
   ]
  },
  {
   "cell_type": "markdown",
   "id": "52a87e73",
   "metadata": {},
   "source": [
    "## Activities\n",
    "\n",
    "Propagate the input parameter uncertainties through the third-party computational contact sphere model. \n",
    "In the indentation test model, randomness is assumed in the systems' parameters $\\texttt{k} \\sim \\mathcal{U}(0.01, 0.1)$ and $\\texttt{f0} \\sim \\mathcal{N}(10^5, 2\\times 10^3)$. The parameters are considered to be independent. Generate 5 realizations of the joint input distribution using Latin hypercube sampling and print the corresponding responses."
   ]
  },
  {
   "cell_type": "code",
   "execution_count": null,
   "id": "b022e768",
   "metadata": {},
   "outputs": [],
   "source": []
  },
  {
   "cell_type": "markdown",
   "id": "6e7c9d8d",
   "metadata": {},
   "source": [
    "# Activity 3 \n",
    "\n",
    "\n",
    "## Linking a $\\texttt{ThirdParty}$ computational model with $\\texttt{UQpy}$\n",
    "\n",
    "The model consists of the Rankine-Hugoniot equations. These equations describe the relationship between the states on both sides of a shock wave and express the conservation of mass, momentum and energy:\n",
    "\n",
    "   \\begin{align*}\n",
    "    & \\rho_0 U_s = \\rho_1(U_s -u_p)\\\\\n",
    "    & P_1=\\rho_0 U_s u_p \\\\\n",
    "    & E_1 =\\frac{1}{2}(P_1+P_0)(\\frac{1}{\\rho_0}-\\frac{1}{\\rho_1})\n",
    "   \\end{align*}\n",
    "\n",
    "given the relationship between $U_s, u_p$ can be computed and subsequently the quantities $\\rho_1, P_1$ and $E_1$ can be computed. We know that the relationship between the shock velocity $U_s$ and particle velocity $u_p$ is given by a cubic polynomial expression as follows:\n",
    "\n",
    "   \\begin{align*}\n",
    "    U_s = a_0 + a_1 \\cdot u_p + a_2 \\cdot u_p^2+ a_3 \\cdot u_p^3\n",
    "   \\end{align*}\n",
    "   \n",
    "where the polynomial parameters are uniformly distributed in the following ranges:\n",
    "\n",
    "   \\begin{align*}\n",
    "    & \\texttt{a}\\_\\texttt{0} \\sim \\mathcal{U}(5.3, 7.9) \\\\\n",
    "    & \\texttt{a}\\_\\texttt{1} \\sim \\mathcal{U}(0.83, 1.12) \\\\\n",
    "    & \\texttt{a}\\_\\texttt{2} \\sim \\mathcal{U}(-0.014, -0.002) \\\\\n",
    "    & \\texttt{a}\\_\\texttt{3} \\sim \\mathcal{U}(3.68e-4, 4.59e-4)\n",
    "   \\end{align*}\n",
    "\n",
    "By generating 1000 random samples of the latter distributions, propagate the polynomial parameter uncertainties and plot the evolution of all $\\rho_1, P_1, E_1$ versus the particle velocity $u_s$. The initial density of the material is provided as $\\rho_0=3.52 gr/cm^3$.\n",
    "You are provided with the $\\texttt{HugoniotCalculations.py}$ python script. The goal of this activity is to treat this function as a $\\texttt{ThirdPartyModel}$ and propagate the uncertainty using the  $\\texttt{sampling}$ module of $\\texttt{UQpy}$."
   ]
  },
  {
   "cell_type": "code",
   "execution_count": null,
   "id": "2e6ce2f6",
   "metadata": {},
   "outputs": [],
   "source": []
  }
 ],
 "metadata": {
  "celltoolbar": "Slideshow",
  "kernelspec": {
   "display_name": "Python 3 (ipykernel)",
   "language": "python",
   "name": "python3"
  },
  "language_info": {
   "codemirror_mode": {
    "name": "ipython",
    "version": 3
   },
   "file_extension": ".py",
   "mimetype": "text/x-python",
   "name": "python",
   "nbconvert_exporter": "python",
   "pygments_lexer": "ipython3",
   "version": "3.9.12"
  }
 },
 "nbformat": 4,
 "nbformat_minor": 5
}
