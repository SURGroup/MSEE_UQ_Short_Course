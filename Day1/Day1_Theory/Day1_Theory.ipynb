{
 "cells": [
  {
   "cell_type": "markdown",
   "metadata": {},
   "source": [
    "<span style=\"font-size:2em;\"> &nbsp;&nbsp;&nbsp;&nbsp;&nbsp;&nbsp;&nbsp;&nbsp;&nbsp; <b>MSEE: Short Course on Uncertainty Quantification </b></span>\n",
    "<br></br>"
   ]
  },
  {
   "cell_type": "markdown",
   "metadata": {
    "cell_style": "split"
   },
   "source": [
    "<span style=\"font-size:1.2em;\"> &nbsp;&nbsp;&nbsp;&nbsp;&nbsp;&nbsp;&nbsp;&nbsp;&nbsp; <b>Instructors</b></span>\n",
    "<br></br>\n",
    "\n",
    "<span style=\"font-size:1.1em; font-family:Arial\">Assistant Research Prof. Dimitris Giovanis</span>\n",
    "<img src=\"./photos/Dimitris.png\" width=\"200\"> \n",
    "    \n",
    "    \n",
    "<span style=\"font-size:1.1em; font-family:Arial\">Associate Prof. Michael Shields</span>\n",
    "\n",
    "  <img src=\"./photos/Mike.png\" width=\"200\"> \n",
    "</ul>   \n",
    "\n",
    "\n",
    "\n",
    "\n",
    "<br></br>\n",
    "<br></br>\n",
    "<br></br>"
   ]
  },
  {
   "cell_type": "markdown",
   "metadata": {
    "cell_style": "split"
   },
   "source": [
    "<span style=\"font-size:1.0em;\"> &nbsp;&nbsp;&nbsp;&nbsp;&nbsp;&nbsp;&nbsp;&nbsp;&nbsp; <b>The team</b></span>\n",
    "<br></br>\n",
    "\n",
    "<span style=\"font-size:1.1em; font-family:Arial\">Dr. Dimitris Tsapetis (Post-doc at CaSE)</span>\n",
    "\n",
    "<span style=\"font-size:1.1em; font-family:Arial\">Katiana Kontolati (PhD candidate)</span>\n",
    "\n",
    "<span style=\"font-size:1.1em; font-family:Arial\">Mohit Chauchan (PhD candidate)</span>\n",
    "\n",
    "<span style=\"font-size:1.1em; font-family:Arial\">Lohit Vandanarpu (PhD candidate)</span>"
   ]
  },
  {
   "cell_type": "markdown",
   "metadata": {
    "slideshow": {
     "slide_type": "slide"
    }
   },
   "source": [
    "<span style=\"font-size:2em;\"> &nbsp;&nbsp;&nbsp;&nbsp;&nbsp;&nbsp;&nbsp;&nbsp;&nbsp; <b>Motivation</b></span>\n"
   ]
  },
  {
   "cell_type": "markdown",
   "metadata": {
    "slideshow": {
     "slide_type": "-"
    }
   },
   "source": [
    "<ul style=\"margin-top:0px\">\n",
    "    <li><span style=\"font-size:1.3em; font-family:Arial\">Uncertainty plays an outsized role in our understanding of materials and structures in extreme conditions.</span></li>\n",
    "</ul>\n",
    "<br></br>"
   ]
  },
  {
   "cell_type": "markdown",
   "metadata": {
    "slideshow": {
     "slide_type": "fragment"
    }
   },
   "source": [
    "<ul style=\"margin-top:0px\">\n",
    "    <ul style=\"margin-top:0px\">\n",
    "        <li><span style=\"font-size:1.1em; font-family:Arial\">Physics-based models possess uncertainty in the form of their mathematical abstraction</span></li>\n",
    "    </ul>\n",
    "</ul>"
   ]
  },
  {
   "cell_type": "markdown",
   "metadata": {
    "slideshow": {
     "slide_type": "fragment"
    }
   },
   "source": [
    "<ul style=\"margin-top:0px\">\n",
    "    <ul style=\"margin-top:0px\">\n",
    "        <ul style=\"margin-top:0px\">\n",
    "            <li><span style=\"font-size:1.0em; font-family:Arial\">Mathematical models are imperfect <b>approximations</b> of true physics</span></li>\n",
    "        </ul>\n",
    "    </ul>\n",
    "</ul>"
   ]
  },
  {
   "cell_type": "markdown",
   "metadata": {
    "slideshow": {
     "slide_type": "fragment"
    }
   },
   "source": [
    "<ul style=\"margin-top:0px\">\n",
    "    <ul style=\"margin-top:0px\">\n",
    "        <li><span style=\"font-size:1.1em; font-family:Arial\">The parameters of physics-based models must be learned from incomplete, imperfect, and noisy data</span></li>\n",
    "    </ul>\n",
    "</ul>"
   ]
  },
  {
   "cell_type": "markdown",
   "metadata": {
    "slideshow": {
     "slide_type": "fragment"
    }
   },
   "source": [
    "<ul style=\"margin-top:0px\">\n",
    "    <ul style=\"margin-top:0px\">\n",
    "        <li><span style=\"font-size:1.1em; font-family:Arial\">Some physical phenomena are inherently stochastic or result from stochastic processes.</span></li>\n",
    "    </ul>\n",
    "</ul>"
   ]
  },
  {
   "cell_type": "markdown",
   "metadata": {
    "slideshow": {
     "slide_type": "fragment"
    }
   },
   "source": [
    "<ul style=\"margin-top:0px\">\n",
    "    <ul style=\"margin-top:0px\">\n",
    "        <ul style=\"margin-top:0px\">\n",
    "            <li><span style=\"font-size:1.0em; font-family:Arial\">Model parameters may not be deterministic</span></li>\n",
    "        </ul>\n",
    "    </ul>\n",
    "</ul>"
   ]
  },
  {
   "cell_type": "markdown",
   "metadata": {
    "slideshow": {
     "slide_type": "fragment"
    }
   },
   "source": [
    "<ul style=\"margin-top:0px\">\n",
    "    <ul style=\"margin-top:0px\">\n",
    "        <li><span style=\"font-size:1.1em; font-family:Arial\">Experimental results can be imprecise, imperfect, noisy, and/or qualitative</span></li>\n",
    "    </ul>\n",
    "</ul>"
   ]
  },
  {
   "cell_type": "markdown",
   "metadata": {
    "slideshow": {
     "slide_type": "fragment"
    }
   },
   "source": [
    "<ul style=\"margin-top:0px\">\n",
    "    <li><span style=\"font-size:1.3em; font-family:Arial\">These factors confound to muddy our understanding of materials and structures - especially under extreme conditions.</span></li>\n",
    "</ul>"
   ]
  },
  {
   "cell_type": "markdown",
   "metadata": {
    "slideshow": {
     "slide_type": "slide"
    }
   },
   "source": [
    "<span style=\"font-size:2em;\"> &nbsp;&nbsp;&nbsp;&nbsp;&nbsp;&nbsp;&nbsp;&nbsp;&nbsp; <b>Types of uncertainty</b></span>"
   ]
  },
  {
   "cell_type": "markdown",
   "metadata": {
    "cell_style": "split"
   },
   "source": [
    "\n",
    "<ul style=\"margin-top:40px\">\n",
    "    <li><span style=\"font-size:1.3em; font-family:Arial\"><b>Aleatory Uncertainty:</b> Uncertainty due to inherent randomness / stochasticity</span></li>\n",
    "    <ul>\n",
    "        <li><span style=\"font-size:1.1em; font-family:Arial\">Naturally treated with probability theory</span></li>\n",
    "        <li><span style=\"font-size:1.1em; font-family:Arial\">Cannot be reduced</span></li>\n",
    "    </ul>\n",
    "    <br></br>\n",
    "    <li><span style=\"font-size:1.3em; font-family:Arial\"><b>Epistemic Uncertainty:</b> Uncertainty caused by a lack of data, knowledge or information.</span></li>\n",
    "    <ul>\n",
    "        <li><span style=\"font-size:1.1em; font-family:Arial\">Several proposed mathematical treatments.</span></li>\n",
    "        <li><span style=\"font-size:1.1em; font-family:Arial\">We will use probability theory here.</span></li>\n",
    "        <li><span style=\"font-size:1.1em; font-family:Arial\">We will specifically study two types:</span></li>\n",
    "        <ol style=\"margin-top:0px\">\n",
    "            <li><span style=\"font-size:0.9em; font-family:Arial\">Model-form uncertainty: Uncertainty in selecting the form of a mathematical model.</span></li>\n",
    "            <li><span style=\"font-size:0.9em; font-family:Arial\">Parameter uncertainty: Uncertainty in identifying the precise values for model parameters</span></li>\n",
    "        </ol>\n",
    "    <li><span style=\"font-size:1.1em; font-family:Arial\">In theory can be reduced</span></li>\n",
    "    </ul>\n",
    "</ul>\n",
    "<br></br>\n",
    "<br></br>\n",
    "<br></br>\n",
    "<br></br>\n",
    "<br></br>\n",
    "<br></br>\n",
    "<br></br>"
   ]
  },
  {
   "cell_type": "markdown",
   "metadata": {
    "cell_style": "split"
   },
   "source": [
    "<br></br>\n",
    "<div align=\"center\">\n",
    "  <img src=\"./photos/Day1_slide2.png\" width=\"1200\"> \n",
    "</div>\n",
    "<br></br>\n",
    "<br></br>"
   ]
  },
  {
   "cell_type": "markdown",
   "metadata": {
    "slideshow": {
     "slide_type": "slide"
    }
   },
   "source": [
    "<span style=\"font-size:2em;\"> &nbsp;&nbsp;&nbsp;&nbsp;&nbsp;&nbsp;&nbsp;&nbsp;&nbsp; <b>Uncertainty Quantification Methodology - Day 1</b></span>"
   ]
  },
  {
   "cell_type": "markdown",
   "metadata": {},
   "source": [
    "<div align=\"center\">\n",
    "  <img src=\"./photos/Day1_4.png\" width=\"2000\"> \n",
    "</div>\n",
    "<br></br>"
   ]
  },
  {
   "cell_type": "markdown",
   "metadata": {
    "slideshow": {
     "slide_type": "slide"
    }
   },
   "source": [
    "<span style=\"font-size:2em;\"> &nbsp;&nbsp;&nbsp;&nbsp;&nbsp;&nbsp;&nbsp;&nbsp;&nbsp; <b>Uncertainty Quantification Methodology - Day 1</b></span>"
   ]
  },
  {
   "cell_type": "markdown",
   "metadata": {},
   "source": [
    "<br></br>\n",
    "<div align=\"center\">\n",
    "  <img src=\"./photos/Day1_5.png\" width=\"2000\"> \n",
    "</div>\n",
    "<br></br>\n",
    "<br></br>\n",
    "<br></br>"
   ]
  },
  {
   "cell_type": "markdown",
   "metadata": {
    "slideshow": {
     "slide_type": "slide"
    }
   },
   "source": [
    "<span style=\"font-size:2em;\"> &nbsp;&nbsp;&nbsp;&nbsp;&nbsp;&nbsp;&nbsp;&nbsp;&nbsp; <b>Uncertainty Quantification Methodology - Day 2</b></span>"
   ]
  },
  {
   "cell_type": "markdown",
   "metadata": {},
   "source": [
    "<div align=\"center\">\n",
    "  <img src=\"./photos/Day1_6.png\" width=\"2000\"> \n",
    "</div>\n",
    "<br></br>\n",
    "<br></br>"
   ]
  },
  {
   "cell_type": "markdown",
   "metadata": {
    "slideshow": {
     "slide_type": "slide"
    }
   },
   "source": [
    "<span style=\"font-size:2em;\"> &nbsp;&nbsp;&nbsp;&nbsp;&nbsp;&nbsp;&nbsp;&nbsp;&nbsp; <b>Uncertainty Quantification Methodology - Day 3</b></span>"
   ]
  },
  {
   "cell_type": "markdown",
   "metadata": {},
   "source": [
    "<div align=\"center\">\n",
    "  <img src=\"./photos/Day1_7.png\" width=\"2000\"> \n",
    "</div>\n",
    "<br></br>\n",
    "<br></br>\n",
    "<br></br>"
   ]
  },
  {
   "cell_type": "markdown",
   "metadata": {
    "slideshow": {
     "slide_type": "slide"
    }
   },
   "source": [
    "<span style=\"font-size:2em;\"> &nbsp;&nbsp;&nbsp;&nbsp;&nbsp;&nbsp;&nbsp;&nbsp;&nbsp; <b>Uncertainty Quantification Methodology - Day 3</b></span>"
   ]
  },
  {
   "cell_type": "markdown",
   "metadata": {},
   "source": [
    "<br></br>\n",
    "<div align=\"center\">\n",
    "  <img src=\"./photos/Day1_8.png\" width=\"2000\"> \n",
    "</div>\n",
    "<br></br>\n",
    "<br></br>"
   ]
  },
  {
   "cell_type": "markdown",
   "metadata": {
    "slideshow": {
     "slide_type": "slide"
    }
   },
   "source": [
    "<span style=\"font-size:2em;\"> &nbsp;&nbsp;&nbsp;&nbsp;&nbsp;&nbsp;&nbsp;&nbsp;&nbsp; <b>Uncertainty Quantification Methodology</b></span>"
   ]
  },
  {
   "cell_type": "markdown",
   "metadata": {},
   "source": [
    "<div align=\"center\">\n",
    "  <img src=\"./photos/Day1_9.png\" width=\"2000\"> \n",
    "</div>\n",
    "<br></br>"
   ]
  },
  {
   "cell_type": "markdown",
   "metadata": {
    "slideshow": {
     "slide_type": "slide"
    }
   },
   "source": [
    "<span style=\"font-size:2em;\"> &nbsp;&nbsp;&nbsp;&nbsp;&nbsp;&nbsp;&nbsp;&nbsp;&nbsp; <b>Uncertainty Quantification Methodology</b></span>"
   ]
  },
  {
   "cell_type": "markdown",
   "metadata": {},
   "source": [
    "<div align=\"center\">\n",
    "  <img src=\"./photos/Day1_10.png\" width=\"2000\"> \n",
    "</div>\n",
    "<br></br>"
   ]
  },
  {
   "cell_type": "markdown",
   "metadata": {
    "slideshow": {
     "slide_type": "slide"
    }
   },
   "source": [
    "<span style=\"font-size:2em;\"> &nbsp;&nbsp;&nbsp;&nbsp;&nbsp;&nbsp;&nbsp;&nbsp;&nbsp; <b>Example Problem from MSEE</b></span>"
   ]
  },
  {
   "cell_type": "markdown",
   "metadata": {},
   "source": [
    "<div align=\"left\">\n",
    "          <img src=\"./photos/Day1_11.png\" width=\"1900\"> \n",
    "      </div>\n",
    "      <br></br>\n",
    "      <br></br>\n",
    "      <br></br>\n",
    "      <br></br>\n",
    "      <br></br>\n",
    "      <br></br>\n",
    "      <br></br>\n",
    "      <br></br>\n",
    "      <br></br>\n",
    "      <br></br>\n",
    "      <br></br>"
   ]
  },
  {
   "cell_type": "markdown",
   "metadata": {
    "slideshow": {
     "slide_type": "slide"
    }
   },
   "source": [
    "<span style=\"font-size:2em;\"> &nbsp;&nbsp;&nbsp;&nbsp;&nbsp;&nbsp;&nbsp;&nbsp;&nbsp; <b>Example Problem from MSEE</b></span>"
   ]
  },
  {
   "cell_type": "markdown",
   "metadata": {},
   "source": [
    "<div align=\"left\">\n",
    "          <img src=\"./photos/Day1_12.png\" width=\"1900\"> \n",
    "      </div>\n",
    "      \n",
    " <br></br>\n",
    "<br></br>"
   ]
  },
  {
   "cell_type": "markdown",
   "metadata": {
    "slideshow": {
     "slide_type": "slide"
    }
   },
   "source": [
    "<span style=\"font-size:2em;\"> &nbsp;&nbsp;&nbsp;&nbsp;&nbsp;&nbsp;&nbsp;&nbsp;&nbsp; <b>Example Problem from MSEE</b></span>"
   ]
  },
  {
   "cell_type": "markdown",
   "metadata": {},
   "source": [
    "<div align=\"left\">\n",
    "          <img src=\"./photos/Day1_13.png\" width=\"900\"> \n",
    "      </div>"
   ]
  },
  {
   "cell_type": "markdown",
   "metadata": {
    "slideshow": {
     "slide_type": "slide"
    }
   },
   "source": [
    "<span style=\"font-size:2em;\"> &nbsp;&nbsp;&nbsp;&nbsp;&nbsp;&nbsp;&nbsp;&nbsp;&nbsp; <b>Example Problem from MSEE</b></span>"
   ]
  },
  {
   "cell_type": "markdown",
   "metadata": {},
   "source": [
    "<div align=\"left\">\n",
    "          <img src=\"./photos/Day1_14.png\" width=\"1350\"> \n",
    "      </div>\n",
    "<br></br>"
   ]
  },
  {
   "cell_type": "markdown",
   "metadata": {
    "slideshow": {
     "slide_type": "slide"
    }
   },
   "source": [
    "<span style=\"font-size:2em;\"> &nbsp;&nbsp;&nbsp;&nbsp;&nbsp;&nbsp;&nbsp;&nbsp;&nbsp; <b>Example Problem from MSEE</b></span>"
   ]
  },
  {
   "cell_type": "markdown",
   "metadata": {},
   "source": [
    "<div align=\"left\">\n",
    "          <img src=\"./photos/Day1_15.png\" width=\"2300\"> \n",
    "      </div>"
   ]
  },
  {
   "cell_type": "markdown",
   "metadata": {
    "slideshow": {
     "slide_type": "slide"
    }
   },
   "source": [
    "<span style=\"font-size:2em;\"> &nbsp;&nbsp;&nbsp;&nbsp;&nbsp;&nbsp;&nbsp;&nbsp;&nbsp; <b>Example Problem from MSEE</b></span>"
   ]
  },
  {
   "cell_type": "markdown",
   "metadata": {},
   "source": [
    "<div align=\"left\">\n",
    "          <img src=\"./photos/Day1_17.png\" width=\"2050\"> \n",
    "      </div>"
   ]
  },
  {
   "cell_type": "markdown",
   "metadata": {
    "slideshow": {
     "slide_type": "slide"
    }
   },
   "source": [
    "<span style=\"font-size:2em;\"> &nbsp;&nbsp;&nbsp;&nbsp;&nbsp;&nbsp;&nbsp;&nbsp;&nbsp; <b>$\\texttt{UQpy}$ Software</b></span>"
   ]
  },
  {
   "cell_type": "markdown",
   "metadata": {
    "cell_style": "split"
   },
   "source": [
    "<div align=\"center\">\n",
    "  <img src=\"./photos/Day1_18_1.png\" width=\"1200\"> \n",
    "</div>\n",
    "<br></br>"
   ]
  },
  {
   "cell_type": "markdown",
   "metadata": {
    "cell_style": "split"
   },
   "source": [
    "<br></br>\n",
    "<ul>\n",
    "    <li>Developed collaboratively by members of Shields Uncertainty Research Group (<span style=\"color:rgb(51, 51, 153)\"><b>SURG</b></span>) at <b>Johns Hopkins University</b></li>\n",
    "    <br></br>\n",
    "    <li>Version control through git</li>\n",
    "    Version 4.0.2 available for download/installation via GitHub\n",
    "    <a href=\"https://github.com/SURGroup/UQpy\">https://github.com/SURGroup/UQpy</a>\n",
    "    <br></br>\n",
    "    <br></br>\n",
    "    <li>Working in Windows/Linux/Mac</li>\n",
    "    <br></br>\n",
    "    <li>Distributed under the <span style=\"color:red\">MIT License</span></li>\n",
    "    <br></br>\n",
    "    <li> <a href=\"https://uqpyproject.readthedocs.io/en/latest/\">https://uqpyproject.readthedocs.io/en/latest/</a></li>\n",
    "</ul>"
   ]
  },
  {
   "cell_type": "markdown",
   "metadata": {
    "slideshow": {
     "slide_type": "slide"
    }
   },
   "source": [
    "<span style=\"font-size:2em;\"> &nbsp;&nbsp;&nbsp;&nbsp;&nbsp;&nbsp;&nbsp;&nbsp;&nbsp; <b>$\\texttt{UQpy}$ framework</b></span>"
   ]
  },
  {
   "cell_type": "markdown",
   "metadata": {},
   "source": [
    "\n",
    "<span style=\"color:blue; font-size:1.3em; font-family:Arial\"><b>$\\texttt{UQpy}$ modules</b></span> \n",
    "<br></br>\n",
    "\n",
    "\n",
    "<div align=\"center\">\n",
    "  <img src=\"./photos/day1_UQpy.png\" width=\"1400\"> \n",
    "</div>\n",
    "<br></br>\n",
    "<br></br>\n",
    "<br></br>\n",
    "<br></br>\n",
    "\n",
    "<br></br>\n",
    "\n",
    "<br></br>"
   ]
  },
  {
   "cell_type": "markdown",
   "metadata": {
    "slideshow": {
     "slide_type": "slide"
    }
   },
   "source": [
    "<span style=\"font-size:2em;\"> &nbsp;&nbsp;&nbsp;&nbsp;&nbsp;&nbsp;&nbsp;&nbsp;&nbsp; <b>Outline of the short course</b></span>\n",
    "<br></br>"
   ]
  },
  {
   "cell_type": "markdown",
   "metadata": {
    "cell_style": "split"
   },
   "source": [
    "<div align=\"center\">\n",
    "  <img src=\"./photos/fig2.png\" width=\"1200\"> \n",
    "</div>"
   ]
  },
  {
   "cell_type": "markdown",
   "metadata": {
    "cell_style": "split"
   },
   "source": [
    "<br></br>\n",
    "<br></br>\n",
    "<br></br>\n",
    "\n",
    "\n",
    "<div align=\"center\">\n",
    "  <img src=\"./photos/day2_UQpy.png\" width=\"1400\"> \n",
    "</div>\n",
    "\n",
    "<br></br>\n",
    "\n",
    "<br></br>\n",
    "\n",
    "<br></br>"
   ]
  },
  {
   "cell_type": "markdown",
   "metadata": {
    "cell_style": "center",
    "slideshow": {
     "slide_type": "slide"
    }
   },
   "source": [
    "<span style=\"font-size:2em;\"> &nbsp;&nbsp;&nbsp;&nbsp;&nbsp;&nbsp;&nbsp;&nbsp;&nbsp; <b>Outline of the short course</b></span>\n",
    "<br></br>"
   ]
  },
  {
   "cell_type": "markdown",
   "metadata": {
    "cell_style": "split"
   },
   "source": [
    "<div align=\"center\">\n",
    "  <img src=\"./photos/fig1.png\" width=\"1200\"> \n",
    "</div>"
   ]
  },
  {
   "cell_type": "markdown",
   "metadata": {
    "cell_style": "split"
   },
   "source": [
    "<br></br>\n",
    "<br></br>\n",
    "<br></br>\n",
    "\n",
    "<div align=\"center\">\n",
    "  <img src=\"./photos/day3_UQpy.png\" width=\"5000\"> \n",
    "</div>\n",
    "\n",
    "<br></br>\n",
    "\n",
    "<br></br>\n",
    "\n",
    "<br></br>"
   ]
  },
  {
   "cell_type": "markdown",
   "metadata": {
    "slideshow": {
     "slide_type": "slide"
    }
   },
   "source": [
    "<span style=\"font-size:2em;\"> &nbsp;&nbsp;&nbsp;&nbsp;&nbsp;&nbsp;&nbsp;&nbsp;&nbsp; <b>Outline of the short course</b></span>\n",
    "<br></br>"
   ]
  },
  {
   "cell_type": "markdown",
   "metadata": {
    "cell_style": "split"
   },
   "source": [
    "<div align=\"center\">\n",
    "  <img src=\"./photos/fig3.png\" width=\"1200\"> \n",
    "</div>"
   ]
  },
  {
   "cell_type": "markdown",
   "metadata": {
    "cell_style": "split"
   },
   "source": [
    "<br></br>\n",
    "<br></br>\n",
    "<br></br>\n",
    "\n",
    "<div align=\"center\">\n",
    "  <img src=\"./photos/day4_UQpy.png\" width=\"5000\"> \n",
    "</div>\n",
    "\n",
    "<br></br>\n",
    "\n",
    "<br></br>\n",
    "\n",
    "<br></br>"
   ]
  },
  {
   "cell_type": "markdown",
   "metadata": {
    "slideshow": {
     "slide_type": "slide"
    }
   },
   "source": [
    "<span style=\"font-size:2em;\"> &nbsp;&nbsp;&nbsp;&nbsp;&nbsp;&nbsp;&nbsp;&nbsp;&nbsp; <b>Driving simulations: $\\texttt{RunModel}$</b></span>"
   ]
  },
  {
   "cell_type": "markdown",
   "metadata": {
    "slideshow": {
     "slide_type": "slide"
    }
   },
   "source": [
    "<span style=\"font-size:2em;\"> &nbsp;&nbsp;&nbsp;&nbsp;&nbsp;&nbsp;&nbsp;&nbsp;&nbsp; <b>Driving simulations: $\\texttt{RunModel}$</b></span>"
   ]
  },
  {
   "cell_type": "markdown",
   "metadata": {},
   "source": [
    "<span style=\"color:blue; font-size:1.3em; font-family:Arial\"><b>Forward simulations:</b></span> \n",
    "    \n",
    "<span style=\"font-size:1.1em; font-family:Arial\">$\\texttt{UQpy}$ class $\\texttt{RunModel}$ can initiate forward simulations $Y=\\mathcal{W}(X)$  by interacting with: </span> \n",
    "\n",
    "- <span style=\"font-size:1.1em; font-family:Arial\">$\\texttt{Python}$ computational models.</span>\n",
    "    - <span style=\"font-size:1.1em; font-family:Arial\">The user must provide the **filename** of a '$\\texttt{.py}$' file that contains $\\mathcal{W}(\\cdot)$ (written in $\\texttt{Python3}$).</span>\n",
    "- <span style=\"font-size:1.1em; font-family:Arial\">Third-party computational models.</span>\n",
    "    - <span style=\"font-size:1.1em; font-family:Arial\">Interaction through ASCII **text-based** input files.</span>\n"
   ]
  },
  {
   "cell_type": "markdown",
   "metadata": {
    "cell_style": "split"
   },
   "source": [
    "<span style=\"font-size:1.1em; font-family:Arial\">$\\texttt{RunModel}$ can be executed in parallel: </span> \n",
    "<ul>\n",
    "    <li><span style=\"font-size:1.1em; font-family:Arial\">Employs the $\\texttt{OpenMPI}$ framework with the aid of $\\texttt{mpi4py}$ library  when running  either $\\texttt{Python}$ or third-party software models.</span>\n",
    " </li>\n",
    "</ul>\n",
    "    \n",
    "<br></br>\n",
    "<br></br>\n",
    "<br></br>\n",
    "<br></br>\n",
    "<br></br>\n",
    "<br></br>\n",
    "<br></br>\n",
    "<br></br>\n",
    "<br></br>"
   ]
  },
  {
   "cell_type": "markdown",
   "metadata": {
    "cell_style": "split"
   },
   "source": [
    "\n",
    "<div align=\"center\">\n",
    "  <img src=\"./photos/Architecture_Workflow.png\" width=\"800\"> \n",
    "</div>"
   ]
  },
  {
   "cell_type": "markdown",
   "metadata": {
    "slideshow": {
     "slide_type": "slide"
    }
   },
   "source": [
    "<span style=\"font-size:2em;\"> &nbsp;&nbsp;&nbsp;&nbsp;&nbsp;&nbsp;&nbsp;&nbsp;&nbsp; <b>Driving simulations: $\\texttt{RunModel}$</b></span>"
   ]
  },
  {
   "cell_type": "markdown",
   "metadata": {},
   "source": [
    "<span style=\"font-size:1.3em; font-family:Arial\"><b>Instantiating an object of $\\texttt{RunModel}$ :</b></span> "
   ]
  },
  {
   "cell_type": "code",
   "execution_count": null,
   "metadata": {},
   "outputs": [],
   "source": [
    "from UQpy.run_model import RunModel, PythonModel, ThirdPartyModel"
   ]
  },
  {
   "cell_type": "markdown",
   "metadata": {
    "cell_style": "split"
   },
   "source": [
    "<span style=\"font-size:1.1em; font-family:Arial\">Workflow:</span> \n",
    "\n",
    "<ul>\n",
    "    <li>\n",
    "        $m=\\texttt{PythonModel(model}$_$\\texttt{script}$, $\\texttt{model}$_$\\texttt{object}$_$\\texttt{name}$, $\\texttt{output}$_$\\texttt{script}$, $\\texttt{output}$_$\\texttt{object}$_$\\texttt{name}$)\n",
    "    </li>\n",
    "    <li>$\\texttt{W}\\texttt{ = RunModel(model=m}$</li>\n",
    "    <li>$\\texttt{W}\\texttt{.run(X)}$</li>\n",
    "    <li>$\\texttt{Y} = \\texttt{W}.\\texttt{qoi}$_$\\texttt{list}$</li> \n",
    "</ul>\n",
    "    \n",
    "<span style=\"font-size:1.1em; font-family:Arial\">Access to the $i^{th}$ sample $\\texttt{x}$$\\text{_}$$\\texttt{i}$ and the corresponding $\\texttt{Y}$$\\text{_}$$\\texttt{i}$: </span> \n",
    "<ul>\n",
    "    <li>$\\texttt{x}$_$\\texttt{i}$=$\\texttt{W}.\\texttt{samples[i]}$</li>\n",
    "    <li>$\\texttt{Y}$_$\\texttt{i}$=$\\texttt{W}.\\texttt{qoi}$_$\\texttt{list[i]}$</li>\n",
    "</ul>    "
   ]
  },
  {
   "cell_type": "markdown",
   "metadata": {
    "cell_style": "split"
   },
   "source": [
    "$\\texttt{model}$_$\\texttt{script}$: A python script with commands to execute the model\n",
    "\n",
    "$\\texttt{model}$ _$\\texttt{object}$ _$\\texttt{name}$: The name of the class or function that executes the model.\n",
    "\n",
    "$\\texttt{input}$_$\\texttt{template}$: A text-based input file with variable placeholders\n",
    "\n",
    "$\\texttt{output}$_$\\texttt{script}$: A python script with commands to post-process the results.\n",
    "\n",
    "$\\texttt{output}$ _$\\texttt{object}$ _$\\texttt{name}$: The name of the class or function that post-processes the output.\n"
   ]
  },
  {
   "cell_type": "markdown",
   "metadata": {},
   "source": [
    "<br></br>\n",
    "<br></br>\n",
    "<br></br>\n",
    "<br></br>\n",
    "<br></br>\n",
    "<br></br>"
   ]
  },
  {
   "cell_type": "markdown",
   "metadata": {
    "slideshow": {
     "slide_type": "slide"
    }
   },
   "source": [
    "<span style=\"font-size:2em;\"> &nbsp;&nbsp;&nbsp;&nbsp;&nbsp;&nbsp;&nbsp;&nbsp;&nbsp; <b>Driving simulations: $\\texttt{RunModel}$</b></span>"
   ]
  },
  {
   "cell_type": "markdown",
   "metadata": {},
   "source": [
    "<span style=\"font-size:1.3em; font-family:Arial\"><b>Example of a $\\texttt{Python}$ model:</b></span> "
   ]
  },
  {
   "cell_type": "markdown",
   "metadata": {},
   "source": [
    "<span style=\"font-size:1.3em; font-family:Arial\">Description of the file $\\texttt{model}$_$\\texttt{script=}$ $\\texttt{model.py}$ that contains a $\\texttt{Python}$ model: $Y = x^2$</span> \n",
    "\n",
    "\n",
    "<span style=\"font-size:1.1em; font-family:Arial\">There are two equivalent ways to define the model: </span> \n",
    "<br></br>"
   ]
  },
  {
   "cell_type": "code",
   "execution_count": null,
   "metadata": {
    "cell_style": "split"
   },
   "outputs": [],
   "source": [
    "## As a class\n",
    "\n",
    "class RegressionModel:\n",
    "    def __init__(self, samples=None):\n",
    "        list1=[]\n",
    "        for x in samples:\n",
    "            y=x**2\n",
    "            list1.append(y)\n",
    "        self.qoi=list1"
   ]
  },
  {
   "cell_type": "code",
   "execution_count": null,
   "metadata": {
    "cell_style": "split"
   },
   "outputs": [],
   "source": [
    "## As a method\n",
    "\n",
    "def RegressionModel(samples=None):\n",
    "    list1=[]\n",
    "    for x in samples:\n",
    "        y=x**2\n",
    "        list1.append(y)\n",
    "    return list1\n"
   ]
  },
  {
   "cell_type": "markdown",
   "metadata": {},
   "source": [
    "<br></br>\n",
    "<br></br>\n",
    "<br></br>\n",
    "<br></br>\n",
    "<br></br>"
   ]
  },
  {
   "cell_type": "markdown",
   "metadata": {
    "slideshow": {
     "slide_type": "slide"
    }
   },
   "source": [
    "<span style=\"font-size:2em;\"> &nbsp;&nbsp;&nbsp;&nbsp;&nbsp;&nbsp;&nbsp;&nbsp;&nbsp; <b>Driving simulations: $\\texttt{RunModel}$</b></span>"
   ]
  },
  {
   "cell_type": "markdown",
   "metadata": {},
   "source": [
    "<span style=\"font-size:1.3em; font-family:Arial\">Generating the samples</span>\n",
    "<ul style=\"margin-top:0px\">\n",
    "    <li>Samples must be 2D where dimension one is the number of samples and dimension two is the dimension of each sample.</li>\n",
    "    </ul"
   ]
  },
  {
   "cell_type": "code",
   "execution_count": null,
   "metadata": {},
   "outputs": [],
   "source": [
    "import numpy as np\n",
    "X = np.array([[1],[2],[3],[4],[5]])\n",
    "print(X.shape)"
   ]
  },
  {
   "cell_type": "markdown",
   "metadata": {},
   "source": [
    "<span style=\"font-size:1.3em; font-family:Arial\">Executing </span><span style=\"font-size:1.1em; font-family:Arial\"> $\\texttt{RunModel}$</span>"
   ]
  },
  {
   "cell_type": "code",
   "execution_count": null,
   "metadata": {},
   "outputs": [],
   "source": [
    "model = PythonModel(model_script='model.py', model_object_name='PythonModel')\n",
    "w = RunModel(model=model, ntasks=1)\n",
    "w.run(X)\n",
    "Y = w.qoi_list\n",
    "print(Y)\n"
   ]
  },
  {
   "cell_type": "markdown",
   "metadata": {},
   "source": [
    "<br></br>\n",
    "<br></br>\n",
    "<br></br>\n",
    "<br></br>\n",
    "\n",
    "<br></br>"
   ]
  },
  {
   "cell_type": "markdown",
   "metadata": {
    "slideshow": {
     "slide_type": "slide"
    }
   },
   "source": [
    "<span style=\"font-size:2em;\"> &nbsp;&nbsp;&nbsp;&nbsp;&nbsp;&nbsp;&nbsp;&nbsp;&nbsp; <b>Driving simulations: $\\texttt{RunModel}$</b></span>"
   ]
  },
  {
   "cell_type": "markdown",
   "metadata": {},
   "source": [
    "<br></br>\n",
    "<span style=\"font-size:1.3em; font-family:Arial\"><b>Example of a third-party software model:</b></span> "
   ]
  },
  {
   "cell_type": "markdown",
   "metadata": {},
   "source": [
    "<span style=\"font-size:1.1em; font-family:Arial\">Requirements:</span> \n",
    "\n",
    "- <span style=\"font-size:1.1em; font-family:Arial\">The  $\\texttt{Python}$ $\\texttt{model}$\\_$\\texttt{script}$ script that executes the third-party software model. This is **not** the computational model itself.</span>\n",
    "\n",
    "- <span style=\"font-size:1.1em; font-family:Arial\">The $\\texttt{input}$\\_$\\texttt{template}$ file that contains placeholders $<,>$ with the variables names inside.</span>\n",
    "\n",
    "- <span style=\"font-size:1.1em; font-family:Arial\">The $\\texttt{output}$\\_$\\texttt{script}$ script that contains the function for retrieving the response and saving it in the attribute $\\texttt{qoi}$\\_$\\texttt{list}$.</span>\n",
    "\n",
    "- <span style=\"font-size:1.1em; font-family:Arial\">Other files and folders, necessary for the execution of the problem.</span>\n",
    "\n",
    "<br></br>\n",
    "<br></br>\n",
    "<br></br>\n",
    "<br></br>\n",
    "<br></br>\n",
    "<br></br>\n",
    "<br></br>"
   ]
  },
  {
   "cell_type": "markdown",
   "metadata": {
    "slideshow": {
     "slide_type": "slide"
    }
   },
   "source": [
    "<span style=\"font-size:2em;\"> &nbsp;&nbsp;&nbsp;&nbsp;&nbsp;&nbsp;&nbsp;&nbsp;&nbsp; <b>Driving simulations: $\\texttt{RunModel}$</b></span>"
   ]
  },
  {
   "cell_type": "markdown",
   "metadata": {},
   "source": [
    "<br></br>\n",
    "<span style=\"font-size:1.3em; font-family:Arial\"><b>Directory structure</b></span> "
   ]
  },
  {
   "cell_type": "markdown",
   "metadata": {},
   "source": [
    "<div align=\"center\">\n",
    "  <img src=\"./photos/third_party.png\" width=\"1600\"> \n",
    "</div>\n",
    "\n",
    "<br></br>\n",
    "<br></br>\n",
    "<br></br>\n",
    "<br></br>\n",
    "<br></br>\n",
    "<br></br>\n",
    "<br></br>"
   ]
  },
  {
   "cell_type": "markdown",
   "metadata": {
    "slideshow": {
     "slide_type": "slide"
    }
   },
   "source": [
    "<span style=\"font-size:2em;\"> &nbsp;&nbsp;&nbsp;&nbsp;&nbsp;&nbsp;&nbsp;&nbsp;&nbsp; <b>Driving simulations: $\\texttt{RunModel}$</b></span>"
   ]
  },
  {
   "cell_type": "markdown",
   "metadata": {},
   "source": [
    "<span style=\"font-size:1.3em; font-family:Arial\"><b>Running a $\\texttt{MATLAB}$ model</b></span> \n",
    "<ul style=\"margin-top:0px\">\n",
    "    <li>$\\texttt{input}$_$\\texttt{template=}$$\\texttt{sum}$_$\\texttt{scalar.m}$</li>\n",
    "    </ul>"
   ]
  },
  {
   "cell_type": "markdown",
   "metadata": {
    "cell_style": "split"
   },
   "source": [
    "<img src=\"./photos/input1.png\" width=\"600\"> \n",
    "<br></br>\n",
    "<br></br>\n",
    "<br></br>\n",
    "<br></br>\n",
    "<br></br>\n",
    "<br></br>\n",
    "<br></br>\n",
    "<br></br>\n",
    "<br></br>\n",
    "<br></br>\n",
    "<br></br>"
   ]
  },
  {
   "cell_type": "code",
   "execution_count": null,
   "metadata": {
    "cell_style": "split"
   },
   "outputs": [],
   "source": [
    "# Function contained in the model_script.py file that runs the MATLAB model\n",
    "\n",
    "def matlab(index):\n",
    "    # Copy the  indexed input_template file from the InputFiles folder to the working directory\n",
    "    command1 = \"cp ./InputFiles/sum_scalar_\" + str(index) + \".m .\"\n",
    "    \n",
    "    # Run the matlab.script using the MATLAB application.\n",
    "    command2 = \"/Applications/MATLAB_R2019a.app/bin/matlab -nosplash -nojvm -nodisplay -nodesktop -r 'run sum_scalar_\" + str(index) + \".m; exit'\"\n",
    "    # Rename the created output file.\n",
    "    command3 = \"mv ./OutputFiles/oupt.out ./OutputFiles/oupt_\" + str(index) + \".out\"\n",
    "    \n",
    "    # Delete the indexed input_template file from the workng directory\n",
    "    command4 = \"rm sum_scalar_\" + str(index) + \".m\"\n",
    "    \n",
    "    os.system(command1)\n",
    "    os.system(command2)\n",
    "    os.system(command3)\n",
    "    os.system(command4)"
   ]
  },
  {
   "cell_type": "markdown",
   "metadata": {
    "slideshow": {
     "slide_type": "slide"
    }
   },
   "source": [
    "<span style=\"font-size:2em;\"> &nbsp;&nbsp;&nbsp;&nbsp;&nbsp;&nbsp;&nbsp;&nbsp;&nbsp; <b>Driving simulations: $\\texttt{RunModel}$</b></span>"
   ]
  },
  {
   "cell_type": "markdown",
   "metadata": {},
   "source": [
    "<br></br>\n",
    "<span style=\"font-size:1.3em; font-family:Arial\"><b>Running a $\\texttt{MATLAB}$ model</b></span> "
   ]
  },
  {
   "cell_type": "code",
   "execution_count": null,
   "metadata": {},
   "outputs": [],
   "source": [
    "# Function contained in the output_script.py file.\n",
    "# Contains the function that reads the output of the .out file\n",
    "\n",
    "def read_sum_scalar(index):\n",
    "    x = np.loadtxt(\"./OutputFiles/oupt_%d.out\" % index)\n",
    "    return x # x will be saved in the qoi_list"
   ]
  },
  {
   "cell_type": "code",
   "execution_count": null,
   "metadata": {},
   "outputs": [],
   "source": [
    "import numpy as np\n",
    "X = np.random.rand(2, 3)\n",
    "model = ThirdPartyModel(model_script='model_script.py', input_template='sum_scalar.m', \n",
    "                        var_names=['var1', 'var2', 'var3'], model_object_name=\"matlab\", \n",
    "                        output_script='output_script.py', output_object_name='read_sum_scalar')\n",
    "m = RunModel(model=model, samples=X, ntasks=1)\n",
    "print(m.qoi_list)\n"
   ]
  },
  {
   "cell_type": "code",
   "execution_count": null,
   "metadata": {},
   "outputs": [],
   "source": [
    "X0 = np.random.rand(3)\n",
    "m.run(X0.reshape(1, -1))\n",
    "print(m.qoi_list)\n"
   ]
  },
  {
   "cell_type": "markdown",
   "metadata": {},
   "source": [
    "<br></br>\n",
    "<br></br>\n",
    "<br></br>"
   ]
  },
  {
   "cell_type": "markdown",
   "metadata": {
    "slideshow": {
     "slide_type": "slide"
    }
   },
   "source": [
    "<span style=\"font-size:2em;\"> &nbsp;&nbsp;&nbsp;&nbsp;&nbsp;&nbsp;&nbsp;&nbsp;&nbsp; <b>Probability theory</b></span>"
   ]
  },
  {
   "cell_type": "markdown",
   "metadata": {
    "slideshow": {
     "slide_type": "-"
    }
   },
   "source": [
    "<br></br>\n",
    "<span style=\"font-size:1.3em; font-family:Arial\"><i>Probability is a measure that is associated with how certain we are about the outcome of an experiment or a mathematical tool to study randomness.</i></span>\n",
    "\n",
    "<br></br>\n",
    "<span style=\"font-size:1.3em; font-family:Arial\">The origin of probability theory lies in physical observations associated with games of chance and was initially based on making broad realizations from observations.</span>\n",
    "<br></br>\n",
    "\n",
    "<span style=\"font-size:1.3em; font-family:Arial\">There are three major views of probability:</span>\n",
    "\n",
    "<ul>\n",
    "    <li><span style=\"font-size:1.1em; font-family:Arial\">Theoretical probability</span></li>\n",
    "<li><span style=\"font-size:1.1em; font-family:Arial\">Experimental probability</span></li>\n",
    "<li><span style=\"font-size:1.1em; font-family:Arial\">Axiomatic probability </span></li>\n",
    "</ul>\n",
    "\n",
    "\n",
    "\n",
    "<br></br>\n",
    "<br></br>\n",
    "<br></br>"
   ]
  },
  {
   "cell_type": "markdown",
   "metadata": {
    "slideshow": {
     "slide_type": "slide"
    }
   },
   "source": [
    "<span style=\"font-size:2em;\"> &nbsp;&nbsp;&nbsp;&nbsp;&nbsp;&nbsp;&nbsp;&nbsp;&nbsp; <b>Probability Theory</b></span>"
   ]
  },
  {
   "cell_type": "markdown",
   "metadata": {
    "cell_style": "split"
   },
   "source": [
    "<span style=\"color:blue; font-size:1.3em; font-family:Arial\"><b>Probability space</b></span> \n",
    "\n",
    "<span style=\"font-size:1.0em; font-family:Arial\">A mathematical space with three components: $\\{{\\Omega}, \\mathcal{B}, {P}\\}:$</span>\n",
    "<ol style=\"margin-top:0px;\">\n",
    "    <li><span style=\"font-size:1.0em; font-family:Arial\"><span style=\"color:blue;\"><b>Sample space</b></span> $(\\Omega)$: Set of all possible <i>outcomes</i> of an experiment.</span></li>\n",
    "    <ul style=\"margin-top:10px;\">\n",
    "      <li><span style=\"font-size:1.0em; font-family:Arial\">Spinning the roulette: ${\\Omega}=\\{1,2,3 \\}$</span></li>\n",
    "      <li><span style=\"font-size:1.0em; font-family:Arial\">sample point $(\\omega)$: Element of the sample space.</span></li>\n",
    "      <ul style=\"margin-top:10px;\">\n",
    "          <li><span style=\"font-size:1.0em; font-family:Arial\">Example 1: Spinning the roulette: $\\omega=\\{ 2\\}$</span></li>\n",
    "      </ul>\n",
    "    </ul>\n",
    "    <br></br>\n",
    "  <li><span style=\"font-size:1.0em; font-family:Arial\"><span style=\"color:blue;\"><b>Event space</b></span> $(\\mathcal{B})$: Collection of all subsets (events) of ${\\Omega}$</span></li>\n",
    "    <ul style=\"margin-top:10px;\">\n",
    "    <li><span style=\"font-size:1.0em; font-family:Arial\"></span>Spinning the roulette event: $A=\\{\\{1,2\\}\\}$</li>\n",
    "    <li><span style=\"font-size:1.0em; font-family:Arial\">Event space: $\\mathcal{B}=\\{\\{1\\}, \\{ 2 \\}, \\{ 3\\}, \\{ 1, 2\\}, \\{ 1, 3\\}, \\{ 2, 3\\}, \\{ 1, 2, 3\\}, \\{ \\} \\}$</span></li>\n",
    "    </ul>\n",
    "    <br></br>\n",
    "  <li><span style=\"font-size:1.0em; font-family:Arial\"><span style=\"color:blue;\"><b>Probability function</b></span> $(P)$: Assigns a number in [0,1] (probability) to each event in $\\mathcal{B}$.</span></li>\n",
    "</ol>\n",
    "\n",
    "<br></br>\n",
    "<br></br>"
   ]
  },
  {
   "cell_type": "markdown",
   "metadata": {
    "cell_style": "split"
   },
   "source": [
    "<div align=\"center\">\n",
    "  <img src=\"./photos/Day1_slide7.png\" width=\"600\"> \n",
    "</div>"
   ]
  },
  {
   "cell_type": "markdown",
   "metadata": {
    "slideshow": {
     "slide_type": "slide"
    }
   },
   "source": [
    "<span style=\"font-size:2em;\"> &nbsp;&nbsp;&nbsp;&nbsp;&nbsp;&nbsp;&nbsp;&nbsp;&nbsp; <b>Probability Theory</b></span>"
   ]
  },
  {
   "cell_type": "markdown",
   "metadata": {},
   "source": [
    "<span style=\"color:blue; font-size:1.3em; font-family:Arial\"><b>Axiomatic approach</b></span> <span style=\"font-size:0.7em; font-family:Arial\">(Andrey Kolmogorov (1903-1987))</span> \n",
    "\n",
    "<span style=\"font-size:1.1em; font-family:Arial\">The probability measure is a mapping from $\\mathcal{B} \\rightarrow [0,1]$</span> \n",
    "\n",
    "\n",
    "<br></br>\n",
    "<span style=\"font-size:1.1em; font-family:Arial\">It satisfies the following <span style=\"text-decoration:underline\">set of axioms</span>:</span> \n",
    "\n",
    "<ol>\n",
    "    <li><span style=\"font-size:1.2em; font-family:Arial\">The probability of an event $A$ is greater than or equal to zero, $P(A) \\ge 0$.</span></li>\n",
    "    <br></br>\n",
    "    <li><span style=\"font-size:1.2em; font-family:Arial\">The probability of any outcome is 1, $P(\\Omega)=1$.</span></li>\n",
    "    <br></br>\n",
    "    <li><span style=\"font-size:1.2em; font-family:Arial\">If the events $A_1, A_2,..., A_n$ are mutually exclusive then, $P(\\cup A_i)=\\sum_{i}P(A_i)$.</span></li>    \n",
    "</ol>\n",
    "<br></br>\n",
    "<br></br>\n",
    "\n",
    "</ul>\n",
    "<br></br>\n",
    "<br></br>\n",
    "<br></br>\n",
    "<br></br>\n",
    "<br></br>"
   ]
  },
  {
   "cell_type": "markdown",
   "metadata": {
    "slideshow": {
     "slide_type": "skip"
    }
   },
   "source": [
    "<span style=\"font-size:2em;\"> &nbsp;&nbsp;&nbsp;&nbsp;&nbsp;&nbsp;&nbsp;&nbsp;&nbsp; <b>Probability Theory</b></span>"
   ]
  },
  {
   "cell_type": "markdown",
   "metadata": {
    "slideshow": {
     "slide_type": "skip"
    }
   },
   "source": [
    "<span style=\"color:blue; font-size:1.3em; font-family:Arial\"><b>Conditional probabilities</b></span>\n",
    "\n",
    "<span style=\"font-size:1.1em; font-family:Arial\">Consider the probability space $\\{\\Omega, \\mathcal{B}, {P} \\}$</span> \n",
    "\n",
    "<span style=\"font-size:1.1em; font-family:Arial\">If $A,B \\in \\mathcal{B}$ and $P(B)\\ge 0$, then the conditional probability of $A$ given $B$ is:</span> \n",
    "\n",
    " \\begin{align*}\n",
    "    & \\text{If} \\ A \\subset B \\rightarrow P(A|B)<1\\\\\n",
    "    P(A|B)=\\frac{P(A\\cap B)}{P(B)}=\\frac{P(B|A)P(B)}{P(B)} \\qquad& \\text{If} \\ B \\subset A \\rightarrow P(A|B)=1\\\\\n",
    "    & \\text{If} \\ A \\cap B \\ne \\emptyset \\rightarrow P(A|B)=0\\\\\n",
    " \\end{align*}\n",
    "\n",
    "<br></br>\n",
    "<span style=\"font-size:1.1em; font-family:Arial\">When you condition on event $B$ then, the $B$ becomes the sample space of the new probability space.</span>\n",
    "\n",
    " \\begin{align*}\n",
    "    & \\Omega \\rightarrow B\\\\\n",
    "    & \\mathcal{B} \\rightarrow \\{ A \\cap B, \\forall A \\in B \\} \\\\\n",
    "    & P \\rightarrow P( \\cdot | B)\\\\\n",
    " \\end{align*}\n",
    " \n",
    " <br></br>\n",
    " <br></br>"
   ]
  },
  {
   "cell_type": "markdown",
   "metadata": {
    "slideshow": {
     "slide_type": "slide"
    }
   },
   "source": [
    "<span style=\"font-size:2em;\"> &nbsp;&nbsp;&nbsp;&nbsp;&nbsp;&nbsp;&nbsp;&nbsp;&nbsp; <b>Random Variables</b></span>"
   ]
  },
  {
   "cell_type": "markdown",
   "metadata": {},
   "source": [
    "<span style=\"color:blue; font-size:1.3em; font-family:Arial\"><b>Definition</b></span>\n",
    "\n",
    "<span style=\"font-size:1.3em; font-family:Arial\">A random variable is a *function* from the sample space $\\Omega$ to the real numbers $X:\\Omega \\rightarrow \\mathbb{R}$</span> \n",
    "\n",
    "<div align=\"center\">\n",
    "  <img src=\"./photos/Day1_slide10.png\" width=\"1400\"> \n",
    "</div>\n",
    "\n",
    "<br></br>\n",
    "<span style=\"font-size:1.3em; font-family:Arial\">Example of random variable</span>\n",
    "\n",
    "\n",
    " \\begin{align*}\n",
    "    &  X =\n",
    "    \\begin{cases}\n",
    "      1, & \\text{if heads}\\\\\n",
    "      0, & \\text{if tails}\n",
    "    \\end{cases}\n",
    " \\end{align*}\n",
    " \n",
    " <br></br>\n",
    " <br></br>\n",
    " <br></br>"
   ]
  },
  {
   "cell_type": "markdown",
   "metadata": {
    "slideshow": {
     "slide_type": "slide"
    }
   },
   "source": [
    "<span style=\"font-size:2em;\"> &nbsp;&nbsp;&nbsp;&nbsp;&nbsp;&nbsp;&nbsp;&nbsp;&nbsp; <b>Random variables in $\\texttt{UQpy}$</b></span>"
   ]
  },
  {
   "cell_type": "markdown",
   "metadata": {},
   "source": [
    "<span style=\"font-size:1.1em; font-family:Arial\">Random variables are defined in $\\texttt{UQpy}$ by first instantiating an object of the $\\texttt{Distribution}$ class.</span>"
   ]
  },
  {
   "cell_type": "markdown",
   "metadata": {},
   "source": [
    "<span style=\"font-size:1.1em; font-family:Arial\">The $\\texttt{distributions}$ module:</span>\n",
    "\n",
    "<ul>\n",
    "    <li><span style=\"font-size:1.1em; font-family:Arial\">Is built upon four base classes: $\\texttt{Distribution}$, $\\texttt{DistributionContinuous1D}$, $\\texttt{DistributionDiscrete1D}$  and  $\\texttt{DistributionND}$.</span></li>\n",
    "    <li><span style=\"font-size:1.1em; font-family:Arial\">A specific distribution is created via subclassing of the base classes.</span></li>\n",
    "    <ul>\n",
    "        <li><span style=\"font-size:0.9em; font-family:Arial\">$\\texttt{UQpy}$ implements a number of well-known distributions with parameters that adhere to those defined in the $\\texttt{scipy.stats}$ package.</span></li>\n",
    "        <li><span style=\"font-size:0.9em; font-family:Arial\">More than 20 available distributions in $\\texttt{UQpy}$.</span></li>\n",
    "        <ul>\n",
    "</ul>\n",
    "<br></br>\n",
    "<br></br>\n",
    "<br></br>"
   ]
  },
  {
   "cell_type": "markdown",
   "metadata": {},
   "source": [
    "<span style=\"font-size:1.3em; font-family:Arial\"><b>Importing a  $\\texttt{Distribution}$:</b></span> "
   ]
  },
  {
   "cell_type": "code",
   "execution_count": null,
   "metadata": {},
   "outputs": [],
   "source": [
    "from UQpy.distributions import Normal"
   ]
  },
  {
   "cell_type": "markdown",
   "metadata": {},
   "source": [
    "<br></br>"
   ]
  },
  {
   "cell_type": "markdown",
   "metadata": {
    "slideshow": {
     "slide_type": "slide"
    }
   },
   "source": [
    "<span style=\"font-size:2em;\"> &nbsp;&nbsp;&nbsp;&nbsp;&nbsp;&nbsp;&nbsp;&nbsp;&nbsp; <b>Distributions</b></span>"
   ]
  },
  {
   "cell_type": "markdown",
   "metadata": {
    "cell_style": "split"
   },
   "source": [
    " <span style=\"color:blue; font-size:1.3em; font-family:Arial\"><b>Cumulative distribution function (cdf)</b></span>\n",
    "\n",
    "<span style=\"font-size:1.1em; font-family:Arial\">For a random variable (discrete and continuous) $X$ on a probability space we define its cumulative distribution function $F_X:\\mathbb{R}\\rightarrow [0, 1]$  as:</span> \n",
    "\n",
    " \\begin{align*}\n",
    "    & F_X(x) \\equiv P(X \\leq x),~\\text{for all} ~ x\\in \\mathbb{R}\n",
    " \\end{align*}\n",
    " \n",
    " \n",
    " <span style=\"color:blue; font-size:1.1em; font-family:Arial\"><b>Properties</b></span>\n",
    "<br></br>\n",
    "<ul>\n",
    "  <li>$\\lim_{x \\to \\infty} F_X(x) = 1$, $\\lim_{x \\to -\\infty} F_X(x) = 0$</li>\n",
    "    <br></br>\n",
    "  <li>non decreasing:</li>\n",
    "  $\\qquad$ if $a\\leq b$, then $ F_X(a)\\leq  F_X(b)$\n",
    "  <br></br>\n",
    "  <br></br>\n",
    "  <li>$P[a< x \\leq b]=F_X(b)- F_X(a)$</li>\n",
    "  <br></br>\n",
    "</ul>"
   ]
  },
  {
   "cell_type": "code",
   "execution_count": null,
   "metadata": {
    "cell_style": "split",
    "scrolled": true
   },
   "outputs": [],
   "source": [
    "import numpy as np\n",
    "X = Normal(loc=0.0, scale=2.0)\n",
    "print(X)\n",
    "print(X.parameters)\n",
    "\n",
    "import matplotlib.pyplot as plt\n",
    "plt.figure()\n",
    "plt.rcParams[\"figure.figsize\"] = (8, 8)\n",
    "plt.rcParams.update({'font.size': 20})\n",
    "x = np.linspace(-9, 9, 100)\n",
    "plt.plot(x, X.cdf(x), 'k', linewidth=3)\n",
    "plt.grid(True)\n",
    "plt.xlabel(r'x')\n",
    "plt.ylabel('$F_X(x)$')\n",
    "plt.show()\n"
   ]
  },
  {
   "cell_type": "markdown",
   "metadata": {
    "slideshow": {
     "slide_type": "slide"
    }
   },
   "source": [
    "<span style=\"font-size:2em;\"> &nbsp;&nbsp;&nbsp;&nbsp;&nbsp;&nbsp;&nbsp;&nbsp;&nbsp; <b>Distributions</b></span>"
   ]
  },
  {
   "cell_type": "markdown",
   "metadata": {
    "cell_style": "split"
   },
   "source": [
    "<span style=\"color:blue; font-size:1.3em; font-family:Arial\"><b>Probability distribution function (pdf)</b></span>\n",
    "\n",
    "<span style=\"font-size:1.1em; font-family:Arial\">For a random variable $X$ on a probability space we define the probability distribution functions as:</span> \n",
    "\n",
    " \\begin{align*}\n",
    "    & F_x = \\int_{-\\infty}^x f_X(x) dx \\implies f_X(x) =\\frac{dF_X(x)}{dx}\\\\\n",
    " \\end{align*}\n",
    " \n",
    " <span style=\"color:blue; font-size:1.1em; font-family:Arial\"><b>Properties</b></span>\n",
    "<br></br>\n",
    "<ul>\n",
    "  <li>$f_X(x) \\ge 0$</li>\n",
    "    <br></br>\n",
    "  <li>$\\int_{-\\infty}^{\\infty}f_X(\\xi)d\\xi=1$</li>\n",
    "  <br></br>\n",
    "  <li>$\\int_{-\\infty}^x f_X(\\xi)d\\xi =F_X(x)$</li>\n",
    "  <br></br>\n",
    "</ul>\n",
    "\n",
    "<br></br>"
   ]
  },
  {
   "cell_type": "code",
   "execution_count": null,
   "metadata": {
    "cell_style": "split"
   },
   "outputs": [],
   "source": [
    "import matplotlib.pyplot as plt\n",
    "plt.figure()\n",
    "plt.rcParams[\"figure.figsize\"] = (8, 8)\n",
    "plt.rcParams.update({'font.size': 20})\n",
    "x = np.linspace(-9,9, 100)\n",
    "plt.plot(x, X.pdf(x), 'k', linewidth=3)\n",
    "plt.grid(True)\n",
    "plt.xlabel(r'x')\n",
    "plt.ylabel('$f_X(x)$')\n",
    "plt.show()\n"
   ]
  },
  {
   "cell_type": "markdown",
   "metadata": {
    "slideshow": {
     "slide_type": "slide"
    }
   },
   "source": [
    "<span style=\"font-size:2em;\"> &nbsp;&nbsp;&nbsp;&nbsp;&nbsp;&nbsp;&nbsp;&nbsp;&nbsp; <b>Random Variables</b></span>"
   ]
  },
  {
   "cell_type": "markdown",
   "metadata": {
    "cell_style": "split"
   },
   "source": [
    "<span style=\"color:blue; font-size:1.3em; font-family:Arial\"><b>Moments</b></span>\n",
    "\n",
    "<br></br>\n",
    " \\begin{align*}\n",
    "    & m_n(x)=\\mathbb{E}[X^n]=\\int_{-\\infty}^{+\\infty}x^nf_X(x)dx\\\\\n",
    " \\end{align*}\n",
    " \n",
    " <br></br>\n",
    "\n",
    "<span style=\"color:blue; font-size:1.3em; font-family:Arial\"><b>Central moments</b></span>\n",
    "<br></br>\n",
    "\\begin{align*}\n",
    "    & K_n(x)=\\mathbb{E}[(X-\\mu_X)^n]=\\int_{-\\infty}^{+\\infty}(x-\\mu_X)^nf_X(x)dx\\\\\n",
    " \\end{align*}\n",
    " <br></br>\n",
    " <br></br>\n",
    " <br></br>\n",
    " <br></br>\n",
    " <br></br>\n",
    " <br></br>"
   ]
  },
  {
   "cell_type": "markdown",
   "metadata": {
    "cell_style": "split",
    "slideshow": {
     "slide_type": "-"
    }
   },
   "source": [
    "\n",
    "<ul>\n",
    "<li>$m_1=\\mu_X=\\mathbb{E}[X]=\\int_{-\\infty}^{+\\infty}xf_X(x)dx$ <span style=\"font-size:1.1em; font-family:Arial\">(mean)</span></li>\n",
    "  <li>$K_2=\\mathbb{E}[(X-\\mu_X)^2]\\Leftrightarrow \\sigma_X=\\sqrt{K_2}$ <span style=\"font-size:1.1em; font-family:Arial\">(variance)</span></li>\n",
    "    <br></br>\n",
    "  <li>$C.o.V=\\frac{\\sigma_X}{\\mu_Χ}$ <span style=\"font-size:1.1em; font-family:Arial\">(Coefficient of variation)</span></li>\n",
    "  <br></br>\n",
    "  <li>$\\gamma_1=\\frac{K_3}{\\sigma_Χ^3}$ <span style=\"font-size:1.1em; font-family:Arial\">(Skewness), $\\gamma_2=\\frac{K_4}{\\sigma_Χ^4}$ <span style=\"font-size:1.1em; font-family:Arial\">(Kyrtosis)</span></li>\n",
    "  <br></br>\n",
    "</ul>"
   ]
  },
  {
   "cell_type": "code",
   "execution_count": null,
   "metadata": {
    "cell_style": "split"
   },
   "outputs": [],
   "source": [
    "moments_list = ['mean', 'variance', 'skewness', 'kurtosis']\n",
    "m = X.moments()\n",
    "print('Moments with inherited parameters:')\n",
    "for i, moment in enumerate(moments_list):\n",
    "    print(moment+' = {0:.2f}'.format(m[i]))\n",
    "    "
   ]
  },
  {
   "cell_type": "markdown",
   "metadata": {
    "slideshow": {
     "slide_type": "slide"
    }
   },
   "source": [
    "<span style=\"font-size:2em;\"> &nbsp;&nbsp;&nbsp;&nbsp;&nbsp;&nbsp;&nbsp;&nbsp;&nbsp; <b>Random Variables</b></span>"
   ]
  },
  {
   "cell_type": "markdown",
   "metadata": {
    "cell_style": "split"
   },
   "source": [
    "<span style=\"color:blue; font-size:1.3em; font-family:Arial\"><b>Joint cumulative distribution function (cdf)</b></span>\n",
    "\n",
    "<span style=\"font-size:1.1em; font-family:Arial\">For variables $X, Y$:</span> \n",
    "\n",
    " \\begin{align*}\n",
    "    & F_{XY}:\\mathbb{R}^2 \\rightarrow [0,1]^2 : F_{XY}(x,y)\\equiv P[(X \\le x) \\cap (Y \\le y)]\\\\\n",
    " \\end{align*}\n",
    "\n",
    " \\begin{align*}\n",
    "    & F_{XY}(x,y)=\\iint_{-\\infty}^{+\\infty}f_{XY}(x,y)dxdy \\\\\n",
    " \\end{align*}\n",
    " \n",
    "<span style=\"color:blue; font-size:1.3em; font-family:Arial\"><b>Joint probability distribution function (pdf)</b></span> \n",
    "\n",
    " \\begin{align*} &f_{XY}=\\frac{\\partial^2}{\\partial x \\partial y}F_{XY}(x,y)\\\\\n",
    " \\end{align*}\n",
    " \n",
    " <span style=\"font-size:1.1em; font-family:Arial\">If $X,Y$ are independent: \n",
    "<br></br>    \n",
    " \\begin{align*} &f_{XY}(x,y)=f_X(x)f_Y(y)\\\\\n",
    " \\end{align*}\n",
    "<br></br>\n",
    "<br></br>\n",
    "<br></br>\n",
    "<br></br>\n",
    "<br></br>\n",
    "<br></br>\n",
    "<br></br>\n"
   ]
  },
  {
   "cell_type": "code",
   "execution_count": null,
   "metadata": {
    "cell_style": "split"
   },
   "outputs": [],
   "source": [
    "from UQpy.distributions import Lognormal, JointIndependent\n",
    "\n",
    "marginal1 = Normal(loc=2., scale=2.)\n",
    "marginal2 = Lognormal(s=1., loc=0., scale=np.exp(5))\n",
    "dist = JointIndependent(marginals=[marginal1, marginal2])\n",
    "\n",
    "X, Y = np.meshgrid(np.arange(-2.0, 6.0, 0.2), \n",
    "                   np.arange(0.01, 500, 1))\n",
    "Z = dist.pdf(x = np.concatenate([X.reshape((-1, 1)),\n",
    "                                 Y.reshape((-1, 1))], axis=1))\n",
    "\n",
    "plt.figure() \n",
    "plt.rcParams['figure.figsize'] = (6, 6)\n",
    "plt.rcParams.update({'font.size': 20})\n",
    "CS = plt.contour(X, Y, Z.reshape(X.shape))\n",
    "plt.xlabel('dimension 1')\n",
    "plt.ylabel('dimension 2')\n",
    "plt.show()\n"
   ]
  },
  {
   "cell_type": "markdown",
   "metadata": {
    "slideshow": {
     "slide_type": "slide"
    }
   },
   "source": [
    "<span style=\"font-size:2em;\"> &nbsp;&nbsp;&nbsp;&nbsp;&nbsp;&nbsp;&nbsp;&nbsp;&nbsp; <b>Monte Carlo simulation</b></span>"
   ]
  },
  {
   "cell_type": "markdown",
   "metadata": {},
   "source": [
    "<ul style=\"margin-top:20px\">\n",
    "  <li><span style=\"font-size:1.1em; font-family:Arial\">Monte Carlo simulation (MCS) is a statistical technique for estimating integrals without analytical solutions </span></li>\n",
    "    <br></br>\n",
    "    <li><span style=\"font-size:1.1em; font-family:Arial\">\"<i>The Monte Carlo Method</i>\" by Metropolis and Ulam, 1949.</span></li>\n",
    "  <br></br>\n",
    "  <li><span style=\"font-size:1.1em; font-family:Arial\">Monte Carlo simulation uses statistical averaging over function evaluations at random samples </span></li>\n",
    "  <br></br>\n",
    "    <li><span style=\"font-size:1.1em; font-family:Arial\">Random (pseudo-random) numbers are generated according to a mathematical formula that makes them appear statistically random (e.g., mid-square method (<i>John von Neumann</i>), multiplicative congruential method (<i>Lehmer</i>)).</span></li>\n",
    "  <br></br>\n",
    "  <li><span style=\"font-size:1.1em; font-family:Arial\">The performance of MCS is based upon the <span style=\"text-decoration:underline\">Law of Large numbers</span> and the <span style=\"text-decoration:underline\">Central Limit Theorem</span>.<span></li>\n",
    "</ul>\n",
    "</span> \n",
    "<br></br>\n",
    "<br></br>\n",
    "<br></br>\n",
    "<br></br>\n",
    "<br></br>\n",
    "<br></br>\n",
    "<br></br>\n",
    "<br></br>\n",
    "<br></br>"
   ]
  },
  {
   "cell_type": "markdown",
   "metadata": {
    "slideshow": {
     "slide_type": "slide"
    }
   },
   "source": [
    "<span style=\"font-size:2em;\"> &nbsp;&nbsp;&nbsp;&nbsp;&nbsp;&nbsp;&nbsp;&nbsp;&nbsp; <b>Monte Carlo simulation</b></span>"
   ]
  },
  {
   "cell_type": "markdown",
   "metadata": {},
   "source": [
    "<span style=\"color:blue; font-size:1.3em; font-family:Arial\"><b>Monte Carlo integration</b></span>\n",
    "\n",
    "<span style=\"font-size:1.1em; font-family:Arial\">Let $f(x)$ be a continuous function and $X$ be a random variable having probability density $p(x)$ in the interval $(a,b)$. Its expected value and variance are:\n",
    "\n",
    " \\begin{align*}\n",
    "    & \\mu_{f(x)}=\\mathbb{E}[f(x)]=\\int_a^bf(x)p(x)dx \\qquad (1)\\\\\n",
    "    & \\sigma^2_{f(x)}=\\int_a^b(f(x)-\\mu_{f(x)})^2p(x)dx\n",
    " \\end{align*}\n",
    "\n",
    "<span style=\"font-size:1.1em; font-family:Arial\">We want to calculate the integral $(1)$</span>\n",
    "    \n",
    "<span style=\"font-size:1.1em; font-family:Arial\"> &nbsp; &nbsp; &nbsp; &nbsp;Generate $n$ samples $x_i \\sim p(x), i=1,...,n$ and compute</span>\n",
    "\\begin{align*}\n",
    "    & I=\\frac{1}{n}\\sum_{i=1}^nf(x_i)\n",
    " \\end{align*}\n",
    "\n",
    "</span> \n",
    "<br></br>\n",
    "<br></br>\n",
    "<br></br>\n",
    "<br></br>\n"
   ]
  },
  {
   "cell_type": "markdown",
   "metadata": {
    "slideshow": {
     "slide_type": "slide"
    }
   },
   "source": [
    "<span style=\"font-size:2em;\"> &nbsp;&nbsp;&nbsp;&nbsp;&nbsp;&nbsp;&nbsp;&nbsp;&nbsp; <b>Monte Carlo simulation</b></span>"
   ]
  },
  {
   "cell_type": "markdown",
   "metadata": {},
   "source": [
    "<span style=\"color:blue; font-size:1.3em; font-family:Arial\"><b>Law of Large numbers</b></span>\n",
    "\n",
    "<span style=\"font-size:1.1em; font-family:Arial\">The <span style=\"text-decoration:underline\">Law of large numbers</span> states that the average of a sequence of $n$ random variables $x_i$ of a known distribution $p(x)$, converges to is expectation as $n\\rightarrow \\infty$:</span>\n",
    "\n",
    " \\begin{align*}\n",
    "    & I=\\frac{1}{n}\\sum_{i=1}^nf(x_i) \\rightarrow \\mathbb{E}[f(x)]=\\int_{a}^bf(x)p(x)dx\n",
    " \\end{align*}\n"
   ]
  },
  {
   "cell_type": "markdown",
   "metadata": {
    "cell_style": "split"
   },
   "source": [
    "<div align=\"center\">\n",
    "  <span style=\"color:blue; font-size:1.3em; font-family:Arial\"><b>Strong law</b></span>\n",
    "    \n",
    "<span style=\"font-size:1.1em; font-family:Arial\">The average converges almost surely to the expected value</span>\n",
    "    \n",
    "\\begin{align*}\n",
    "    & I\\rightarrow \\mathbb{E}[f(x)] \\ \\text{when} \\ n\\rightarrow \\infty \\\\\n",
    "    & P(\\lim_{n\\rightarrow\\infty}(I=\\mathbb{E}[f(x)]))=1\n",
    " \\end{align*}\n",
    "</div>\n",
    "<br></br>\n",
    "<br></br>\n",
    "<br></br>\n",
    "<br></br>"
   ]
  },
  {
   "cell_type": "markdown",
   "metadata": {
    "cell_style": "split"
   },
   "source": [
    "<div align=\"center\">\n",
    "  <span style=\"color:blue; font-size:1.3em; font-family:Arial\"><b>Weak law</b></span>\n",
    "    \n",
    "<span style=\"font-size:1.1em; font-family:Arial\">The average converges in probability towards the expected value</span>\n",
    "    \n",
    "\\begin{align*}\n",
    "    & I \\overset{P}{\\rightarrow} \\mathbb{E}[f(x)] \\ \\text{when} \\ n\\rightarrow \\infty \\\\\n",
    "    & \\lim_{n\\rightarrow\\infty}P(|I-\\mathbb{E}[f(x)]|>\\epsilon)=0\n",
    " \\end{align*}\n",
    "</div>"
   ]
  },
  {
   "cell_type": "markdown",
   "metadata": {
    "slideshow": {
     "slide_type": "slide"
    }
   },
   "source": [
    "<span style=\"font-size:2em;\"> &nbsp;&nbsp;&nbsp;&nbsp;&nbsp;&nbsp;&nbsp;&nbsp;&nbsp; <b>Monte Carlo simulation</b></span>\n",
    "<br></br>"
   ]
  },
  {
   "cell_type": "markdown",
   "metadata": {},
   "source": [
    "<span style=\"color:blue; font-size:1.3em; font-family:Arial\"><b>Central Limit theorem</b></span>\n",
    "\n",
    "<br></br>\n",
    "<span style=\"font-size:1.1em; font-family:Arial\">The <span style=\"text-decoration:underline\">Central Limit theorem</span> states that the sum of identical and independent distribution (i.i.d.) random variables $z_i$ with mean $\\mu$ and finite variance $\\sigma^2$ is asymptotically normally distributed, as $n\\rightarrow \\infty$:</span>\n",
    "\n",
    " \\begin{align*}\n",
    "    & \\frac{\\sum_{i=1}^nz_i-\\mu n}{\\sigma \\sqrt{n}} \\rightarrow \\mathcal{N}(0,1)\n",
    " \\end{align*}\n",
    "    \n",
    "<span style=\"color:blue; font-size:1.1em; font-family:Arial\"><b>Error in MC estimation</b></span>    \n",
    "    \\begin{align*}\n",
    "    & |I-\\mathbb{E}[f(x)]|= \\bigg|\\frac{1}{n}\\sum_{i=1}^nf(x_i)-\\mathbb{E}[f(x)]\\bigg|=\\frac{\\sigma_{f(x)}}{\\sqrt{n}}\\bigg|\\frac{\\sum_{i=1}^nf(x_i)-n\\mathbb{E}[f(x)]}{\\sigma_{f(x)}\\sqrt{n}}\\bigg|=\\frac{\\sigma_{f(x)}}{\\sqrt{n}}|\\mathcal{N}(0,1)|\n",
    " \\end{align*}\n",
    "\n",
    "\n",
    "<ol>\n",
    "    <li><span style=\"font-size:0.9em; font-family:Arial\">The MCS estimate is asymptotically normally distributed.</span></li>    \n",
    "  <li><span style=\"font-size:0.9em; font-family:Arial\">The accuracy of the method can be improved by increasing the number of samples, $n$ , but the convergence is very slow.</span></li>\n",
    "    <li><span style=\"font-size:0.9em; font-family:Arial\">A way to improve performance is to decrease $\\sigma^2_{f(x)}\\rightarrow$ <span style=\"color:red;\"> Variance reduction methods</span></li>\n",
    "</ol>\n",
    "\n",
    "</span> \n",
    "<br></br>\n",
    "<br></br>\n",
    "<br></br>"
   ]
  },
  {
   "cell_type": "markdown",
   "metadata": {
    "slideshow": {
     "slide_type": "slide"
    }
   },
   "source": [
    "<span style=\"font-size:2em;\"> &nbsp;&nbsp;&nbsp;&nbsp;&nbsp;&nbsp;&nbsp;&nbsp;&nbsp; <b>Sample methods / Monte Carlo simulation</b></span>"
   ]
  },
  {
   "cell_type": "markdown",
   "metadata": {},
   "source": [
    "<span style=\"color:blue; font-size:1.3em; font-family:Arial\"> &nbsp;&nbsp;&nbsp;&nbsp;&nbsp;&nbsp;&nbsp;&nbsp;&nbsp; <b>$\\texttt{sampling.MonteCarloSampling}$ class</b></span>"
   ]
  },
  {
   "cell_type": "markdown",
   "metadata": {
    "cell_style": "split"
   },
   "source": [
    "<span style=\"font-size:1.1em; font-family:Arial\">Input to $\\texttt{MonteCarloSampling}$ class:</span>\n",
    "\n",
    "-  <span style=\"font-size:1.1em; font-family:Arial\">$\\texttt{distributions}$: Probability distribution of each random variable. Must be an object (or a list of objects) of the $\\texttt{Distribution}$ class.</span>\n",
    "-  <span style=\"font-size:1.1em; font-family:Arial\">$\\texttt{nsamples}$: number of samples.</span>\n",
    "-  <span style=\"font-size:1.1em; font-family:Arial\">$\\texttt{random}$\\_$\\texttt{state}$: Random seed for the pseudo-random number generator.</span>\n",
    "\n",
    "<br></br>\n",
    "<br></br>\n",
    "<br></br>\n",
    "<br></br>\n",
    "<br></br>"
   ]
  },
  {
   "cell_type": "code",
   "execution_count": null,
   "metadata": {
    "cell_style": "split"
   },
   "outputs": [],
   "source": [
    "from UQpy.sampling import MonteCarloSampling\n",
    "from UQpy.distributions import Normal\n",
    "\n",
    "dist = Normal(loc=0., scale=1.)\n",
    "\n",
    "def f(x):\n",
    "    if x > 3:\n",
    "        return 1\n",
    "    else:\n",
    "        return 0\n",
    "\n",
    "y = np.zeros((1000, 10))\n",
    "for j in range(10):    \n",
    "    x = MonteCarloSampling(distributions=[dist], nsamples=1000)\n",
    "    for i in range(1000):\n",
    "        y[i, j] = f(x.samples[i])\n",
    "    \n",
    "print('estimates:', np.mean(y, axis=0))\n",
    "print('mean of estimates', np.mean(np.mean(y, axis=0)))\n",
    "print('standard deviation:', np.std(np.mean(y, axis=0)))"
   ]
  },
  {
   "cell_type": "markdown",
   "metadata": {
    "slideshow": {
     "slide_type": "slide"
    }
   },
   "source": [
    "<span style=\"font-size:2em;\"> &nbsp;&nbsp;&nbsp;&nbsp;&nbsp;&nbsp;&nbsp;&nbsp;&nbsp; <b>Variance reduction methods</b></span>"
   ]
  },
  {
   "cell_type": "markdown",
   "metadata": {},
   "source": [
    "<br></br>\n",
    "<span style=\"color:blue; font-size:1.3em; font-family:Arial\"><b>Importance sampling</b></span>\n",
    "\n",
    "<span style=\" font-family:Arial font-size:1.1em;\">In many cases the probability density $p(x)$ may not be the best for the integration $\\int_a^bf(x)p(x)dx$. We want to use an alternate density function $q(x)$ to draw samples. The density is called the Importance sampling density.</span>\n",
    "\n",
    " \\begin{align*}\n",
    "    & \\mu_{f(x)}=\\mathbb{E}[f(x)]=\\int_a^bf(x)p(x)dx=\\int_a^b\\frac{f(x)p(x)}{q(x)}q(x)dx=\\mathbb{E}\\bigg[\\frac{f(x)p(x)}{q(x)}\\bigg]\n",
    " \\end{align*}\n",
    "    \n",
    "<span style=\" font-family:Arial font-size:1.1em;\">In this case</span>\n",
    "    \n",
    " \\begin{align*}\n",
    "    & I=\\frac{1}{n}\\sum_{i=1}^n\\frac{f(x_i)p(x_i)}{q(x_i)}=\\frac{1}{n}\\sum_{i=1}^nW(x_i)f(x_i)\n",
    " \\end{align*}\n",
    "    \n",
    "<br></br>\n",
    "<span style=\" font-family:Arial font-size:1.1em;\">where $W(x_i)=\\frac{p(x_i)}{q(x_i)}$ are called importance weights.     \n",
    "</span> \n",
    "\n",
    "<br></br>\n",
    "<br></br>\n"
   ]
  },
  {
   "cell_type": "markdown",
   "metadata": {
    "slideshow": {
     "slide_type": "slide"
    }
   },
   "source": [
    "<span style=\"font-size:2em;\"> &nbsp;&nbsp;&nbsp;&nbsp;&nbsp;&nbsp;&nbsp;&nbsp;&nbsp; <b>Variance reduction methods</b></span>"
   ]
  },
  {
   "cell_type": "markdown",
   "metadata": {},
   "source": [
    "<br></br>\n",
    "<span style=\"color:blue; font-size:1.3em; font-family:Arial\"><b>Importance sampling</b></span>\n",
    "\n",
    "<span style=\"font-size:1.1em; font-family:Arial\">Since the normalizing factor $p(x_i)$ is not known, we need to normalize the weights, i..e. $\\sum_{i=1}^nW(x_i)=1$</span>\n",
    "\n",
    "<br></br>\n",
    " \\begin{align*}\n",
    "    & I=\\frac{\\frac{1}{n}\\sum_{i=1}^nW(x_i)f(x_i)}{\\frac{1}{n} \\sum_{i=1}^n W(x_i)}=\\frac{1}{n} \\sum_{i=1}^n W_n(x_i)f(x_i)\n",
    " \\end{align*}\n",
    " \n",
    " <br></br>\n",
    "    \n",
    "<span style=\"font-size:1.1em; font-family:Arial\">where $W_n(x_i)=\\frac{W(x_i)}{\\frac{1}{n}\\sum_{i=1}^n W(x_i)}$ are called normalized importance weights. The variance is given by:</span>\n",
    "    \n",
    "\\begin{align*}\n",
    "    & \\sigma^2_{q,f(x)}=\\frac{1}{n}\\int_{a}^b\\bigg[\\frac{(f(x)p(x))^2}{q(x)}\\bigg]dx-\\frac{\\mathbb{E}^2_p[f(x)]}{n}\n",
    " \\end{align*}\n",
    "    \n",
    "</span> \n",
    "<br></br>\n",
    "<br></br>\n"
   ]
  },
  {
   "cell_type": "markdown",
   "metadata": {
    "slideshow": {
     "slide_type": "skip"
    }
   },
   "source": [
    "<span style=\"font-size:2em;\"> &nbsp;&nbsp;&nbsp;&nbsp;&nbsp;&nbsp;&nbsp;&nbsp;&nbsp; <b>Variance reduction methods</b></span>"
   ]
  },
  {
   "cell_type": "markdown",
   "metadata": {
    "cell_style": "split",
    "slideshow": {
     "slide_type": "skip"
    }
   },
   "source": [
    "<span style=\"color:blue; font-size:1.3em; font-family:Arial\"><b>Importance sampling</b></span>\n",
    "\n",
    "<span style=\"font-size:1.1em; font-family:Arial\">Suppose we have the function $f(x)=10e^{-2|x-5|}$ and we want to approximate $\\mu_{f(x)}$ and $\\sigma^2_{f(x)}$. The exact value of this integral is 1.</span>\n",
    "\n",
    "    \n",
    "<span style=\"font-size:1.1em; font-family:Arial\">Case I. $p(x)= \\frac{1}{10}\\sim U(0,10)$</span>    \n",
    "    \n",
    "\n",
    "<span style=\"font-size:1.1em; font-family:Arial\">In this case we want to calculate the integral:</span>\n",
    "\n",
    "\\begin{align*}\n",
    "    & \\int_0^{10}10\\exp(-2|x-5|)p(x)dx\n",
    "\\end{align*}\n",
    "    \n",
    "<span style=\"font-size:1.1em; font-family:Arial\">If we run brute force MCS with $n=10^5$ samples $x_i$ from $p(x)$ we estimate:</span>\n",
    "\n",
    " \\begin{align*}\n",
    "    & \\mu_{f(x)}=0.991 \\\\\n",
    "    & \\sigma^2_{f(x)}=2.87\n",
    " \\end{align*}\n",
    "    \n",
    "</span> \n"
   ]
  },
  {
   "cell_type": "markdown",
   "metadata": {
    "cell_style": "split",
    "slideshow": {
     "slide_type": "skip"
    }
   },
   "source": [
    "<br></br>\n",
    "<div align=\"center\">\n",
    "  <img src=\"./photos/Day1_slide23.png\" width=\"600\"> \n",
    "</div>"
   ]
  },
  {
   "cell_type": "markdown",
   "metadata": {
    "slideshow": {
     "slide_type": "skip"
    }
   },
   "source": [
    "<span style=\"font-size:2em;\"> &nbsp;&nbsp;&nbsp;&nbsp;&nbsp;&nbsp;&nbsp;&nbsp;&nbsp; <b>Sampling methods / Variance reduction methods</b></span>"
   ]
  },
  {
   "cell_type": "markdown",
   "metadata": {
    "cell_style": "split",
    "slideshow": {
     "slide_type": "skip"
    }
   },
   "source": [
    "<span style=\"color:blue; font-size:1.3em; font-family:Arial\"><b>Importance sampling: Example</b></span>\n",
    "\n",
    "<span style=\"font-size:1.1em; font-family:Arial\">Case II. $p(x)= \\frac{1}{10}\\sim U(0,10),q(x)\\sim \\mathcal{N}(5,1)$</span>    \n",
    "\n",
    "\n",
    "<span style=\"font-size:1.1em; font-family:Arial\">In this case we want to calculate the integral:</span>\n",
    "\n",
    "<br></br>\n",
    "\\begin{align*}\n",
    "    & \\int_0^{10}10e^{(-2|x-5|)}\n",
    "    \\underbrace{\\sqrt{2\\pi}e^{\\frac{(x-5)^2}{2}}}_{p(x_i)/q(x_i)}\n",
    "    \\underbrace{\\frac{1}{\\sqrt{2\\pi}}\n",
    "     e^{\\frac{-(x-5)^2}{2}}}_{q(x_i)}\n",
    "    dx\n",
    "\\end{align*}\n",
    "\n",
    "\n",
    "<span style=\"font-size:1.1em; font-family:Arial\">Using $n=10^5$ samples $x_i$ from $q(x)$ we estimate:</span>\n",
    "\n",
    " \\begin{align*}\n",
    "    & \\mu_{f(x)}=0.999 \\\\\n",
    "    & \\sigma^2_{f(x)}=0.32 \\ll 2.87\n",
    " \\end{align*}\n",
    "    \n",
    "</span> \n",
    "<br></br>\n",
    "<br></br>\n",
    "<br></br>"
   ]
  },
  {
   "cell_type": "markdown",
   "metadata": {
    "cell_style": "split",
    "slideshow": {
     "slide_type": "skip"
    }
   },
   "source": [
    "<br></br>\n",
    "<div align=\"center\">\n",
    "  <img src=\"./photos/Day1_slide24.png\" width=\"600\"> \n",
    "</div>"
   ]
  },
  {
   "cell_type": "markdown",
   "metadata": {
    "slideshow": {
     "slide_type": "slide"
    }
   },
   "source": [
    "<span style=\"font-size:2em;\"> &nbsp;&nbsp;&nbsp;&nbsp;&nbsp;&nbsp;&nbsp;&nbsp;&nbsp; <b>Variance reduction methods</b></span>\n",
    "<br></br>"
   ]
  },
  {
   "cell_type": "markdown",
   "metadata": {},
   "source": [
    "<span style=\"color:blue; font-size:1.3em; font-family:Arial\"> &nbsp;&nbsp;&nbsp;&nbsp;&nbsp;&nbsp;&nbsp;&nbsp;&nbsp; <b>$\\texttt{sampling.ImportanceSampling}$ class</b></span>"
   ]
  },
  {
   "cell_type": "markdown",
   "metadata": {
    "cell_style": "split"
   },
   "source": [
    "<span style=\"font-size:1.1em; font-family:Arial\">Input to $\\texttt{ImportanceSampling}$ class:</span>\n",
    "\n",
    "-  <span style=\"font-size:1.1em; font-family:Arial\">$\\texttt{pdf}$\\_$\\texttt{target}$: Callable that evaluates the pdf of the target distribution.</span>\n",
    "-  <span style=\"font-size:1.1em; font-family:Arial\">$\\texttt{log}$\\_$\\texttt{pdf}$\\_$\\texttt{target}$: Callable that evaluates the  logarithm of the pdf of the target distribution.</span>\n",
    "-  <span style=\"font-size:1.1em; font-family:Arial\">$\\texttt{args}$\\_$\\texttt{target}$: Positional arguments of the target pdf.</span>\n",
    "-  <span style=\"font-size:1.1em; font-family:Arial\">$\\texttt{proposal}$: proposal pdf to sample from.</span>\n",
    "-  <span style=\"font-size:1.1em; font-family:Arial\">$\\texttt{nsamples}$: number of samples.</span>\n",
    "-  <span style=\"font-size:1.1em; font-family:Arial\">$\\texttt{random}$\\_$\\texttt{state}$: Random seed for the pseudo-random number generator.</span>\n",
    "\n",
    "<br></br>\n",
    "<br></br>"
   ]
  },
  {
   "cell_type": "code",
   "execution_count": null,
   "metadata": {
    "cell_style": "split"
   },
   "outputs": [],
   "source": [
    "from UQpy.distributions import Uniform, Normal\n",
    "from UQpy.sampling import ImportanceSampling\n",
    "import numpy as np\n",
    "\n",
    "def target(x):\n",
    "    return Normal(loc=0., scale=1.).pdf(x[:, 0]) \n",
    "\n",
    "N = 1000\n",
    "p = Normal(loc=3.0, scale=1.0)\n",
    "\n",
    "y0 = np.zeros((N, 10))\n",
    "for j in range(10):    \n",
    "    w = ImportanceSampling(pdf_target=target, nsamples=N, proposal=p)\n",
    "    for i in range(N):\n",
    "        y0[i, j] = w.weights[i] * f(w.samples[i])\n",
    "        \n",
    "print('estimates', np.sum(y0, axis=0))\n",
    "print('mean of estimates', np.mean(np.mean(y, axis=0)))\n",
    "print('standard deviation:', np.std(np.sum(y0, axis=0)))\n"
   ]
  },
  {
   "cell_type": "markdown",
   "metadata": {
    "slideshow": {
     "slide_type": "slide"
    }
   },
   "source": [
    "<span style=\"font-size:2em;\"> &nbsp;&nbsp;&nbsp;&nbsp;&nbsp;&nbsp;&nbsp;&nbsp;&nbsp; <b>Variance reduction methods</b></span>\n",
    "<br></br>"
   ]
  },
  {
   "cell_type": "markdown",
   "metadata": {},
   "source": [
    "<span style=\"color:blue; font-size:1.3em; font-family:Arial\"><b>Stratified sampling</b></span>\n",
    "<br></br>\n",
    "\n",
    "<br></br>\n",
    "<span style=\"font-size:1.1em; font-family:Arial\">Stratified sampling is a <b>family</b> of sampling methods that has been extensively used in the social sciences and financial mathematics owing to its ability to partition a population into <span style=\"text-decoration:underline\">strata</span> that can be weighted, according to some probabilities.</span>\n",
    "\n",
    "<ul>\n",
    "    <li><span style=\"font-size:1.1em; font-family:Arial\">\"True\" Stratified sampling (SS)</span></li>\n",
    "  <br></br>\n",
    "  <li><span style=\"font-size:1.1em; font-family:Arial\">Partially stratified sampling (PSS)</span></li>\n",
    "  <br></br>\n",
    "  <li><span style=\"font-size:1.1em; font-family:Arial\">Latinized partially stratified sampling (LPSS)</span></li>\n",
    "  <br></br>\n",
    "  <li><span style=\"font-size:1.1em; font-family:Arial\">Latin Hypercube sampling (LHS)</span></li>\n",
    "</ul>\n",
    "    \n",
    "</span> \n",
    "<br></br>\n",
    "<br></br>\n",
    "<br></br>\n",
    "<br></br>\n",
    "<br></br>\n",
    "<br></br>"
   ]
  },
  {
   "cell_type": "markdown",
   "metadata": {
    "slideshow": {
     "slide_type": "slide"
    }
   },
   "source": [
    "\n",
    "<span style=\"font-size:2em;\"> &nbsp;&nbsp;&nbsp;&nbsp;&nbsp;&nbsp;&nbsp;&nbsp;&nbsp; <b>Variance reduction methods</b></span>"
   ]
  },
  {
   "cell_type": "markdown",
   "metadata": {},
   "source": [
    "<span style=\"color:blue; font-size:1.3em; font-family:Arial\"><b>Stratified sampling</b></span>\n",
    "\n",
    "<span style=\"font-size:1.1em; font-family:Arial\">Stratified sampling methods operate by dividing the sample space into disjoint strata and sampling from them independently.\n",
    "</span> \n",
    "\n",
    "\n",
    "<span style=\"font-size:1.1em; font-family:Arial\">There exists a spectrum of stratified sampling methods*\n",
    "</span> \n",
    "<ul style=\"margin-top:0px\">\n",
    "    <li>\"True\" stratified sampling (SS) decomposes the full nD space into disjoint strata.</li>\n",
    "    <li>Latin Hypercube Sampling breaks each marginal into disjoint strata</li>\n",
    "    <li>Latin Hypercube Sampling and \"True\" Stratified Sampling lie at opposite sides of the spectrum with intermediate decompositions possible. </li>\n",
    "    </ul>\n",
    "<div align=\"center\">\n",
    "  <img src=\"./photos/Day1_slide26.png\" width=\"1500\"> \n",
    "</div>\n",
    "\n",
    "<span style=\"font-size:0.9em; font-family:Arial\">*Shields & Zhang, 2016: The generalization of Latin Hypercube Sampling, Reliability Engineering & System Safety\n",
    "</span> \n",
    "\n",
    "<br></br>\n",
    "<br></br>\n",
    "<br></br>"
   ]
  },
  {
   "cell_type": "markdown",
   "metadata": {
    "slideshow": {
     "slide_type": "slide"
    }
   },
   "source": [
    "<span style=\"font-size:2em;\"> &nbsp;&nbsp;&nbsp;&nbsp;&nbsp;&nbsp;&nbsp;&nbsp;&nbsp; <b>Variance reduction methods</b></span>"
   ]
  },
  {
   "cell_type": "markdown",
   "metadata": {
    "cell_style": "split"
   },
   "source": [
    "<span style=\"color:blue; font-size:1.5em; font-family:Arial\"><b>Stratified sampling (SS)</b></span>\n",
    "\n",
    "<span style=\"font-size:0.9em; font-family:Arial\">Stratified sampling divides the probability space $\\Omega$ of each random variable $X$ into $k$ subspaces (strata) $R_j \\ j=1,...,k$, for which a MC integration is performed.</span> \n",
    "\n",
    "\\begin{align*}\n",
    "    I=\\sum_{j=1}^k\\int_{R_j}f(x)p(x)dx=\\sum_{j=1}^kV_j \\cdot \\bigg(\\frac{1}{n_j}\\sum_{i=1}^{n_j}f(x_i)\\bigg)\n",
    "\\end{align*}\n",
    "\n",
    "<span style=\"font-size:0.9em; font-family:Arial\">where $V_j \\le 1$ is the volume of the strata, i.e., the probability that a random sample will fall in the stratum $R_j$ and $n_j$ is the number of random samples used for the integration on $R_j$. The variance is:</span>\n",
    " \n",
    "\\begin{align*}\n",
    "    &\\sigma^2_{f(x)}=\\sum_{j=1}^k\\frac{V_j}{n_j}\\sigma^2_{R_{j,f(x)}} \\quad where \\\\ \n",
    "    & \\sigma^2_{R_{j,f(x)}}=\\frac{1}{V_j}\\int_{R_j}\\bigg(f(x)-\\frac{1}{V_j}\\int_{R_j}f(x)p(x)dx\\bigg)^2p(x)dx\n",
    "\\end{align*}\n",
    "    \n",
    "</span> \n",
    "<br></br>\n",
    "<br></br>\n",
    "<br></br>"
   ]
  },
  {
   "cell_type": "markdown",
   "metadata": {
    "cell_style": "split"
   },
   "source": [
    "<div align=\"center\">\n",
    "  <img src=\"./photos/Fig4_Helton.png\" width=\"700\"> \n",
    "</div>\n",
    "\n",
    "<div align=\"center\">\n",
    "<span style=\"font-size:0.7em; font-family:Arial\">Helton et al., 2003,Latin hypercube and the propagation of uncertainty in analyses of complex systems, Reliability Engineering & System safety</span>\n",
    "    </div>"
   ]
  },
  {
   "cell_type": "markdown",
   "metadata": {
    "slideshow": {
     "slide_type": "slide"
    }
   },
   "source": [
    "<span style=\"font-size:2em;\"> &nbsp;&nbsp;&nbsp;&nbsp;&nbsp;&nbsp;&nbsp;&nbsp;&nbsp; <b>Variance reduction methods</b></span>"
   ]
  },
  {
   "cell_type": "markdown",
   "metadata": {},
   "source": [
    "<br></br>\n",
    "<span style=\"color:blue; font-size:1.3em; font-family:Arial\"><b>Latin Hypercube sampling (LHS)</b></span>\n",
    "<br></br>\n",
    "<br></br>\n",
    "<span style=\"font-size:1.1em; font-family:Arial\">Latin hypercube belongs in the family of stratified sampling methods. In this method, we divide the probability space of each variable $X$  into $k$ strata of equal marginal probability $𝑝_𝑘 (𝑥)=1/𝑘$ and sample once from each stratum. </span>\n",
    "    \n",
    "</span> "
   ]
  },
  {
   "cell_type": "markdown",
   "metadata": {
    "cell_style": "split"
   },
   "source": [
    "<span style=\"color:blue; font-size:1.1em; font-family:Arial\"><u>1-dimensional LHS</u></span>\n",
    "\n",
    "<ol>\n",
    "    <li><span style=\"font-size:1.1em; font-family:Arial\">Evenly partition the CDF into 𝑘 regions.</span></li>\n",
    "    <br></br>\n",
    "    <li><span style=\"font-size:1.1em; font-family:Arial\">Sample one point in each region.</span></li>\n",
    "    <ul>\n",
    "          <li><span style=\"font-size:1.1em; font-family:Arial\">Randomly</span></li>\n",
    "          <li><span style=\"font-size:1.1em; font-family:Arial\">Center-wise</span></li>\n",
    "    </ul>\n",
    "</ol>"
   ]
  },
  {
   "cell_type": "markdown",
   "metadata": {
    "cell_style": "split"
   },
   "source": [
    "<div align=\"center\">\n",
    "  <img src=\"./photos/Day1_slide28.png\" width=\"1200\"> \n",
    "</div>"
   ]
  },
  {
   "cell_type": "markdown",
   "metadata": {
    "slideshow": {
     "slide_type": "slide"
    }
   },
   "source": [
    "<span style=\"font-size:2em;\"> &nbsp;&nbsp;&nbsp;&nbsp;&nbsp;&nbsp;&nbsp;&nbsp;&nbsp; <b>Variance reduction methods</b></span>"
   ]
  },
  {
   "cell_type": "markdown",
   "metadata": {
    "cell_style": "split"
   },
   "source": [
    "<br></br>\n",
    "<span style=\"color:blue; font-size:1.3em; font-family:Arial\"><b>Latin Hypercube sampling (LHS)</b></span>\n",
    "<br></br>\n",
    "<br></br>\n",
    "<span style=\"font-size:1.1em; font-family:Arial\">Latin hypercube belongs in the family of stratified sampling methods. In this method, we divide the probability space of each variable $X$  into $k$ strata of equal marginal probability $𝑝_𝑘 (𝑥)=1/𝑘$ and sample once from each stratum.</span> \n",
    "\n",
    "<span style=\"color:blue; font-size:1.1em; font-family:Arial\"><u>2-dimensional LHS</u></span>\n",
    "\n",
    "<ol>\n",
    "    <li><span style=\"font-size:1.1em; font-family:Arial\">$X_1$ and $X_2$ must be independent.</span></li>\n",
    "    <br></br>\n",
    "    <li><span style=\"font-size:1.1em; font-family:Arial\">Generate 1-dimensional LHS for each component.</span></li>\n",
    "    <br></br>\n",
    "    <li><span style=\"font-size:1.1em; font-family:Arial\">Randomly combine the LHS samples by pairing.</span></li>\n",
    "    <ul>\n",
    "          <li><span style=\"font-size:1.1em; font-family:Arial\">One sample at each row and column</span></li>\n",
    "    </ul>\n",
    "</ol>\n",
    "<br></br>\n",
    "<br></br>"
   ]
  },
  {
   "cell_type": "markdown",
   "metadata": {
    "cell_style": "split"
   },
   "source": [
    "<div align=\"center\">\n",
    "  <img src=\"./photos/Fig5_Helton.png\" width=\"400\"> \n",
    "</div>\n",
    "\n",
    "<div align=\"center\">\n",
    "<span style=\"font-size:0.7em; font-family:Arial\">Helton et al., 2003,Latin hypercube and the propagation of uncertainty in analyses of complex systems, Reliability Engineering & System safety</span>\n",
    "    </div>"
   ]
  },
  {
   "cell_type": "markdown",
   "metadata": {
    "slideshow": {
     "slide_type": "slide"
    }
   },
   "source": [
    "<span style=\"font-size:2em;\"> &nbsp;&nbsp;&nbsp;&nbsp;&nbsp;&nbsp;&nbsp;&nbsp;&nbsp; <b>Variance reduction methods</b></span>"
   ]
  },
  {
   "cell_type": "markdown",
   "metadata": {},
   "source": [
    "<span style=\"color:blue; font-size:1.3em; font-family:Arial\"> &nbsp;&nbsp;&nbsp;&nbsp;&nbsp;&nbsp;&nbsp;&nbsp;&nbsp; <b>$\\texttt{sampling.LatinHypercubeSampling}$ class</b></span>"
   ]
  },
  {
   "cell_type": "markdown",
   "metadata": {
    "cell_style": "split"
   },
   "source": [
    "<span style=\"font-size:1.1em; font-family:Arial\">Input to $\\texttt{LatinHypercubeSampling}$ class:</span>\n",
    "\n",
    "-  <span style=\"font-size:1.1em; font-family:Arial\">$\\texttt{distributions}$:  List of $\\texttt{Distribution}$ objects corresponding to each random variable.</span>\n",
    "-  <span style=\"font-size:1.1em; font-family:Arial\">$\\texttt{criterion}$: Criterion for pairing the samples.</span>\n",
    "-  <span style=\"font-size:1.1em; font-family:Arial\">$\\texttt{nsamples}$: number of samples.</span>\n",
    "-  <span style=\"font-size:1.1em; font-family:Arial\">$\\texttt{random}$\\_$\\texttt{state}$: Random seed for the pseudo-random number generator.</span>\n",
    "<br></br>\n",
    "<br></br>\n",
    "<br></br>\n",
    "<br></br>\n",
    "<br></br>"
   ]
  },
  {
   "cell_type": "code",
   "execution_count": null,
   "metadata": {
    "cell_style": "split"
   },
   "outputs": [],
   "source": [
    "from UQpy.sampling.stratified_sampling import LatinHypercubeSampling\n",
    "from UQpy.sampling.stratified_sampling.latin_hypercube_criteria import *\n",
    "\n",
    "dist1 = Uniform(loc=0., scale=1.)\n",
    "dist2 = Uniform(loc=0., scale=1.)\n",
    "x1c = LatinHypercubeSampling(distributions=[dist1, dist2], nsamples=5,\n",
    "                             random_state=np.random.RandomState(789))\n",
    "\n",
    "fig, ax = plt.subplots()\n",
    "plt.rcParams[\"figure.figsize\"] = (6, 6)\n",
    "plt.scatter(x1c.samples[:, 0], x1c.samples[:, 1])\n",
    "ax.set_yticks([0.0, 0.2, 0.4, 0.6, 0.8, 1.0])\n",
    "ax.set_xticks([0.0, 0.2, 0.4, 0.6, 0.8, 1.0])\n",
    "ax.yaxis.grid(True)\n",
    "ax.xaxis.grid(True)\n",
    "plt.ylim(0, 1)\n",
    "plt.xlim(0, 1)\n",
    "plt.show()\n"
   ]
  },
  {
   "cell_type": "markdown",
   "metadata": {
    "slideshow": {
     "slide_type": "slide"
    }
   },
   "source": [
    "<span style=\"font-size:2em;\"> &nbsp;&nbsp;&nbsp;&nbsp;&nbsp;&nbsp;&nbsp;&nbsp;&nbsp; <b>Variance reduction methods</b></span>"
   ]
  },
  {
   "cell_type": "markdown",
   "metadata": {},
   "source": [
    "<span style=\"font-size:1.1em; font-family:Arial\">$\\texttt{UQpy}$ also supports the adaptive version of stratified sampling, Refined Stratified Sampling (RSS) </span>\n",
    "\n",
    "<span style=\"font-size:1.1em; font-family:Arial\">In RSS, strata are actively divided at each iteration and new samples are added. $\\texttt{UQpy}$ supports various RSS methodologies including </span>\n",
    "\n",
    "<ul>\n",
    "    <li><span style=\"font-size:1.1em; font-family:Arial\">Refined Stratified Sampling with random sampling [1]</span></li>\n",
    "    <li><span style=\"font-size:1.1em; font-family:Arial\">Gradient Enhanced Refined Stratified Sampling [2]</span></li>\n",
    "    <li><span style=\"font-size:1.1em; font-family:Arial\">RSS with both rectilinear and Voronoi stratification</span></li>\n",
    "</ul>\n",
    "\n",
    "\n",
    "<br></br>\n",
    "<br></br>\n",
    "<br></br>\n",
    "<br></br>\n",
    "\n",
    "<span style=\"font-size:0.9em; font-family:Arial\">[1] M. Shields et al, 2015, Refined Stratified Sampling for efficient Monte Carlo based uncertainty quantification, Reliability Engineering and System Safety</span>\n",
    "\n",
    "<span style=\"font-size:0.9em; font-family:Arial\">[2] M. Shields, 2018, Adaptive Monte Carlo analysis for strongly nonlinear stochastic systems, Reliability Engineering and System Safety</span>\n",
    "\n",
    "<br></br>"
   ]
  }
 ],
 "metadata": {
  "celltoolbar": "Slideshow",
  "kernelspec": {
   "display_name": "Python 3",
   "language": "python",
   "name": "python3"
  },
  "language_info": {
   "codemirror_mode": {
    "name": "ipython",
    "version": 3
   },
   "file_extension": ".py",
   "mimetype": "text/x-python",
   "name": "python",
   "nbconvert_exporter": "python",
   "pygments_lexer": "ipython3",
   "version": "3.8.5"
  },
  "rise": {
   "autolaunch": true,
   "backimage": "./photos/MseeBackground.png",
   "enable_chalkboard": true,
   "reveal_shortcuts": {
    "chalkboard": {
     "clear": "ctrl-k"
    }
   }
  }
 },
 "nbformat": 4,
 "nbformat_minor": 4
}
